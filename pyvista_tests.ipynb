{
 "cells": [
  {
   "cell_type": "code",
   "execution_count": 1,
   "id": "ac5dd1cb",
   "metadata": {},
   "outputs": [],
   "source": [
    "import click\n",
    "import json\n",
    "import numpy as np\n",
    "import pyvista as pv\n",
    "import scipy.spatial as ss\n",
    "from pymeshfix import MeshFix\n",
    "import pandas as pd\n",
    "import math\n",
    "import matplotlib.pyplot as plt\n",
    "from tqdm import tqdm\n",
    "from shapely.geometry import MultiPolygon, Polygon"
   ]
  },
  {
   "cell_type": "code",
   "execution_count": 2,
   "id": "b546fa93",
   "metadata": {},
   "outputs": [],
   "source": [
    "filename = \"/path/to/cityjson/cityjson.json\"\n",
    "\n",
    "with open(filename) as file:\n",
    "    cm = json.load(file)\n",
    "\n",
    "if \"transform\" in cm:\n",
    "    s = cm[\"transform\"][\"scale\"]\n",
    "    t = cm[\"transform\"][\"translate\"]\n",
    "    verts = [[v[0] * s[0] + t[0], v[1] * s[1] + t[1], v[2] * s[2] + t[2]]\n",
    "            for v in cm[\"vertices\"]]\n",
    "else:\n",
    "    verts = cm[\"vertices\"]\n",
    "\n",
    "# mesh points\n",
    "vertices = np.array(verts)"
   ]
  },
  {
   "cell_type": "code",
   "execution_count": 3,
   "id": "798a644e",
   "metadata": {},
   "outputs": [],
   "source": [
    "surface_types = [\"GroundSurface\", \"WallSurface\", \"RoofSurface\"]\n",
    "\n",
    "def get_surface_boundaries(geom):\n",
    "    \"\"\"Returns the boundaries for all surfaces\"\"\"\n",
    "\n",
    "    if geom[\"type\"] == \"MultiSurface\":\n",
    "        return geom[\"boundaries\"]\n",
    "    elif geom[\"type\"] == \"Solid\":\n",
    "        return geom[\"boundaries\"][0]\n",
    "    else:\n",
    "        raise Exception(\"Geometry not supported\")\n",
    "\n",
    "def to_polydata(geom, vertices):\n",
    "    \"\"\"Returns the polydata mesh from a CityJSON geometry\"\"\"\n",
    "\n",
    "    boundaries = get_surface_boundaries(geom)\n",
    "\n",
    "    f = [[len(r[0])] + r[0] for r in [f for f in boundaries]]\n",
    "    faces = np.hstack(f)\n",
    "\n",
    "    mesh = pv.PolyData(vertices, faces, n_faces=len(boundaries))\n",
    "\n",
    "    if \"semantics\" in geom:        \n",
    "        semantics = geom[\"semantics\"]\n",
    "        if geom[\"type\"] == \"MultiSurface\":\n",
    "            values = semantics[\"values\"]\n",
    "        else:\n",
    "            values = semantics[\"values\"][0]\n",
    "        \n",
    "        mesh[\"semantics\"] = [semantics[\"surfaces\"][i][\"type\"] for i in values]\n",
    "    \n",
    "    return mesh"
   ]
  },
  {
   "cell_type": "code",
   "execution_count": 4,
   "id": "36cc657e",
   "metadata": {},
   "outputs": [],
   "source": [
    "obj = \"GUID_16E64847-3529-4640-9C4A-8FF9EEBA3F0F_5\"\n",
    "\n",
    "building = cm[\"CityObjects\"][obj]"
   ]
  },
  {
   "cell_type": "code",
   "execution_count": 5,
   "id": "62981075",
   "metadata": {},
   "outputs": [
    {
     "data": {
      "text/html": [
       "<table><tr><th>Header</th><th>Data Arrays</th></tr><tr><td>\n",
       "<table>\n",
       "<tr><th>PolyData</th><th>Information</th></tr>\n",
       "<tr><td>N Cells</td><td>8</td></tr>\n",
       "<tr><td>N Points</td><td>22997</td></tr>\n",
       "<tr><td>X Bounds</td><td>7.825e+04, 7.904e+04</td></tr>\n",
       "<tr><td>Y Bounds</td><td>4.576e+05, 4.583e+05</td></tr>\n",
       "<tr><td>Z Bounds</td><td>2.463e+00, 3.748e+01</td></tr>\n",
       "<tr><td>N Arrays</td><td>1</td></tr>\n",
       "</table>\n",
       "\n",
       "</td><td>\n",
       "<table>\n",
       "<tr><th>Name</th><th>Field</th><th>Type</th><th>N Comp</th><th>Min</th><th>Max</th></tr>\n",
       "<tr><td><b>semantics</b></td><td>Cells</td><td><U13</td><td>1</td><td>nan</td><td>nan</td></tr>\n",
       "</table>\n",
       "\n",
       "</td></tr> </table>"
      ],
      "text/plain": [
       "PolyData (0x132174940)\n",
       "  N Cells:\t8\n",
       "  N Points:\t22997\n",
       "  X Bounds:\t7.825e+04, 7.904e+04\n",
       "  Y Bounds:\t4.576e+05, 4.583e+05\n",
       "  Z Bounds:\t2.463e+00, 3.748e+01\n",
       "  N Arrays:\t1"
      ]
     },
     "execution_count": 5,
     "metadata": {},
     "output_type": "execute_result"
    }
   ],
   "source": [
    "dataset = to_polydata(building[\"geometry\"][0], vertices)\n",
    "dataset"
   ]
  },
  {
   "cell_type": "code",
   "execution_count": 6,
   "id": "947b6dc9",
   "metadata": {},
   "outputs": [
    {
     "data": {
      "application/vnd.jupyter.widget-view+json": {
       "model_id": "9d7c1d2c138146129177e514850f4bc3",
       "version_major": 2,
       "version_minor": 0
      },
      "text/plain": [
       "ViewInteractiveWidget(height=768, layout=Layout(height='auto', width='100%'), width=1024)"
      ]
     },
     "metadata": {},
     "output_type": "display_data"
    }
   ],
   "source": [
    "trimesh = dataset.triangulate()\n",
    "trimesh.plot(show_edges=True)"
   ]
  },
  {
   "cell_type": "code",
   "execution_count": 7,
   "id": "c0148343",
   "metadata": {},
   "outputs": [
    {
     "data": {
      "application/vnd.jupyter.widget-view+json": {
       "model_id": "2dd93aedcfe04fee8066c03d25f395ca",
       "version_major": 2,
       "version_minor": 0
      },
      "text/plain": [
       "ViewInteractiveWidget(height=768, layout=Layout(height='auto', width='100%'), width=1024)"
      ]
     },
     "metadata": {},
     "output_type": "display_data"
    }
   ],
   "source": [
    "trimesh.subdivide(1).plot(show_edges=True)"
   ]
  },
  {
   "cell_type": "code",
   "execution_count": 8,
   "id": "f32358cb",
   "metadata": {},
   "outputs": [
    {
     "data": {
      "application/vnd.jupyter.widget-view+json": {
       "model_id": "970ed0ae6f0f43199d17891dda7a980d",
       "version_major": 2,
       "version_minor": 0
      },
      "text/plain": [
       "ViewInteractiveWidget(height=768, layout=Layout(height='auto', width='100%'), width=1024)"
      ]
     },
     "metadata": {},
     "output_type": "display_data"
    }
   ],
   "source": [
    "clean = trimesh.clean()\n",
    "voxel = pv.voxelize(clean, density=clean.length/100)\n",
    "voxel.plot(show_edges=True)"
   ]
  },
  {
   "cell_type": "code",
   "execution_count": 9,
   "id": "5ab5e495",
   "metadata": {},
   "outputs": [
    {
     "name": "stdout",
     "output_type": "stream",
     "text": [
      "Voxel: 11901.150569005207\n",
      "Actual: 11443.31443965503\n"
     ]
    }
   ],
   "source": [
    "print(f\"Voxel: {voxel.volume}\")\n",
    "print(f\"Actual: {trimesh.volume}\")"
   ]
  },
  {
   "cell_type": "code",
   "execution_count": 10,
   "id": "4b6eba9c",
   "metadata": {},
   "outputs": [
    {
     "data": {
      "application/vnd.jupyter.widget-view+json": {
       "model_id": "0afd159988244bd982230a14c36a295d",
       "version_major": 2,
       "version_minor": 0
      },
      "text/plain": [
       "ViewInteractiveWidget(height=768, layout=Layout(height='auto', width='100%'), width=1024)"
      ]
     },
     "metadata": {},
     "output_type": "display_data"
    }
   ],
   "source": [
    "p = pv.Plotter()\n",
    "\n",
    "p.add_mesh(voxel, opacity=0.2)\n",
    "p.add_mesh(pv.PolyData(np.mean(voxel.cell_centers().points, axis=0)), color='white')\n",
    "\n",
    "p.show()"
   ]
  },
  {
   "cell_type": "code",
   "execution_count": 11,
   "id": "0a693304",
   "metadata": {},
   "outputs": [],
   "source": [
    "from helpers.minimumBoundingBox import MinimumBoundingBox"
   ]
  },
  {
   "cell_type": "code",
   "execution_count": 12,
   "id": "ae67acf6",
   "metadata": {},
   "outputs": [
    {
     "data": {
      "text/plain": [
       "458.2351560009694"
      ]
     },
     "execution_count": 12,
     "metadata": {},
     "output_type": "execute_result"
    }
   ],
   "source": [
    "obb_2d = MinimumBoundingBox([(p[0], p[1]) for p in dataset.clean().points])\n",
    "obb_2d.area"
   ]
  },
  {
   "cell_type": "code",
   "execution_count": 13,
   "id": "a06f5e14",
   "metadata": {},
   "outputs": [
    {
     "data": {
      "text/plain": [
       "458.2351560009694"
      ]
     },
     "execution_count": 13,
     "metadata": {},
     "output_type": "execute_result"
    }
   ],
   "source": [
    "obb_2d.area"
   ]
  },
  {
   "cell_type": "code",
   "execution_count": 14,
   "id": "ef3f052f",
   "metadata": {},
   "outputs": [],
   "source": [
    "ground_z = np.min(dataset.clean().points[:, 2])\n",
    "height = np.max(dataset.clean().points[:, 2]) - ground_z\n",
    "box = np.array([[p[0], p[1], ground_z] for p in list(obb_2d.corner_points)])"
   ]
  },
  {
   "cell_type": "code",
   "execution_count": 15,
   "id": "edb1ff4e",
   "metadata": {},
   "outputs": [],
   "source": [
    "obb = pv.PolyData(box).delaunay_2d().extrude([0.0, 0.0, height])"
   ]
  },
  {
   "cell_type": "code",
   "execution_count": 16,
   "id": "76522da5",
   "metadata": {},
   "outputs": [
    {
     "data": {
      "application/vnd.jupyter.widget-view+json": {
       "model_id": "e57c81bf50a94390979b4b9798cdfff2",
       "version_major": 2,
       "version_minor": 0
      },
      "text/plain": [
       "ViewInteractiveWidget(height=768, layout=Layout(height='auto', width='100%'), width=1024)"
      ]
     },
     "metadata": {},
     "output_type": "display_data"
    }
   ],
   "source": [
    "p = pv.Plotter()\n",
    "\n",
    "p.add_mesh(obb, opacity=0.3)\n",
    "p.add_mesh(dataset.triangulate())\n",
    "\n",
    "p.show()"
   ]
  },
  {
   "cell_type": "code",
   "execution_count": 17,
   "id": "96501544",
   "metadata": {},
   "outputs": [
    {
     "data": {
      "text/plain": [
       "11443.31443965503"
      ]
     },
     "execution_count": 17,
     "metadata": {},
     "output_type": "execute_result"
    }
   ],
   "source": [
    "dataset.clean().triangulate().volume"
   ]
  },
  {
   "cell_type": "code",
   "execution_count": 18,
   "id": "6c791453",
   "metadata": {},
   "outputs": [],
   "source": [
    "m = MeshFix(obb.clean().triangulate())\n",
    "m.repair()\n",
    "fixed_obb = m.mesh"
   ]
  }
 ],
 "metadata": {
  "kernelspec": {
   "display_name": "Python 3",
   "language": "python",
   "name": "python3"
  },
  "language_info": {
   "codemirror_mode": {
    "name": "ipython",
    "version": 3
   },
   "file_extension": ".py",
   "mimetype": "text/x-python",
   "name": "python",
   "nbconvert_exporter": "python",
   "pygments_lexer": "ipython3",
   "version": "3.9.5"
  }
 },
 "nbformat": 4,
 "nbformat_minor": 5
}
