{
 "cells": [
  {
   "cell_type": "markdown",
   "id": "9da003ec",
   "metadata": {},
   "source": [
    "# Playing with CityJSON and pyvista\n",
    "\n",
    "This is a notebook with experiments and demonstration of what we can do with `pyvista` and `pymesh`\n",
    "\n",
    "First we do some imports:"
   ]
  },
  {
   "cell_type": "code",
   "execution_count": 1,
   "id": "ac5dd1cb",
   "metadata": {},
   "outputs": [],
   "source": [
    "import json\n",
    "import numpy as np\n",
    "import pyvista as pv\n",
    "from pymeshfix import MeshFix\n",
    "import cityjson"
   ]
  },
  {
   "cell_type": "markdown",
   "id": "cd03d045",
   "metadata": {},
   "source": [
    "Let's load some CityJSON file and have some minor boilerplate code:"
   ]
  },
  {
   "cell_type": "code",
   "execution_count": 2,
   "id": "b546fa93",
   "metadata": {},
   "outputs": [],
   "source": [
    "float_formatter = \"{:.3f}\".format\n",
    "np.set_printoptions(formatter={'float_kind':float_formatter})\n",
    "\n",
    "models = {\n",
    "    \"DenHaag\": \"\",\n",
    "    \"Helsinki\": \"/Users/liberostelios/Dropbox/CityJSON/Helsinki/CityGML_BUILDINGS_LOD2_NOTEXTURES_672496x2.json\",\n",
    "    \"Vienna\": \"/Users/liberostelios/Dropbox/CityJSON/Vienna/Vienna_102081.json\",\n",
    "    \"Montreal\": \"/Users/liberostelios/Dropbox/CityJSON/Montreal/VM05_2009.json\"\n",
    "}\n",
    "\n",
    "filename = models[\"Montreal\"]\n",
    "\n",
    "with open(filename) as file:\n",
    "    cm = json.load(file)\n",
    "\n",
    "if \"transform\" in cm:\n",
    "    s = cm[\"transform\"][\"scale\"]\n",
    "    t = cm[\"transform\"][\"translate\"]\n",
    "    verts = [[v[0] * s[0] + t[0], v[1] * s[1] + t[1], v[2] * s[2] + t[2]]\n",
    "            for v in cm[\"vertices\"]]\n",
    "else:\n",
    "    verts = cm[\"vertices\"]\n",
    "\n",
    "# mesh points\n",
    "vertices = np.array(verts)"
   ]
  },
  {
   "cell_type": "markdown",
   "id": "31dda208",
   "metadata": {},
   "source": [
    "## Load a city object in `pyvista`\n",
    "\n",
    "Pick a city object to play with:"
   ]
  },
  {
   "cell_type": "code",
   "execution_count": 3,
   "id": "36cc657e",
   "metadata": {},
   "outputs": [],
   "source": [
    "# obj = \"GUID_816CA7F9-6357-447D-96E3-C74C5E47AABF_2\" # Den Haag\n",
    "obj = list(cm[\"CityObjects\"].keys())[0]\n",
    "# obj = \"UUID_LOD2_210138-f86f7351-7cad-4e8f-826f_2\" # Vienna\n",
    "# obj = \"B-201391184551-8C37C51A0CFD\" # Montreal building with open edge\n",
    "# B-20139118400-95DC7A2E0FC0 Montreal\n",
    "\n",
    "building = cm[\"CityObjects\"][obj]"
   ]
  },
  {
   "cell_type": "markdown",
   "id": "b36a562d",
   "metadata": {},
   "source": [
    "Loading and plotting the first geometry as a pure `pyvista` (no triangulation done). This sometimes doesn't work because VTK doesn't play well with complex polygons (anything over a quad):"
   ]
  },
  {
   "cell_type": "code",
   "execution_count": 4,
   "id": "62981075",
   "metadata": {},
   "outputs": [
    {
     "data": {
      "application/vnd.jupyter.widget-view+json": {
       "model_id": "f54ca7ce359049bda8dfb48d80691762",
       "version_major": 2,
       "version_minor": 0
      },
      "text/plain": [
       "ViewInteractiveWidget(height=768, layout=Layout(height='auto', width='100%'), width=1024)"
      ]
     },
     "metadata": {},
     "output_type": "display_data"
    }
   ],
   "source": [
    "dataset = cityjson.to_polydata(building[\"geometry\"][0], vertices)\n",
    "dataset = dataset.clean()\n",
    "dataset.plot(show_edges=True)"
   ]
  },
  {
   "cell_type": "markdown",
   "id": "1f3a6768",
   "metadata": {},
   "source": [
    "Now let's load the object as a triangulated mesh (the triangulation is handled by us):"
   ]
  },
  {
   "cell_type": "code",
   "execution_count": 25,
   "id": "947b6dc9",
   "metadata": {},
   "outputs": [
    {
     "data": {
      "application/vnd.jupyter.widget-view+json": {
       "model_id": "f6fbb071073348ccb10af041b223d16c",
       "version_major": 2,
       "version_minor": 0
      },
      "text/plain": [
       "ViewInteractiveWidget(height=768, layout=Layout(height='auto', width='100%'), width=1024)"
      ]
     },
     "metadata": {},
     "output_type": "display_data"
    }
   ],
   "source": [
    "trimesh = cityjson.to_triangulated_polydata(building[\"geometry\"][0], vertices).clean()\n",
    "trimesh.plot()"
   ]
  },
  {
   "cell_type": "markdown",
   "id": "58766b22",
   "metadata": {},
   "source": [
    "## Basic analysis of the mesh\n",
    "\n",
    "First, let's extract some feature edges:"
   ]
  },
  {
   "cell_type": "code",
   "execution_count": 6,
   "id": "3558ad7a",
   "metadata": {},
   "outputs": [
    {
     "data": {
      "application/vnd.jupyter.widget-view+json": {
       "model_id": "3864d1f883cc47559b65325d269face2",
       "version_major": 2,
       "version_minor": 0
      },
      "text/plain": [
       "ViewInteractiveWidget(height=768, layout=Layout(height='auto', width='100%'), width=1024)"
      ]
     },
     "metadata": {},
     "output_type": "display_data"
    }
   ],
   "source": [
    "trimesh.clean().extract_feature_edges().plot()"
   ]
  },
  {
   "cell_type": "markdown",
   "id": "25e9ca35",
   "metadata": {},
   "source": [
    "We can plot the edges alongside the mesh itself:"
   ]
  },
  {
   "cell_type": "code",
   "execution_count": 7,
   "id": "a07663b9",
   "metadata": {},
   "outputs": [
    {
     "data": {
      "application/vnd.jupyter.widget-view+json": {
       "model_id": "0c73575e1b994ddd94590bd08deb9c30",
       "version_major": 2,
       "version_minor": 0
      },
      "text/plain": [
       "ViewInteractiveWidget(height=768, layout=Layout(height='auto', width='100%'), width=1024)"
      ]
     },
     "metadata": {},
     "output_type": "display_data"
    }
   ],
   "source": [
    "p = pv.Plotter()\n",
    "\n",
    "p.add_mesh(trimesh)\n",
    "p.add_mesh(trimesh.extract_feature_edges(), color='black')\n",
    "\n",
    "p.show()"
   ]
  },
  {
   "cell_type": "markdown",
   "id": "cf81055f",
   "metadata": {},
   "source": [
    "Let's see if there are any open edges, so if the volume is watertight. Any open edges will be shown as red lines:"
   ]
  },
  {
   "cell_type": "code",
   "execution_count": 9,
   "id": "c0148343",
   "metadata": {},
   "outputs": [
    {
     "data": {
      "application/vnd.jupyter.widget-view+json": {
       "model_id": "14ae4a94106a4cfbab1034acb82e2f2a",
       "version_major": 2,
       "version_minor": 0
      },
      "text/plain": [
       "ViewInteractiveWidget(height=768, layout=Layout(height='auto', width='100%'), width=1024)"
      ]
     },
     "metadata": {},
     "output_type": "display_data"
    }
   ],
   "source": [
    "edges = trimesh.extract_feature_edges(boundary_edges=True,\n",
    "                           feature_edges=False,\n",
    "                           manifold_edges=False)\n",
    "\n",
    "p = pv.Plotter()\n",
    "\n",
    "p.add_mesh(trimesh, opacity=1.0)\n",
    "if trimesh.n_open_edges:\n",
    "    p.add_mesh(edges, color='red', line_width=10)\n",
    "\n",
    "p.add_title(f\"{obj} {'is watertight' if trimesh.n_open_edges == 0 else n_open_edges + ' open edges'}\", 8)    \n",
    "\n",
    "p.show()"
   ]
  },
  {
   "cell_type": "markdown",
   "id": "4ed3e18d",
   "metadata": {},
   "source": [
    "We can now voxelize the mesh. If this is not watertight, we have to force the library to avoid checking for surfaces and the result might be slightly incorrent:"
   ]
  },
  {
   "cell_type": "code",
   "execution_count": 23,
   "id": "f32358cb",
   "metadata": {},
   "outputs": [
    {
     "data": {
      "application/vnd.jupyter.widget-view+json": {
       "model_id": "d52809201b294023a8a0c530ca3702b0",
       "version_major": 2,
       "version_minor": 0
      },
      "text/plain": [
       "ViewInteractiveWidget(height=768, layout=Layout(height='auto', width='100%'), width=1024)"
      ]
     },
     "metadata": {},
     "output_type": "display_data"
    }
   ],
   "source": [
    "clean = trimesh.clean()\n",
    "voxel = pv.voxelize(clean, density=clean.length/100, check_surface=False)\n",
    "voxel.plot(show_edges=True, text=f\"[{obj}] Voxelized\")"
   ]
  },
  {
   "cell_type": "markdown",
   "id": "9a9a4626",
   "metadata": {},
   "source": [
    "Let's compare the voxelized volume against the actual one. This is an indication of the validity of the object:"
   ]
  },
  {
   "cell_type": "code",
   "execution_count": 26,
   "id": "5ab5e495",
   "metadata": {},
   "outputs": [
    {
     "name": "stdout",
     "output_type": "stream",
     "text": [
      "Voxel: 16575.355766801047\n",
      "Actual: 15060.606567299506\n"
     ]
    }
   ],
   "source": [
    "print(f\"Voxel: {voxel.volume}\")\n",
    "print(f\"Actual: {clean.volume}\")"
   ]
  },
  {
   "cell_type": "markdown",
   "id": "4742124b",
   "metadata": {},
   "source": [
    "We can extract the voxels centers to produce a grid of points for the mesh. This is slightly inconsistent, as some points are in and some outside of the object. This can be further cleaned later by computing the implicit distance of the points:"
   ]
  },
  {
   "cell_type": "code",
   "execution_count": 12,
   "id": "4b6eba9c",
   "metadata": {},
   "outputs": [
    {
     "data": {
      "application/vnd.jupyter.widget-view+json": {
       "model_id": "8a289ea6033d4763841425b801c27b03",
       "version_major": 2,
       "version_minor": 0
      },
      "text/plain": [
       "ViewInteractiveWidget(height=768, layout=Layout(height='auto', width='100%'), width=1024)"
      ]
     },
     "metadata": {},
     "output_type": "display_data"
    }
   ],
   "source": [
    "p = pv.Plotter()\n",
    "\n",
    "p.add_mesh(voxel, opacity=0.2, show_edges=True, color='yellow')\n",
    "p.add_mesh(voxel.cell_centers(), color='black')\n",
    "p.add_mesh(clean, color='grey')\n",
    "p.add_mesh(pv.PolyData(np.mean(voxel.cell_centers().points, axis=0)), color='white')\n",
    "\n",
    "p.show()"
   ]
  },
  {
   "cell_type": "markdown",
   "id": "6c55a77a",
   "metadata": {},
   "source": [
    "The number of voxels is:"
   ]
  },
  {
   "cell_type": "code",
   "execution_count": 15,
   "id": "73fcb247",
   "metadata": {},
   "outputs": [
    {
     "data": {
      "text/plain": [
       "45917"
      ]
     },
     "execution_count": 15,
     "metadata": {},
     "output_type": "execute_result"
    }
   ],
   "source": [
    "clean = trimesh.clean()\n",
    "# clean.points -= np.mean(clean.points, axis=0)\n",
    "voxel = pv.voxelize(clean, density=clean.length/100, check_surface=False)\n",
    "voxel.n_cells"
   ]
  },
  {
   "cell_type": "markdown",
   "id": "46dae1f2",
   "metadata": {},
   "source": [
    "## Compute the oriented bounding box\n",
    "\n",
    "... or object-aligned bounding box, or minimum bounding rectangle etc.\n",
    "\n",
    "We can compute this with a library we found on the web. The idea is that for buildings we can assume that an extruded 2D bounding box would work. So, let's do it in 2D first. This is the oriented bounding box:"
   ]
  },
  {
   "cell_type": "code",
   "execution_count": 18,
   "id": "a51e8b74",
   "metadata": {},
   "outputs": [
    {
     "data": {
      "text/plain": [
       "1433.85213208308"
      ]
     },
     "execution_count": 18,
     "metadata": {},
     "output_type": "execute_result"
    }
   ],
   "source": [
    "from helpers.minimumBoundingBox import MinimumBoundingBox\n",
    "\n",
    "obb_2d = MinimumBoundingBox([(p[0], p[1]) for p in dataset.clean().points])\n",
    "obb_2d.area"
   ]
  },
  {
   "cell_type": "markdown",
   "id": "6e34693f",
   "metadata": {},
   "source": [
    "Now let's extrude this with `pyvista`:"
   ]
  },
  {
   "cell_type": "code",
   "execution_count": 19,
   "id": "eecff725",
   "metadata": {},
   "outputs": [],
   "source": [
    "ground_z = np.min(dataset.clean().points[:, 2])\n",
    "height = np.max(dataset.clean().points[:, 2]) - ground_z\n",
    "box = np.array([[p[0], p[1], ground_z] for p in list(obb_2d.corner_points)])\n",
    "\n",
    "obb = pv.PolyData(box).delaunay_2d()\n",
    "pts = obb.points\n",
    "\n",
    "t = np.mean(pts, axis=0)\n",
    "\n",
    "# We need to move the points to the origin before extruding due to VTK's precision issues\n",
    "obb.points = obb.points - t\n",
    "obb = obb.extrude([0.0, 0.0, height])\n",
    "obb.points = obb.points + t"
   ]
  },
  {
   "cell_type": "markdown",
   "id": "43765dcd",
   "metadata": {},
   "source": [
    "Let's see how the oriented bounding box fits with the object itself:"
   ]
  },
  {
   "cell_type": "code",
   "execution_count": 20,
   "id": "7df0cdae",
   "metadata": {},
   "outputs": [
    {
     "data": {
      "application/vnd.jupyter.widget-view+json": {
       "model_id": "bc3074adee844a0ea328c257e6ff2271",
       "version_major": 2,
       "version_minor": 0
      },
      "text/plain": [
       "ViewInteractiveWidget(height=768, layout=Layout(height='auto', width='100%'), width=1024)"
      ]
     },
     "metadata": {},
     "output_type": "display_data"
    }
   ],
   "source": [
    "p = pv.Plotter()\n",
    "\n",
    "p.add_mesh(obb, opacity=0.3)\n",
    "p.add_mesh(trimesh)\n",
    "\n",
    "p.show()"
   ]
  },
  {
   "cell_type": "markdown",
   "id": "71846140",
   "metadata": {},
   "source": [
    "Sometimes the extruded volume produces a weird volume, so we have to fix it first:"
   ]
  },
  {
   "cell_type": "code",
   "execution_count": 21,
   "id": "493ebb29",
   "metadata": {},
   "outputs": [
    {
     "data": {
      "text/plain": [
       "3991.9041489147266"
      ]
     },
     "execution_count": 21,
     "metadata": {},
     "output_type": "execute_result"
    }
   ],
   "source": [
    "m = MeshFix(obb.clean().triangulate())\n",
    "m.repair()\n",
    "fixed_obb = m.mesh\n",
    "\n",
    "fixed_obb.volume"
   ]
  },
  {
   "cell_type": "markdown",
   "id": "927d850d",
   "metadata": {},
   "source": [
    "### Fully 3D oriented bounding box\n",
    "\n",
    "There is a library to compute the bounding box in 3D, but it's not very reliable. This is a small test here:"
   ]
  },
  {
   "cell_type": "code",
   "execution_count": 27,
   "id": "98932470",
   "metadata": {},
   "outputs": [],
   "source": [
    "from pyobb.obb import OBB\n",
    "\n",
    "obb_full_3d = OBB.build_from_points(dataset.clean().points)"
   ]
  },
  {
   "cell_type": "markdown",
   "id": "86ceff34",
   "metadata": {},
   "source": [
    "### 2D oriented bounding box from `shapely`\n",
    "\n",
    "Similar to the previous library for 2D extrusion, we can compute the OBB using shapely. Let's extract a flattened version of the object and compute its *minimum rotated rectangle* (aka OBB):"
   ]
  },
  {
   "cell_type": "code",
   "execution_count": 28,
   "id": "0cd53bda",
   "metadata": {},
   "outputs": [
    {
     "data": {
      "image/svg+xml": [
       "<svg xmlns=\"http://www.w3.org/2000/svg\" xmlns:xlink=\"http://www.w3.org/1999/xlink\" width=\"100.0\" height=\"100.0\" viewBox=\"300832.6857769721 5041619.7872798415 55.866968063404784 58.14622943755239\" preserveAspectRatio=\"xMinYMin meet\"><g transform=\"matrix(1,0,0,-1,0,10083297.72078912)\"><path fill-rule=\"evenodd\" fill=\"#66cc99\" stroke=\"#555555\" stroke-width=\"1.1629245887510478\" opacity=\"0.6\" d=\"M 300863.4051228459,5041621.940843895 L 300886.39918098226,5041657.09562134 L 300857.8333991617,5041675.779945225 L 300834.83934102533,5041640.625167781 L 300863.4051228459,5041621.940843895 z\" /></g></svg>"
      ],
      "text/plain": [
       "<shapely.geometry.polygon.Polygon at 0x1603048b0>"
      ]
     },
     "execution_count": 28,
     "metadata": {},
     "output_type": "execute_result"
    }
   ],
   "source": [
    "from cityjson import to_shapely\n",
    "\n",
    "obb_2d = to_shapely(building[\"geometry\"][0], vertices).minimum_rotated_rectangle\n",
    "obb_2d"
   ]
  },
  {
   "cell_type": "markdown",
   "id": "dfcf59a3",
   "metadata": {},
   "source": [
    "Now we can extrude (we wrote a function about this):"
   ]
  },
  {
   "cell_type": "code",
   "execution_count": 34,
   "id": "9d918661",
   "metadata": {},
   "outputs": [],
   "source": [
    "from geometry import extrude\n",
    "\n",
    "ground_z = np.min(dataset.clean().points[:, 2])\n",
    "roof_z = np.max(dataset.clean().points[:, 2])\n",
    "obb = extrude(obb_2d, ground_z, roof_z)\n",
    "\n",
    "# p = pv.Plotter()\n",
    "\n",
    "# p.add_mesh(obb, show_edges=True, opacity=0.3)\n",
    "# p.add_mesh(trimesh)\n",
    "\n",
    "# p.show()"
   ]
  },
  {
   "cell_type": "markdown",
   "id": "81ba88f2",
   "metadata": {},
   "source": [
    "Let's compare the volumes:"
   ]
  },
  {
   "cell_type": "code",
   "execution_count": 35,
   "id": "a359fedf",
   "metadata": {},
   "outputs": [
    {
     "name": "stdout",
     "output_type": "stream",
     "text": [
      "Volume: 15060.606567299506\n",
      "OBB: 23651.391192221894\n"
     ]
    }
   ],
   "source": [
    "m = MeshFix(obb.clean().triangulate())\n",
    "m.repair()\n",
    "fixed_obb = m.mesh\n",
    "\n",
    "print(f\"Volume: {clean.volume}\")\n",
    "print(f\"OBB: {obb.volume}\")\n",
    "\n",
    "# p = pv.Plotter()\n",
    "\n",
    "# p.add_mesh(obb.clean(), show_edges=True, opacity=0.3)\n",
    "# p.add_mesh(trimesh)\n",
    "\n",
    "# p.show()"
   ]
  },
  {
   "cell_type": "markdown",
   "id": "4ce35571",
   "metadata": {},
   "source": [
    "## Compute shape metrics\n",
    "\n",
    "This is a banch of 2D and 3D metrics that can be used to describe a building:"
   ]
  },
  {
   "cell_type": "code",
   "execution_count": 36,
   "id": "4a05088b",
   "metadata": {
    "scrolled": false
   },
   "outputs": [
    {
     "data": {
      "text/plain": [
       "0.547767731494774"
      ]
     },
     "execution_count": 36,
     "metadata": {},
     "output_type": "execute_result"
    }
   ],
   "source": [
    "from shapely.geometry import Point, MultiPoint, Polygon\n",
    "import math\n",
    "from tqdm.notebook import trange, tqdm\n",
    "import miniball\n",
    "\n",
    "def create_grid_2d(shape, density):\n",
    "    \"\"\"Return the grid for a given polygon\"\"\"\n",
    "    \n",
    "    x_min, y_min, x_max, y_max = shape.bounds\n",
    "    x = np.arange(x_min, x_max, density)\n",
    "    y = np.arange(y_min, y_max, density)\n",
    "    x, y = np.meshgrid(x, y)\n",
    "    \n",
    "    x = np.hstack(x)\n",
    "    y = np.hstack(y)\n",
    "    \n",
    "    return [(x[i], y[i]) for i in range(len(x))]\n",
    "\n",
    "def create_grid_3d(mesh, density, check_surface=False):\n",
    "    \"\"\"Returns the grid for a given mesh\"\"\"\n",
    "    voxel = pv.voxelize(mesh, density=density, check_surface=check_surface)\n",
    "    \n",
    "    return voxel.cell_centers().points\n",
    "\n",
    "def distance(x, y):\n",
    "    \"\"\"Returns the euclidean distance between two points\"\"\"\n",
    "    \n",
    "    return math.sqrt(sum([math.pow(x[c] - y[c], 2) for c in range(len(x))]))\n",
    "\n",
    "def cohesion_2d(shape, grid=None, density=1):\n",
    "    \"\"\"Returns the cohesion index in 2D for a given polygon\"\"\"\n",
    "    \n",
    "    if grid is None:\n",
    "        grid = create_grid(shape, density)\n",
    "    \n",
    "    if isinstance(grid, list):\n",
    "        grid = MultiPoint(grid).intersection(shape)\n",
    "    \n",
    "    d = 0\n",
    "    for pi in tqdm(grid.geoms):\n",
    "        for pj in grid.geoms:\n",
    "            if pi == pj:\n",
    "                continue\n",
    "            \n",
    "            d += pi.distance(pj)\n",
    "\n",
    "    n = len(grid.geoms)\n",
    "    return 0.9054 * math.sqrt(shape.area / math.pi) / (1 / (n * (n - 1)) * d)\n",
    "\n",
    "def cohesion_3d(mesh, density=1, check_surface=False):\n",
    "    \"\"\"Returns the cohesion index in 3D for a given mesh\"\"\"\n",
    "    \n",
    "    voxel = pv.voxelize(mesh, density=density, check_surface=check_surface)\n",
    "    grid = voxel.cell_centers().points\n",
    "    \n",
    "    d = 0\n",
    "    for pi in tqdm(grid):\n",
    "        for pj in grid:\n",
    "            d += distance(pi, pj)\n",
    "    \n",
    "    # TODO: Calculate the actual formula here\n",
    "    return d\n",
    "\n",
    "def proximity_2d(shape, density=1, grid=None):\n",
    "    \"\"\"Returns the proximity index in 2D for a given polygon\"\"\"\n",
    "    \n",
    "    if grid is None:\n",
    "        grid = create_grid(shape, density)\n",
    "    \n",
    "    if isinstance(grid, list):\n",
    "        grid = MultiPoint(grid).intersection(shape)\n",
    "    \n",
    "    centroid = shape.centroid\n",
    "    \n",
    "    return 2 / 3 * math.sqrt(shape.area / math.pi) / np.mean([centroid.distance(p) for p in grid])\n",
    "\n",
    "def proximity_3d(mesh, grid=None, density=1, check_surface=False):\n",
    "    \"\"\"Returns the cohesion index in 3D for a given mesh\"\"\"\n",
    "    \n",
    "    if grid is None:\n",
    "        voxel = pv.voxelize(mesh, density=density, check_surface=check_surface)\n",
    "        grid = voxel.cell_centers().points\n",
    "    \n",
    "    centroid = np.mean(grid, axis=0)\n",
    "    \n",
    "    # TODO: Calculate the actual formula here\n",
    "    return np.mean([distance(centroid, p) for p in grid])\n",
    "\n",
    "def equal_volume_sphere(mesh, position=(0, 0, 0)):\n",
    "    \"\"\"Returns the sphere that has the same volume as the given mesh\"\"\"\n",
    "    \n",
    "    r = math.pow(3 * mesh.volume / (4 * math.pi), 1/3)\n",
    "    \n",
    "    return pv.Sphere(radius=r, center=position)\n",
    "\n",
    "def exchange_2d(shape):\n",
    "    \"\"\"Returns the exchange index in 2D for a given polygon\"\"\"\n",
    "    \n",
    "    r = math.sqrt(shape.area / math.pi)\n",
    "    \n",
    "    eac = shape.centroid.buffer(r)\n",
    "    \n",
    "    return shape.intersection(eac).area / shape.area\n",
    "\n",
    "def exchange_3d(mesh, evs=None, engine=\"igl\"):\n",
    "    \"\"\"Returns the exhange index in 3D for a given mesh\"\"\"\n",
    "    \n",
    "    if evs is None:\n",
    "        voxel = pv.voxelize(clean, density=0.25)\n",
    "        grid = voxel.cell_centers().points\n",
    "\n",
    "        centroid = np.mean(grid, axis=0)\n",
    "        evs = equal_volume_sphere(mesh, centroid)\n",
    "    \n",
    "    pm_mesh = to_pymesh(mesh)\n",
    "    pm_evs = to_pymesh(evs)\n",
    "    \n",
    "    inter = pymesh.boolean(pm_mesh, pm_evs, operation=\"intersection\", engine=engine)\n",
    "    \n",
    "    return inter.volume / mesh.volume\n",
    "\n",
    "def spin_2d(shape, grid=None, density=1):\n",
    "    if grid is None:\n",
    "        grid = create_grid_2d(shape, density)\n",
    "    \n",
    "    if isinstance(grid, list):\n",
    "        grid = MultiPoint(grid).intersection(shape)\n",
    "    \n",
    "    centroid = shape.centroid\n",
    "    \n",
    "    return 0.5 * (shape.area / math.pi) / np.mean([math.pow(centroid.distance(p), 2) for p in grid])\n",
    "\n",
    "def spin_3d(mesh, grid=None, density=1, check_surface=False):\n",
    "    \"\"\"Returns the cohesion index in 3D for a given mesh\"\"\"\n",
    "    \n",
    "    if grid is None:\n",
    "        voxel = pv.voxelize(mesh, density=density, check_surface=check_surface)\n",
    "        grid = voxel.cell_centers().points\n",
    "    \n",
    "    centroid = np.mean(grid, axis=0)\n",
    "    \n",
    "    # TODO: Calculate the actual formula here\n",
    "    return np.mean([math.pow(distance(centroid, p), 2) for p in grid])\n",
    "\n",
    "def perimeter_index(shape):\n",
    "    return 2 * math.sqrt(math.pi * shape.area) / shape.length\n",
    "\n",
    "def circumference_index_3d(mesh):\n",
    "    return 4 * math.pi * math.pow(3 * mesh.volume / (4 * math.pi), 2 / 3) / mesh.area\n",
    "    \n",
    "def depth_2d(shape, grid=None, density=1):\n",
    "    if grid is None:\n",
    "        grid = create_grid_2d(shape, density)\n",
    "    \n",
    "    if isinstance(grid, list):\n",
    "        grid = MultiPoint(grid).intersection(shape)\n",
    "        \n",
    "    return 3 * np.mean([p.distance(shape.boundary) for p in grid]) / math.sqrt(shape.area / math.pi)\n",
    "\n",
    "def depth_3d(mesh, grid=None, density=1, check_surface=False):\n",
    "    \"\"\"Returns the cohesion index in 3D for a given mesh\"\"\"\n",
    "    \n",
    "    if grid is None:\n",
    "        voxel = pv.voxelize(mesh, density=density, check_surface=check_surface)\n",
    "        grid = voxel.cell_centers()\n",
    "        \n",
    "    dist = grid.compute_implicit_distance(mesh)\n",
    "    \n",
    "    # TODO: Calculate the actual formula here\n",
    "    return 3 * np.mean(np.absolute(dist[\"implicit_distance\"]))\n",
    "\n",
    "from polylabel import polylabel\n",
    "\n",
    "def largest_inscribed_circle(shape):\n",
    "    \"\"\"Returns the largest inscribed circle of a polygon in 2D\"\"\"\n",
    "\n",
    "    centre, r = polylabel([list([list(c)[:2] for c in shape.boundary.coords])], with_distance=True)  # ([0.5, 0.5], 0.5)\n",
    "\n",
    "    lic = Point(centre).buffer(r)\n",
    "    \n",
    "    return lic\n",
    "\n",
    "def largest_inscribed_sphere(mesh, grid=None, density=1, check_surface=False):\n",
    "    \"\"\"Returns the largest inscribed sphere of a mesh in 3D\"\"\"\n",
    "    \n",
    "    if grid is None:\n",
    "        voxel = pv.voxelize(mesh, density=density, check_surface=check_surface)\n",
    "        grid = voxel.cell_centers()\n",
    "        \n",
    "    dist = grid.compute_implicit_distance(mesh)\n",
    "    \n",
    "    # The largest inscribed circle's radius is the largest (internal) distance,\n",
    "    # hence the lowest value (as internal distance is negative)\n",
    "    lis_radius = np.min(dist[\"implicit_distance\"])\n",
    "    lis_center = dist.points[np.where(dist[\"implicit_distance\"] == lis_radius)][0]\n",
    "    \n",
    "    return pv.Sphere(center=lis_center, radius=abs(lis_radius))\n",
    "\n",
    "def girth_2d(shape):\n",
    "    \"\"\"Return the girth index in 2D for a given polygon\"\"\"\n",
    "    \n",
    "    lic = largest_inscribed_circle(shape)\n",
    "    \n",
    "    # Compute the radius as half the bounding box width\n",
    "    r = (lic.bounds[2] - lic.bounds[0]) / 2\n",
    "    \n",
    "    return r / math.sqrt(shape.area / math.pi)\n",
    "\n",
    "def girth_3d(mesh, grid=None, density=1, check_surface=False):\n",
    "    \"\"\"Return the girth index in 3D for a given mesh\"\"\"\n",
    "    \n",
    "    lis = largest_inscribed_sphere(mesh,\n",
    "                                   grid=grid,\n",
    "                                   density=density,\n",
    "                                   check_surface=check_surface)\n",
    "    \n",
    "    r = (lis.bounds[1] - lis.bounds[0]) / 2\n",
    "    r_evs = math.pow(3 * mesh.volume / (4 * math.pi), 1/3)\n",
    "    \n",
    "    return r / r_evs\n",
    "\n",
    "def range_2d(shape):\n",
    "    \"\"\"Returns the range index in 2D for a given polygon\"\"\"\n",
    "    \n",
    "    from helpers.smallestenclosingcircle import make_circle\n",
    "\n",
    "    x, y, r = make_circle([c[:2] for c in  fp.boundary.coords])\n",
    "    \n",
    "    return math.sqrt(shape.area / math.pi) / r\n",
    "\n",
    "def range_3d(mesh):\n",
    "    \"\"\"Returns the range index in 3D for a given mesh\"\"\"\n",
    "    \n",
    "    _, r2 = miniball.get_bounding_ball(mesh.points)\n",
    "    \n",
    "    r_scc = math.sqrt(r2)\n",
    "    \n",
    "    return math.pow(3 * mesh.volume / (4 * math.pi), 1/3) / r_scc\n",
    "\n",
    "# cohesion_2d(Point(0,0).buffer(1.0), density=0.1)\n",
    "# cohesion_3d(clean)\n",
    "# proximity_2d(Point(0,0).buffer(1.0), 0.25)\n",
    "# voxel = pv.voxelize(clean, density=0.25, check_surface=False)\n",
    "# grid = voxel.cell_centers()\n",
    "# dist = grid.compute_implicit_distance(clean)\n",
    "# dist.active_scalar = \"implicit_distance\"\n",
    "# dist.plot(scalars=\"implicit_distance\")\n",
    "\n",
    "# centroid = np.mean(grid, axis=0)\n",
    "\n",
    "# exchange_3d(clean, evs)\n",
    "# exchange_2d(Point(0, 0).buffer(25))\n",
    "\n",
    "# spin_2d(Point(0,0).buffer(10.0), density=0.1)\n",
    "# fp = to_shapely(building[\"geometry\"][0], vertices)\n",
    "# spin_2d(fp, density=0.1)\n",
    "# girth_3d(pv.Sphere(radius=10.0), density=0.25)\n",
    "\n",
    "# proximity_3d(evs, density=0.25) / proximity_3d(clean, density=0.25)\n",
    "\n",
    "range_3d(clean)"
   ]
  },
  {
   "cell_type": "markdown",
   "id": "6accb960",
   "metadata": {},
   "source": [
    "This is our own implementation on creating a grid that wraps the surface of a mesh:"
   ]
  },
  {
   "cell_type": "code",
   "execution_count": 37,
   "id": "51a3c974",
   "metadata": {
    "scrolled": false
   },
   "outputs": [
    {
     "data": {
      "application/vnd.jupyter.widget-view+json": {
       "model_id": "b1e0243d5daf44c0b551731b25db920b",
       "version_major": 2,
       "version_minor": 0
      },
      "text/plain": [
       "ViewInteractiveWidget(height=768, layout=Layout(height='auto', width='100%'), width=1024)"
      ]
     },
     "metadata": {},
     "output_type": "display_data"
    }
   ],
   "source": [
    "from helpers.geometry import surface_normal\n",
    "from shapely.geometry import Polygon\n",
    "\n",
    "def to_3d(points, normal, origin):\n",
    "    \"\"\"Translate local 2D coordinates to 3D\"\"\"\n",
    "    \n",
    "    x_axis, y_axis = axes_of_normal(normal)\n",
    "  \n",
    "    return (np.repeat([origin], len(points), axis=0)\n",
    "        + np.matmul(points, [x_axis, y_axis]))    \n",
    "\n",
    "def axes_of_normal(normal):\n",
    "    \"\"\"Returns an x-axis and y-axis on a plane of the given normal\"\"\"\n",
    "    if normal[2] > 0.001 or normal[2] < -0.001:\n",
    "        x_axis = [1, 0, -normal[0]/normal[2]];\n",
    "    elif normal[1] > 0.001 or normal[1] < -0.001:\n",
    "        x_axis = [1, -normal[0]/normal[1], 0];\n",
    "    else:\n",
    "        x_axis = [-normal[1] / normal[0], 1, 0];\n",
    "    \n",
    "    x_axis = x_axis / np.linalg.norm(x_axis)\n",
    "    y_axis = np.cross(normal, x_axis)\n",
    "\n",
    "    return x_axis, y_axis\n",
    "\n",
    "def project_2d(points, normal):\n",
    "    origin = points[0]\n",
    "\n",
    "    x_axis, y_axis = axes_of_normal(normal)\n",
    "     \n",
    "    return [[np.dot(p - origin, x_axis), np.dot(p - origin, y_axis)] for p in points]\n",
    "\n",
    "def create_surface_grid(mesh, density=1):\n",
    "    \"\"\"Create a 2-dimensional grid along the surface of a 3D mesh\"\"\"\n",
    "    \n",
    "    result = []\n",
    "    \n",
    "    sized = mesh.compute_cell_sizes()\n",
    "    \n",
    "    for i in range(mesh.n_cells):\n",
    "        if not mesh.cell_type(i) in [5, 6, 7, 9, 10]:\n",
    "            continue\n",
    "        \n",
    "        pts = mesh.cell_points(i)\n",
    "        \n",
    "        normal = surface_normal(pts)\n",
    "        \n",
    "        pts_2d = project_2d(pts, normal)\n",
    "        poly_2d = Polygon(pts_2d)\n",
    "        \n",
    "        grid = create_grid_2d(poly_2d, density)\n",
    "        grid = MultiPoint(grid).intersection(poly_2d)\n",
    "        \n",
    "        if grid.is_empty:\n",
    "            continue\n",
    "        elif grid.geom_type == \"Point\":\n",
    "            grid = np.array(grid.coords)\n",
    "        else:\n",
    "            grid = np.array([list(p.coords[0]) for p in grid.geoms])\n",
    "        \n",
    "        # TODO: Randomise the origin\n",
    "        result.extend(list(to_3d(grid, normal, pts[0])))\n",
    "            \n",
    "    return result\n",
    "\n",
    "n = [5.082294680441933e-16, 0.0, -1.0]\n",
    "p = np.array([[0, 0], [1, 2], [2, 2]])\n",
    "origin = [0, 0, 0]\n",
    "np.matmul(p, np.repeat([n], 2, axis=0))\n",
    "s_grid = pv.PolyData(create_surface_grid(clean, 0.5))\n",
    "\n",
    "p = pv.Plotter()\n",
    "\n",
    "p.add_mesh(clean, opacity=0.9)\n",
    "# p.add_mesh(clean.extract_cells(82))\n",
    "p.add_mesh(s_grid)\n",
    "\n",
    "p.show()"
   ]
  },
  {
   "cell_type": "markdown",
   "id": "dda57928",
   "metadata": {},
   "source": [
    "Compute the minimum bounding sphere of the building:"
   ]
  },
  {
   "cell_type": "code",
   "execution_count": 38,
   "id": "53a8de2d",
   "metadata": {},
   "outputs": [
    {
     "name": "stdout",
     "output_type": "stream",
     "text": [
      "782.1853542416237\n",
      "[300835.267, 300879.736, 5041621.967, 5041675.073, 15.297, 31.792]\n"
     ]
    },
    {
     "data": {
      "application/vnd.jupyter.widget-view+json": {
       "model_id": "f70d387a62d44b37beb73cd0ffbfd352",
       "version_major": 2,
       "version_minor": 0
      },
      "text/plain": [
       "ViewInteractiveWidget(height=768, layout=Layout(height='auto', width='100%'), width=1024)"
      ]
     },
     "metadata": {},
     "output_type": "display_data"
    }
   ],
   "source": [
    "import miniball\n",
    "C, r2 = miniball.get_bounding_ball(clean.clean().points)\n",
    "\n",
    "print(r2)\n",
    "print(clean.bounds)\n",
    "\n",
    "p = pv.Plotter()\n",
    "\n",
    "p.add_mesh(clean)\n",
    "# p.add_mesh(clean.extract_cells(82))\n",
    "p.add_mesh(pv.Sphere(radius=math.sqrt(r2), center=C), opacity=0.2)\n",
    "\n",
    "p.show()"
   ]
  },
  {
   "cell_type": "markdown",
   "id": "1d40c084",
   "metadata": {},
   "source": [
    "Compute the largest inscribed sphere. This is based on creating a grid of a certain density and then picking the interior point of the largest distance from the boundaries (after computing the implicit distance):"
   ]
  },
  {
   "cell_type": "code",
   "execution_count": 40,
   "id": "35f9047d",
   "metadata": {},
   "outputs": [
    {
     "data": {
      "application/vnd.jupyter.widget-view+json": {
       "model_id": "1b76269c43ec49bd81219a901e34342c",
       "version_major": 2,
       "version_minor": 0
      },
      "text/plain": [
       "ViewInteractiveWidget(height=768, layout=Layout(height='auto', width='100%'), width=1024)"
      ]
     },
     "metadata": {},
     "output_type": "display_data"
    }
   ],
   "source": [
    "p = pv.Plotter()\n",
    "\n",
    "p.add_mesh(clean, opacity=0.2)\n",
    "p.add_mesh(largest_inscribed_sphere(clean, density=0.5))\n",
    "\n",
    "p.show()"
   ]
  },
  {
   "cell_type": "markdown",
   "id": "5592ebad",
   "metadata": {},
   "source": [
    "## Playing with `pymesh`\n",
    "\n",
    "Since `pyvista` is unreliable regarding boolean operations, this is how to convert to/from `pymesh` to do operations. `pymesh` is harder to install (see [here](https://pymesh.readthedocs.io/en/latest/installation.html)) but the result seems to be robust:"
   ]
  },
  {
   "cell_type": "code",
   "execution_count": 42,
   "id": "3200f83a",
   "metadata": {},
   "outputs": [],
   "source": [
    "import pymesh\n",
    "\n",
    "def to_pymesh(mesh):\n",
    "    \"\"\"Returns a pymesh from a pyvista PolyData\"\"\"\n",
    "    v = mesh.points\n",
    "    f = mesh.faces.reshape(-1, 4)[:, 1:]\n",
    "\n",
    "    return pymesh.form_mesh(v, f)\n",
    "\n",
    "def to_pyvista(mesh):\n",
    "    \"\"\"Return a PolyData from a pymesh\"\"\"\n",
    "    v = mesh.vertices\n",
    "    f = mesh.faces\n",
    "    \n",
    "    f = np.hstack([[len(f)] + list(f) for f in mesh.faces])\n",
    "    \n",
    "    return pv.PolyData(v, f, len(mesh.faces))\n",
    "\n",
    "evs = equal_volume_sphere(clean)\n",
    "\n",
    "clean_pm = to_pymesh(clean)\n",
    "evs_pm = to_pymesh(evs)"
   ]
  },
  {
   "cell_type": "code",
   "execution_count": 47,
   "id": "486439d2",
   "metadata": {},
   "outputs": [],
   "source": [
    "inter = pymesh.boolean(clean_pm, evs_pm, operation=\"intersection\", engine=\"igl\")"
   ]
  },
  {
   "cell_type": "code",
   "execution_count": 44,
   "id": "6c8ee86f",
   "metadata": {},
   "outputs": [
    {
     "ename": "ValueError",
     "evalue": "need at least one array to concatenate",
     "output_type": "error",
     "traceback": [
      "\u001b[0;31m---------------------------------------------------------------------------\u001b[0m",
      "\u001b[0;31mValueError\u001b[0m                                Traceback (most recent call last)",
      "\u001b[0;32m<ipython-input-44-3a47f8b06c12>\u001b[0m in \u001b[0;36m<module>\u001b[0;34m\u001b[0m\n\u001b[1;32m      2\u001b[0m \u001b[0;34m\u001b[0m\u001b[0m\n\u001b[1;32m      3\u001b[0m \u001b[0mp\u001b[0m\u001b[0;34m.\u001b[0m\u001b[0madd_mesh\u001b[0m\u001b[0;34m(\u001b[0m\u001b[0mevs\u001b[0m\u001b[0;34m,\u001b[0m \u001b[0mopacity\u001b[0m\u001b[0;34m=\u001b[0m\u001b[0;36m0.2\u001b[0m\u001b[0;34m,\u001b[0m \u001b[0mcolor\u001b[0m\u001b[0;34m=\u001b[0m\u001b[0;34m'yellow'\u001b[0m\u001b[0;34m)\u001b[0m\u001b[0;34m\u001b[0m\u001b[0;34m\u001b[0m\u001b[0m\n\u001b[0;32m----> 4\u001b[0;31m \u001b[0mp\u001b[0m\u001b[0;34m.\u001b[0m\u001b[0madd_mesh\u001b[0m\u001b[0;34m(\u001b[0m\u001b[0mto_pyvista\u001b[0m\u001b[0;34m(\u001b[0m\u001b[0minter\u001b[0m\u001b[0;34m)\u001b[0m\u001b[0;34m,\u001b[0m \u001b[0mopacity\u001b[0m\u001b[0;34m=\u001b[0m\u001b[0;36m0.5\u001b[0m\u001b[0;34m,\u001b[0m \u001b[0mcolor\u001b[0m\u001b[0;34m=\u001b[0m\u001b[0;34m'blue'\u001b[0m\u001b[0;34m)\u001b[0m\u001b[0;34m\u001b[0m\u001b[0;34m\u001b[0m\u001b[0m\n\u001b[0m\u001b[1;32m      5\u001b[0m \u001b[0;34m\u001b[0m\u001b[0m\n\u001b[1;32m      6\u001b[0m \u001b[0mp\u001b[0m\u001b[0;34m.\u001b[0m\u001b[0mshow\u001b[0m\u001b[0;34m(\u001b[0m\u001b[0;34m)\u001b[0m\u001b[0;34m\u001b[0m\u001b[0;34m\u001b[0m\u001b[0m\n",
      "\u001b[0;32m<ipython-input-42-17dde6e8bfc9>\u001b[0m in \u001b[0;36mto_pyvista\u001b[0;34m(mesh)\u001b[0m\n\u001b[1;32m     13\u001b[0m     \u001b[0mf\u001b[0m \u001b[0;34m=\u001b[0m \u001b[0mmesh\u001b[0m\u001b[0;34m.\u001b[0m\u001b[0mfaces\u001b[0m\u001b[0;34m\u001b[0m\u001b[0;34m\u001b[0m\u001b[0m\n\u001b[1;32m     14\u001b[0m \u001b[0;34m\u001b[0m\u001b[0m\n\u001b[0;32m---> 15\u001b[0;31m     \u001b[0mf\u001b[0m \u001b[0;34m=\u001b[0m \u001b[0mnp\u001b[0m\u001b[0;34m.\u001b[0m\u001b[0mhstack\u001b[0m\u001b[0;34m(\u001b[0m\u001b[0;34m[\u001b[0m\u001b[0;34m[\u001b[0m\u001b[0mlen\u001b[0m\u001b[0;34m(\u001b[0m\u001b[0mf\u001b[0m\u001b[0;34m)\u001b[0m\u001b[0;34m]\u001b[0m \u001b[0;34m+\u001b[0m \u001b[0mlist\u001b[0m\u001b[0;34m(\u001b[0m\u001b[0mf\u001b[0m\u001b[0;34m)\u001b[0m \u001b[0;32mfor\u001b[0m \u001b[0mf\u001b[0m \u001b[0;32min\u001b[0m \u001b[0mmesh\u001b[0m\u001b[0;34m.\u001b[0m\u001b[0mfaces\u001b[0m\u001b[0;34m]\u001b[0m\u001b[0;34m)\u001b[0m\u001b[0;34m\u001b[0m\u001b[0;34m\u001b[0m\u001b[0m\n\u001b[0m\u001b[1;32m     16\u001b[0m \u001b[0;34m\u001b[0m\u001b[0m\n\u001b[1;32m     17\u001b[0m     \u001b[0;32mreturn\u001b[0m \u001b[0mpv\u001b[0m\u001b[0;34m.\u001b[0m\u001b[0mPolyData\u001b[0m\u001b[0;34m(\u001b[0m\u001b[0mv\u001b[0m\u001b[0;34m,\u001b[0m \u001b[0mf\u001b[0m\u001b[0;34m,\u001b[0m \u001b[0mlen\u001b[0m\u001b[0;34m(\u001b[0m\u001b[0mmesh\u001b[0m\u001b[0;34m.\u001b[0m\u001b[0mfaces\u001b[0m\u001b[0;34m)\u001b[0m\u001b[0;34m)\u001b[0m\u001b[0;34m\u001b[0m\u001b[0;34m\u001b[0m\u001b[0m\n",
      "\u001b[0;32m<__array_function__ internals>\u001b[0m in \u001b[0;36mhstack\u001b[0;34m(*args, **kwargs)\u001b[0m\n",
      "\u001b[0;32m~/Development/cityjson/volume-calc/venv/lib/python3.9/site-packages/numpy/core/shape_base.py\u001b[0m in \u001b[0;36mhstack\u001b[0;34m(tup)\u001b[0m\n\u001b[1;32m    343\u001b[0m         \u001b[0;32mreturn\u001b[0m \u001b[0m_nx\u001b[0m\u001b[0;34m.\u001b[0m\u001b[0mconcatenate\u001b[0m\u001b[0;34m(\u001b[0m\u001b[0marrs\u001b[0m\u001b[0;34m,\u001b[0m \u001b[0;36m0\u001b[0m\u001b[0;34m)\u001b[0m\u001b[0;34m\u001b[0m\u001b[0;34m\u001b[0m\u001b[0m\n\u001b[1;32m    344\u001b[0m     \u001b[0;32melse\u001b[0m\u001b[0;34m:\u001b[0m\u001b[0;34m\u001b[0m\u001b[0;34m\u001b[0m\u001b[0m\n\u001b[0;32m--> 345\u001b[0;31m         \u001b[0;32mreturn\u001b[0m \u001b[0m_nx\u001b[0m\u001b[0;34m.\u001b[0m\u001b[0mconcatenate\u001b[0m\u001b[0;34m(\u001b[0m\u001b[0marrs\u001b[0m\u001b[0;34m,\u001b[0m \u001b[0;36m1\u001b[0m\u001b[0;34m)\u001b[0m\u001b[0;34m\u001b[0m\u001b[0;34m\u001b[0m\u001b[0m\n\u001b[0m\u001b[1;32m    346\u001b[0m \u001b[0;34m\u001b[0m\u001b[0m\n\u001b[1;32m    347\u001b[0m \u001b[0;34m\u001b[0m\u001b[0m\n",
      "\u001b[0;32m<__array_function__ internals>\u001b[0m in \u001b[0;36mconcatenate\u001b[0;34m(*args, **kwargs)\u001b[0m\n",
      "\u001b[0;31mValueError\u001b[0m: need at least one array to concatenate"
     ]
    }
   ],
   "source": [
    "p = pv.Plotter()\n",
    "\n",
    "p.add_mesh(evs, opacity=0.2, color='yellow')\n",
    "p.add_mesh(to_pyvista(inter), opacity=0.5, color='blue')\n",
    "\n",
    "p.show()"
   ]
  }
 ],
 "metadata": {
  "kernelspec": {
   "display_name": "Python 3",
   "language": "python",
   "name": "python3"
  },
  "language_info": {
   "codemirror_mode": {
    "name": "ipython",
    "version": 3
   },
   "file_extension": ".py",
   "mimetype": "text/x-python",
   "name": "python",
   "nbconvert_exporter": "python",
   "pygments_lexer": "ipython3",
   "version": "3.9.5"
  },
  "toc-autonumbering": false,
  "toc-showcode": false,
  "toc-showmarkdowntxt": false
 },
 "nbformat": 4,
 "nbformat_minor": 5
}
