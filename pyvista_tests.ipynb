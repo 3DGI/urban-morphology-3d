{
 "cells": [
  {
   "cell_type": "code",
   "execution_count": 2,
   "id": "ac5dd1cb",
   "metadata": {},
   "outputs": [],
   "source": [
    "import json\n",
    "import numpy as np\n",
    "import pyvista as pv\n",
    "from pymeshfix import MeshFix\n",
    "import cityjson"
   ]
  },
  {
   "cell_type": "code",
   "execution_count": 3,
   "id": "b546fa93",
   "metadata": {},
   "outputs": [],
   "source": [
    "float_formatter = \"{:.3f}\".format\n",
    "np.set_printoptions(formatter={'float_kind':float_formatter})\n",
    "\n",
    "models = {\n",
    "    \"DenHaag\": \"\",\n",
    "    \"Helsinki\": \"/Users/liberostelios/Dropbox/CityJSON/Helsinki/CityGML_BUILDINGS_LOD2_NOTEXTURES_672496x2.json\",\n",
    "    \"Vienna\": \"/Users/liberostelios/Dropbox/CityJSON/Vienna/Vienna_102081.json\",\n",
    "    \"Montreal\": \"/Users/liberostelios/Downloads/random10_1.json\"\n",
    "}\n",
    "\n",
    "filename = models[\"Montreal\"]\n",
    "\n",
    "with open(filename) as file:\n",
    "    cm = json.load(file)\n",
    "\n",
    "if \"transform\" in cm:\n",
    "    s = cm[\"transform\"][\"scale\"]\n",
    "    t = cm[\"transform\"][\"translate\"]\n",
    "    verts = [[v[0] * s[0] + t[0], v[1] * s[1] + t[1], v[2] * s[2] + t[2]]\n",
    "            for v in cm[\"vertices\"]]\n",
    "else:\n",
    "    verts = cm[\"vertices\"]\n",
    "\n",
    "# mesh points\n",
    "vertices = np.array(verts)"
   ]
  },
  {
   "cell_type": "code",
   "execution_count": 4,
   "id": "36cc657e",
   "metadata": {},
   "outputs": [],
   "source": [
    "# obj = \"GUID_816CA7F9-6357-447D-96E3-C74C5E47AABF_2\" # Den Haag\n",
    "obj = list(cm[\"CityObjects\"].keys())[0]\n",
    "# obj = \"UUID_LOD2_210138-f86f7351-7cad-4e8f-826f_2\" # Vienna\n",
    "\n",
    "building = cm[\"CityObjects\"][obj]"
   ]
  },
  {
   "cell_type": "code",
   "execution_count": 5,
   "id": "62981075",
   "metadata": {},
   "outputs": [
    {
     "data": {
      "application/vnd.jupyter.widget-view+json": {
       "model_id": "706813d8b27b475e868ec56e784d2e95",
       "version_major": 2,
       "version_minor": 0
      },
      "text/plain": [
       "ViewInteractiveWidget(height=768, layout=Layout(height='auto', width='100%'), width=1024)"
      ]
     },
     "metadata": {},
     "output_type": "display_data"
    }
   ],
   "source": [
    "dataset = cityjson.to_polydata(building[\"geometry\"][0], vertices)\n",
    "dataset = dataset.clean()\n",
    "dataset.plot(show_edges=True)"
   ]
  },
  {
   "cell_type": "code",
   "execution_count": 6,
   "id": "947b6dc9",
   "metadata": {},
   "outputs": [
    {
     "data": {
      "application/vnd.jupyter.widget-view+json": {
       "model_id": "68d51ab5a60f4f0498bd20bdeb7a3908",
       "version_major": 2,
       "version_minor": 0
      },
      "text/plain": [
       "ViewInteractiveWidget(height=768, layout=Layout(height='auto', width='100%'), width=1024)"
      ]
     },
     "metadata": {},
     "output_type": "display_data"
    }
   ],
   "source": [
    "trimesh = cityjson.to_triangulated_polydata(building[\"geometry\"][0], vertices).clean()\n",
    "trimesh.plot()"
   ]
  },
  {
   "cell_type": "code",
   "execution_count": 7,
   "id": "3558ad7a",
   "metadata": {},
   "outputs": [
    {
     "data": {
      "application/vnd.jupyter.widget-view+json": {
       "model_id": "d5f91b7748c140c9a26d9284ae86a620",
       "version_major": 2,
       "version_minor": 0
      },
      "text/plain": [
       "ViewInteractiveWidget(height=768, layout=Layout(height='auto', width='100%'), width=1024)"
      ]
     },
     "metadata": {},
     "output_type": "display_data"
    }
   ],
   "source": [
    "trimesh.clean().extract_feature_edges().plot()"
   ]
  },
  {
   "cell_type": "code",
   "execution_count": 8,
   "id": "a07663b9",
   "metadata": {},
   "outputs": [
    {
     "data": {
      "application/vnd.jupyter.widget-view+json": {
       "model_id": "fde815d6591d47cdabda054fdda1618f",
       "version_major": 2,
       "version_minor": 0
      },
      "text/plain": [
       "ViewInteractiveWidget(height=768, layout=Layout(height='auto', width='100%'), width=1024)"
      ]
     },
     "metadata": {},
     "output_type": "display_data"
    }
   ],
   "source": [
    "p = pv.Plotter()\n",
    "\n",
    "p.add_mesh(trimesh)\n",
    "p.add_mesh(trimesh.extract_feature_edges(), color='black')\n",
    "\n",
    "p.show()"
   ]
  },
  {
   "cell_type": "code",
   "execution_count": 9,
   "id": "c0148343",
   "metadata": {},
   "outputs": [
    {
     "data": {
      "application/vnd.jupyter.widget-view+json": {
       "model_id": "7234afe95b0349b7a5b4178278724469",
       "version_major": 2,
       "version_minor": 0
      },
      "text/plain": [
       "ViewInteractiveWidget(height=768, layout=Layout(height='auto', width='100%'), width=1024)"
      ]
     },
     "metadata": {},
     "output_type": "display_data"
    }
   ],
   "source": [
    "edges = trimesh.extract_feature_edges(boundary_edges=True,\n",
    "                           feature_edges=False,\n",
    "                           manifold_edges=False)\n",
    "\n",
    "p = pv.Plotter()\n",
    "\n",
    "p.add_mesh(trimesh, opacity=0.5)\n",
    "if trimesh.n_open_edges:\n",
    "    p.add_mesh(edges, color='red', line_width=10)\n",
    "\n",
    "p.show()"
   ]
  },
  {
   "cell_type": "code",
   "execution_count": 10,
   "id": "f32358cb",
   "metadata": {},
   "outputs": [
    {
     "data": {
      "application/vnd.jupyter.widget-view+json": {
       "model_id": "58b02f9b220f46ad80276c8bdd40f40c",
       "version_major": 2,
       "version_minor": 0
      },
      "text/plain": [
       "ViewInteractiveWidget(height=768, layout=Layout(height='auto', width='100%'), width=1024)"
      ]
     },
     "metadata": {},
     "output_type": "display_data"
    }
   ],
   "source": [
    "clean = trimesh.clean()\n",
    "voxel = pv.voxelize(clean, density=clean.length/100, check_surface=False)\n",
    "voxel.plot(show_edges=True, text=f\"[{obj}] Voxelized\")"
   ]
  },
  {
   "cell_type": "code",
   "execution_count": 11,
   "id": "5ab5e495",
   "metadata": {},
   "outputs": [
    {
     "name": "stdout",
     "output_type": "stream",
     "text": [
      "Voxel: 1431.825477038297\n",
      "Actual: 1314.5061478069588\n"
     ]
    }
   ],
   "source": [
    "print(f\"Voxel: {voxel.volume}\")\n",
    "print(f\"Actual: {trimesh.volume}\")"
   ]
  },
  {
   "cell_type": "code",
   "execution_count": 12,
   "id": "4b6eba9c",
   "metadata": {},
   "outputs": [
    {
     "data": {
      "application/vnd.jupyter.widget-view+json": {
       "model_id": "ffcb5e0b446841ffb4aa844624501ae8",
       "version_major": 2,
       "version_minor": 0
      },
      "text/plain": [
       "ViewInteractiveWidget(height=768, layout=Layout(height='auto', width='100%'), width=1024)"
      ]
     },
     "metadata": {},
     "output_type": "display_data"
    }
   ],
   "source": [
    "p = pv.Plotter()\n",
    "\n",
    "p.add_mesh(voxel, opacity=0.2, show_edges=True, color='yellow')\n",
    "p.add_mesh(voxel.cell_centers(), color='black')\n",
    "p.add_mesh(clean, color='grey')\n",
    "p.add_mesh(pv.PolyData(np.mean(voxel.cell_centers().points, axis=0)), color='white')\n",
    "\n",
    "p.show()"
   ]
  },
  {
   "cell_type": "code",
   "execution_count": 13,
   "id": "73fcb247",
   "metadata": {},
   "outputs": [
    {
     "data": {
      "text/plain": [
       "87160"
      ]
     },
     "execution_count": 13,
     "metadata": {},
     "output_type": "execute_result"
    }
   ],
   "source": [
    "clean = trimesh.clean()\n",
    "# clean.points -= np.mean(clean.points, axis=0)\n",
    "voxel = pv.voxelize(clean, density=clean.length/100)\n",
    "voxel.n_cells"
   ]
  },
  {
   "cell_type": "code",
   "execution_count": 14,
   "id": "89a58df5",
   "metadata": {},
   "outputs": [],
   "source": [
    "from helpers.minimumBoundingBox import MinimumBoundingBox"
   ]
  },
  {
   "cell_type": "code",
   "execution_count": 15,
   "id": "a51e8b74",
   "metadata": {},
   "outputs": [
    {
     "data": {
      "text/plain": [
       "79.87442991259086"
      ]
     },
     "execution_count": 15,
     "metadata": {},
     "output_type": "execute_result"
    }
   ],
   "source": [
    "obb_2d = MinimumBoundingBox([(p[0], p[1]) for p in dataset.clean().points])\n",
    "obb_2d.area"
   ]
  },
  {
   "cell_type": "code",
   "execution_count": 16,
   "id": "0d67fb8d",
   "metadata": {},
   "outputs": [
    {
     "data": {
      "text/plain": [
       "79.87442991259086"
      ]
     },
     "execution_count": 16,
     "metadata": {},
     "output_type": "execute_result"
    }
   ],
   "source": [
    "obb_2d.area"
   ]
  },
  {
   "cell_type": "code",
   "execution_count": 17,
   "id": "14713f19",
   "metadata": {},
   "outputs": [],
   "source": [
    "ground_z = np.min(dataset.clean().points[:, 2])\n",
    "height = np.max(dataset.clean().points[:, 2]) - ground_z\n",
    "box = np.array([[p[0], p[1], ground_z] for p in list(obb_2d.corner_points)])"
   ]
  },
  {
   "cell_type": "code",
   "execution_count": 18,
   "id": "eecff725",
   "metadata": {},
   "outputs": [],
   "source": [
    "obb = pv.PolyData(box).delaunay_2d()\n",
    "pts = obb.points\n",
    "\n",
    "t = np.mean(pts, axis=0)\n",
    "\n",
    "obb.points = obb.points - t\n",
    "obb = obb.extrude([0.0, 0.0, height])\n",
    "obb.points = obb.points + t"
   ]
  },
  {
   "cell_type": "code",
   "execution_count": 19,
   "id": "7df0cdae",
   "metadata": {},
   "outputs": [
    {
     "data": {
      "application/vnd.jupyter.widget-view+json": {
       "model_id": "d40bacce983140558f5b9c83afd503d6",
       "version_major": 2,
       "version_minor": 0
      },
      "text/plain": [
       "ViewInteractiveWidget(height=768, layout=Layout(height='auto', width='100%'), width=1024)"
      ]
     },
     "metadata": {},
     "output_type": "display_data"
    }
   ],
   "source": [
    "p = pv.Plotter()\n",
    "\n",
    "p.add_mesh(obb, opacity=0.3)\n",
    "p.add_mesh(trimesh)\n",
    "\n",
    "p.show()"
   ]
  },
  {
   "cell_type": "code",
   "execution_count": 20,
   "id": "0b0549a3",
   "metadata": {},
   "outputs": [
    {
     "data": {
      "text/plain": [
       "1314.5061479872948"
      ]
     },
     "execution_count": 20,
     "metadata": {},
     "output_type": "execute_result"
    }
   ],
   "source": [
    "dataset.clean().triangulate().volume"
   ]
  },
  {
   "cell_type": "code",
   "execution_count": 21,
   "id": "86415603",
   "metadata": {},
   "outputs": [],
   "source": [
    "m = MeshFix(obb.clean().triangulate())\n",
    "m.repair()\n",
    "fixed_obb = m.mesh"
   ]
  },
  {
   "cell_type": "code",
   "execution_count": 22,
   "id": "493ebb29",
   "metadata": {},
   "outputs": [
    {
     "data": {
      "text/plain": [
       "1409.3043596692721"
      ]
     },
     "execution_count": 22,
     "metadata": {},
     "output_type": "execute_result"
    }
   ],
   "source": [
    "fixed_obb.volume"
   ]
  },
  {
   "cell_type": "code",
   "execution_count": 23,
   "id": "95d4d9e3",
   "metadata": {},
   "outputs": [
    {
     "data": {
      "text/plain": [
       "1409.3044413469472"
      ]
     },
     "execution_count": 23,
     "metadata": {},
     "output_type": "execute_result"
    }
   ],
   "source": [
    "pv.PolyData(box).delaunay_2d().area * height"
   ]
  },
  {
   "cell_type": "code",
   "execution_count": 24,
   "id": "e02068a8",
   "metadata": {},
   "outputs": [
    {
     "data": {
      "text/plain": [
       "array([3, 3, 2, 1, 3, 7, 6, 5, 3, 3, 1, 0, 3, 7, 5, 4])"
      ]
     },
     "execution_count": 24,
     "metadata": {},
     "output_type": "execute_result"
    }
   ],
   "source": [
    "obb.faces"
   ]
  },
  {
   "cell_type": "code",
   "execution_count": 25,
   "id": "98932470",
   "metadata": {},
   "outputs": [
    {
     "data": {
      "text/plain": [
       "[array([300661.362, 5041288.754, 16.386]),\n",
       " array([300658.237, 5041282.894, 16.570]),\n",
       " array([300658.691, 5041283.209, 34.417]),\n",
       " array([300661.816, 5041289.069, 34.234]),\n",
       " array([300646.020, 5041289.416, 16.765]),\n",
       " array([300649.145, 5041295.276, 16.582]),\n",
       " array([300649.599, 5041295.591, 34.430]),\n",
       " array([300646.474, 5041289.731, 34.613])]"
      ]
     },
     "execution_count": 25,
     "metadata": {},
     "output_type": "execute_result"
    }
   ],
   "source": [
    "from pyobb.obb import OBB\n",
    "\n",
    "obb_full_3d = OBB.build_from_points(dataset.clean().points)\n",
    "obb_full_3d.points"
   ]
  },
  {
   "cell_type": "code",
   "execution_count": 26,
   "id": "0cd53bda",
   "metadata": {},
   "outputs": [
    {
     "data": {
      "image/svg+xml": [
       "<svg xmlns=\"http://www.w3.org/2000/svg\" xmlns:xlink=\"http://www.w3.org/1999/xlink\" width=\"100.0\" height=\"100.0\" viewBox=\"300645.9828392992 5041282.728891898 15.853338935528882 12.988689415156841\" preserveAspectRatio=\"xMinYMin meet\"><g transform=\"matrix(1,0,0,-1,0,10082578.446473211)\"><path fill-rule=\"evenodd\" fill=\"#66cc99\" stroke=\"#555555\" stroke-width=\"0.31706677871057765\" opacity=\"0.6\" d=\"M 300649.48562706565,5041295.130420612 L 300646.57000000053,5041289.996000001 L 300658.33339046827,5041283.316052599 L 300661.2490175334,5041288.45047321 L 300649.48562706565,5041295.130420612 z\" /></g></svg>"
      ],
      "text/plain": [
       "<shapely.geometry.polygon.Polygon at 0x15d582a30>"
      ]
     },
     "execution_count": 26,
     "metadata": {},
     "output_type": "execute_result"
    }
   ],
   "source": [
    "from cityjson import to_shapely\n",
    "\n",
    "obb_2d = to_shapely(building[\"geometry\"][0], vertices).minimum_rotated_rectangle\n",
    "obb_2d"
   ]
  },
  {
   "cell_type": "code",
   "execution_count": 27,
   "id": "9760abaa",
   "metadata": {},
   "outputs": [],
   "source": [
    "from geometry import extrude\n",
    "\n",
    "ground_z = np.min(dataset.clean().points[:, 2])\n",
    "roof_z = np.max(dataset.clean().points[:, 2])\n",
    "obb = extrude(obb_2d, ground_z, roof_z)"
   ]
  },
  {
   "cell_type": "code",
   "execution_count": 28,
   "id": "9d918661",
   "metadata": {},
   "outputs": [
    {
     "data": {
      "application/vnd.jupyter.widget-view+json": {
       "model_id": "43e568712ae740538b4f3a7b2547c164",
       "version_major": 2,
       "version_minor": 0
      },
      "text/plain": [
       "ViewInteractiveWidget(height=768, layout=Layout(height='auto', width='100%'), width=1024)"
      ]
     },
     "metadata": {},
     "output_type": "display_data"
    }
   ],
   "source": [
    "p = pv.Plotter()\n",
    "\n",
    "p.add_mesh(obb, show_edges=True, opacity=0.3)\n",
    "p.add_mesh(trimesh)\n",
    "\n",
    "p.show()"
   ]
  },
  {
   "cell_type": "code",
   "execution_count": null,
   "id": "5adf073b",
   "metadata": {},
   "outputs": [],
   "source": []
  },
  {
   "cell_type": "code",
   "execution_count": 29,
   "id": "a359fedf",
   "metadata": {},
   "outputs": [
    {
     "name": "stdout",
     "output_type": "stream",
     "text": [
      "Volume: 1314.5061478069588\n",
      "OBB: 1409.3043411738627\n"
     ]
    },
    {
     "data": {
      "application/vnd.jupyter.widget-view+json": {
       "model_id": "88822989a582463f8c3028917f346cba",
       "version_major": 2,
       "version_minor": 0
      },
      "text/plain": [
       "ViewInteractiveWidget(height=768, layout=Layout(height='auto', width='100%'), width=1024)"
      ]
     },
     "metadata": {},
     "output_type": "display_data"
    }
   ],
   "source": [
    "m = MeshFix(obb.clean().triangulate())\n",
    "m.repair()\n",
    "fixed_obb = m.mesh\n",
    "\n",
    "print(f\"Volume: {trimesh.volume}\")\n",
    "print(f\"OBB: {obb.volume}\")\n",
    "\n",
    "p = pv.Plotter()\n",
    "\n",
    "p.add_mesh(obb.clean(), show_edges=True, opacity=0.3)\n",
    "p.add_mesh(trimesh)\n",
    "\n",
    "p.show()"
   ]
  },
  {
   "cell_type": "code",
   "execution_count": 30,
   "id": "7ed89631",
   "metadata": {},
   "outputs": [
    {
     "data": {
      "text/html": [
       "\n",
       "<table>\n",
       "<tr><th>PolyData</th><th>Information</th></tr>\n",
       "<tr><td>N Cells</td><td>12</td></tr>\n",
       "<tr><td>N Points</td><td>8</td></tr>\n",
       "<tr><td>X Bounds</td><td>-6.455e+00, 8.224e+00</td></tr>\n",
       "<tr><td>Y Bounds</td><td>-7.089e+00, 4.726e+00</td></tr>\n",
       "<tr><td>Z Bounds</td><td>0.000e+00, 1.764e+01</td></tr>\n",
       "<tr><td>N Arrays</td><td>0</td></tr>\n",
       "</table>\n",
       "\n"
      ],
      "text/plain": [
       "PolyData (0x18287a220)\n",
       "  N Cells:\t12\n",
       "  N Points:\t8\n",
       "  X Bounds:\t-6.455e+00, 8.224e+00\n",
       "  Y Bounds:\t-7.089e+00, 4.726e+00\n",
       "  Z Bounds:\t0.000e+00, 1.764e+01\n",
       "  N Arrays:\t0"
      ]
     },
     "execution_count": 30,
     "metadata": {},
     "output_type": "execute_result"
    }
   ],
   "source": [
    "obb.triangulate().clean()"
   ]
  },
  {
   "cell_type": "code",
   "execution_count": 31,
   "id": "87801e82",
   "metadata": {},
   "outputs": [
    {
     "data": {
      "text/html": [
       "\n",
       "<table>\n",
       "<tr><th>PolyData</th><th>Information</th></tr>\n",
       "<tr><td>N Cells</td><td>12</td></tr>\n",
       "<tr><td>N Points</td><td>8</td></tr>\n",
       "<tr><td>X Bounds</td><td>-6.455e+00, 8.224e+00</td></tr>\n",
       "<tr><td>Y Bounds</td><td>-7.089e+00, 4.726e+00</td></tr>\n",
       "<tr><td>Z Bounds</td><td>0.000e+00, 1.764e+01</td></tr>\n",
       "<tr><td>N Arrays</td><td>0</td></tr>\n",
       "</table>\n",
       "\n"
      ],
      "text/plain": [
       "PolyData (0x17af7ff40)\n",
       "  N Cells:\t12\n",
       "  N Points:\t8\n",
       "  X Bounds:\t-6.455e+00, 8.224e+00\n",
       "  Y Bounds:\t-7.089e+00, 4.726e+00\n",
       "  Z Bounds:\t0.000e+00, 1.764e+01\n",
       "  N Arrays:\t0"
      ]
     },
     "execution_count": 31,
     "metadata": {},
     "output_type": "execute_result"
    }
   ],
   "source": [
    "fixed_obb"
   ]
  },
  {
   "cell_type": "code",
   "execution_count": 75,
   "id": "4a05088b",
   "metadata": {},
   "outputs": [
    {
     "data": {
      "text/plain": [
       "0.5840967484587085"
      ]
     },
     "execution_count": 75,
     "metadata": {},
     "output_type": "execute_result"
    }
   ],
   "source": [
    "from shapely.geometry import Point, MultiPoint, Polygon\n",
    "import math\n",
    "from tqdm.notebook import trange, tqdm\n",
    "\n",
    "def create_grid_2d(shape, density):\n",
    "    \"\"\"Return the grid for a given polygon\"\"\"\n",
    "    \n",
    "    x_min, y_min, x_max, y_max = shape.bounds\n",
    "    x = np.arange(x_min, x_max, density)\n",
    "    y = np.arange(y_min, y_max, density)\n",
    "    x, y = np.meshgrid(x, y)\n",
    "    \n",
    "    x = np.hstack(x)\n",
    "    y = np.hstack(y)\n",
    "    \n",
    "    return [(x[i], y[i]) for i in range(len(x))]\n",
    "\n",
    "def create_grid_3d(mesh, density, check_surface=False):\n",
    "    \"\"\"Returns the grid for a given mesh\"\"\"\n",
    "    voxel = pv.voxelize(mesh, density=density, check_surface=check_surface)\n",
    "    \n",
    "    return voxel.cell_centers().points\n",
    "\n",
    "def distance(x, y):\n",
    "    \"\"\"Returns the euclidean distance between two points\"\"\"\n",
    "    \n",
    "    return math.sqrt(sum([math.pow(x[c] - y[c], 2) for c in range(len(x))]))\n",
    "\n",
    "def cohesion_2d(shape, grid=None, density=1):\n",
    "    \"\"\"Returns the cohesion index in 2D for a given polygon\"\"\"\n",
    "    \n",
    "    if grid is None:\n",
    "        grid = create_grid(shape, density)\n",
    "    \n",
    "    if isinstance(grid, list):\n",
    "        grid = MultiPoint(grid).intersection(shape)\n",
    "    \n",
    "    d = 0\n",
    "    for pi in tqdm(grid.geoms):\n",
    "        for pj in grid.geoms:\n",
    "            if pi == pj:\n",
    "                continue\n",
    "            \n",
    "            d += pi.distance(pj)\n",
    "\n",
    "    n = len(grid.geoms)\n",
    "    return 0.9054 * math.sqrt(shape.area / math.pi) / (1 / (n * (n - 1)) * d)\n",
    "\n",
    "def cohesion_3d(mesh, density=1, check_surface=False):\n",
    "    \"\"\"Returns the cohesion index in 3D for a given mesh\"\"\"\n",
    "    \n",
    "    voxel = pv.voxelize(mesh, density=density, check_surface=check_surface)\n",
    "    grid = voxel.cell_centers().points\n",
    "    \n",
    "    d = 0\n",
    "    for pi in tqdm(grid):\n",
    "        for pj in grid:\n",
    "            d += distance(pi, pj)\n",
    "    \n",
    "    # TODO: Calculate the actual formula here\n",
    "    return d\n",
    "\n",
    "def proximity_2d(shape, density=1, grid=None):\n",
    "    \"\"\"Returns the proximity index in 2D for a given polygon\"\"\"\n",
    "    \n",
    "    if grid is None:\n",
    "        grid = create_grid(shape, density)\n",
    "    \n",
    "    if isinstance(grid, list):\n",
    "        grid = MultiPoint(grid).intersection(shape)\n",
    "    \n",
    "    centroid = shape.centroid\n",
    "    \n",
    "    return 2 / 3 * math.sqrt(shape.area / math.pi) / np.mean([centroid.distance(p) for p in grid])\n",
    "\n",
    "def proximity_3d(mesh, grid=None, density=1, check_surface=False):\n",
    "    \"\"\"Returns the cohesion index in 3D for a given mesh\"\"\"\n",
    "    \n",
    "    if grid is None:\n",
    "        voxel = pv.voxelize(mesh, density=density, check_surface=check_surface)\n",
    "        grid = voxel.cell_centers().points\n",
    "    \n",
    "    centroid = np.mean(grid, axis=0)\n",
    "    \n",
    "    # TODO: Calculate the actual formula here\n",
    "    return np.mean([distance(centroid, p) for p in grid])\n",
    "\n",
    "def equal_volume_sphere(mesh, position=(0, 0, 0)):\n",
    "    \"\"\"Returns the sphere that has the same volume as the given mesh\"\"\"\n",
    "    \n",
    "    r = math.pow(3 * mesh.volume / (4 * math.pi), 1/3)\n",
    "    \n",
    "    return pv.Sphere(radius=r, center=position)\n",
    "\n",
    "def exchange_2d(shape):\n",
    "    \"\"\"Returns the exchange index in 2D for a given polygon\"\"\"\n",
    "    \n",
    "    r = math.sqrt(shape.area / math.pi)\n",
    "    \n",
    "    eac = shape.centroid.buffer(r)\n",
    "    \n",
    "    return shape.intersection(eac).area / shape.area\n",
    "\n",
    "def exchange_3d(mesh, evs=None, engine=\"igl\"):\n",
    "    \"\"\"Returns the exhange index in 3D for a given mesh\"\"\"\n",
    "    \n",
    "    if evs is None:\n",
    "        voxel = pv.voxelize(clean, density=0.25)\n",
    "        grid = voxel.cell_centers().points\n",
    "\n",
    "        centroid = np.mean(grid, axis=0)\n",
    "        evs = equal_volume_sphere(mesh, centroid)\n",
    "    \n",
    "    pm_mesh = to_pymesh(mesh)\n",
    "    pm_evs = to_pymesh(evs)\n",
    "    \n",
    "    inter = pymesh.boolean(pm_mesh, pm_evs, operation=\"intersection\", engine=engine)\n",
    "    \n",
    "    return inter.volume / mesh.volume\n",
    "    \n",
    "# cohesion_2d(Point(0,0).buffer(1.0), density=0.1)\n",
    "# cohesion_3d(clean)\n",
    "# proximity_2d(Point(0,0).buffer(1.0), 0.25)\n",
    "# voxel = pv.voxelize(clean, density=0.25)\n",
    "# grid = voxel.cell_centers().points\n",
    "\n",
    "# centroid = np.mean(grid, axis=0)\n",
    "\n",
    "exchange_3d(clean, evs)\n",
    "# exchange_2d(Point(0, 0).buffer(25))\n",
    "\n",
    "# proximity_3d(evs, density=0.25) / proximity_3d(clean, density=0.25)"
   ]
  },
  {
   "cell_type": "code",
   "execution_count": 33,
   "id": "8f6e4e0c",
   "metadata": {},
   "outputs": [],
   "source": [
    "evs = equal_volume_sphere(clean, centroid)"
   ]
  },
  {
   "cell_type": "code",
   "execution_count": 56,
   "id": "118d4dc6",
   "metadata": {},
   "outputs": [],
   "source": [
    "import pymesh\n",
    "\n",
    "def to_pymesh(mesh):\n",
    "    \"\"\"Returns a pymesh from a pyvista PolyData\"\"\"\n",
    "    v = mesh.points\n",
    "    f = mesh.faces.reshape(-1, 4)[:, 1:]\n",
    "\n",
    "    return pymesh.form_mesh(v, f)\n",
    "\n",
    "def to_pyvista(mesh):\n",
    "    \"\"\"Return a PolyData from a pymesh\"\"\"\n",
    "    v = mesh.vertices\n",
    "    f = mesh.faces\n",
    "    \n",
    "    f = np.hstack([[len(f)] + list(f) for f in mesh.faces])\n",
    "    \n",
    "    return pv.PolyData(v, f, len(mesh.faces))\n",
    "\n",
    "clean_pm = to_pymesh(clean)\n",
    "evs_pm = to_pymesh(evs)"
   ]
  },
  {
   "cell_type": "code",
   "execution_count": 47,
   "id": "edb6e158",
   "metadata": {},
   "outputs": [
    {
     "data": {
      "text/plain": [
       "array([[300647.172, 5041289.747, 25.088],\n",
       "       [300647.172, 5041289.747, 25.455],\n",
       "       [300647.172, 5041289.747, 25.824],\n",
       "       ...,\n",
       "       [300660.596, 5041288.615, 25.088],\n",
       "       [300660.596, 5041288.615, 25.371],\n",
       "       [300660.596, 5041288.615, 25.824]])"
      ]
     },
     "execution_count": 47,
     "metadata": {},
     "output_type": "execute_result"
    }
   ],
   "source": [
    "inter = pymesh.boolean(clean_pm, evs_pm, operation=\"intersection\", engine=\"igl\")"
   ]
  },
  {
   "cell_type": "code",
   "execution_count": 67,
   "id": "d21b1399",
   "metadata": {},
   "outputs": [
    {
     "data": {
      "application/vnd.jupyter.widget-view+json": {
       "model_id": "7ffb6ed49e454003bc27dbe156cf75e9",
       "version_major": 2,
       "version_minor": 0
      },
      "text/plain": [
       "ViewInteractiveWidget(height=768, layout=Layout(height='auto', width='100%'), width=1024)"
      ]
     },
     "metadata": {},
     "output_type": "display_data"
    }
   ],
   "source": [
    "p = pv.Plotter()\n",
    "\n",
    "p.add_mesh(evs, opacity=0.2, color='yellow')\n",
    "p.add_mesh(to_pyvista(inter), opacity=0.5, color='blue')\n",
    "\n",
    "p.show()"
   ]
  }
 ],
 "metadata": {
  "kernelspec": {
   "display_name": "Python 3",
   "language": "python",
   "name": "python3"
  },
  "language_info": {
   "codemirror_mode": {
    "name": "ipython",
    "version": 3
   },
   "file_extension": ".py",
   "mimetype": "text/x-python",
   "name": "python",
   "nbconvert_exporter": "python",
   "pygments_lexer": "ipython3",
   "version": "3.9.5"
  },
  "toc-autonumbering": false,
  "toc-showcode": false,
  "toc-showmarkdowntxt": false
 },
 "nbformat": 4,
 "nbformat_minor": 5
}
