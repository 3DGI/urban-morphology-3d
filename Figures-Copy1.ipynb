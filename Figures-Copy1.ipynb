{
 "cells": [
  {
   "cell_type": "markdown",
   "id": "d7a0dadd",
   "metadata": {},
   "source": [
    "# Figures\n",
    "\n",
    "A notebook to make figures of mesh differences"
   ]
  },
  {
   "cell_type": "code",
   "execution_count": 1,
   "id": "31fc7a30",
   "metadata": {},
   "outputs": [],
   "source": [
    "import json\n",
    "import pyvista as pv\n",
    "import pymesh\n",
    "from helpers.mesh import *\n",
    "import cityjson"
   ]
  },
  {
   "cell_type": "code",
   "execution_count": 2,
   "id": "796b6f96",
   "metadata": {},
   "outputs": [],
   "source": [
    "def load_citymodel(file):\n",
    "    cm = json.load(file)\n",
    "\n",
    "    if \"transform\" in cm:\n",
    "        s = cm[\"transform\"][\"scale\"]\n",
    "        t = cm[\"transform\"][\"translate\"]\n",
    "        verts = [[v[0] * s[0] + t[0], v[1] * s[1] + t[1], v[2] * s[2] + t[2]]\n",
    "                for v in cm[\"vertices\"]]\n",
    "    else:\n",
    "        verts = cm[\"vertices\"]\n",
    "\n",
    "    # mesh points\n",
    "    vertices = np.array(verts)\n",
    "\n",
    "    return cm, vertices\n",
    "\n",
    "def get_geometry(co, lod):\n",
    "    \"\"\"Returns the geometry of the given LoD.\n",
    "    \n",
    "    If lod is None then it returns the first one.\n",
    "    \"\"\"\n",
    "\n",
    "    if len(co[\"geometry\"]) == 0:\n",
    "        return None\n",
    "\n",
    "    if lod is None:\n",
    "        return co[\"geometry\"][0]\n",
    "\n",
    "    for geom in co[\"geometry\"]:\n",
    "        if str(geom[\"lod\"]) == str(lod):\n",
    "            return geom\n",
    "\n",
    "def is_valid(mesh):\n",
    "    return mesh.volume > 0 and mesh.n_open_edges == 0\n",
    "\n",
    "def get_mesh(objid, tile_id, lod=\"2.2\"):\n",
    "    filename = f\"/home/alabetski/3DBAG_09/{tile_id}.json\"\n",
    "\n",
    "    with open(filename, \"rb\") as file:\n",
    "        cm, verts = load_citymodel(file)\n",
    "\n",
    "    building = cm[\"CityObjects\"][objid]\n",
    "\n",
    "    lod_dest = lod\n",
    "\n",
    "    geom_dest = get_geometry(building, lod_dest)\n",
    "\n",
    "    mesh_dest = cityjson.to_triangulated_polydata(geom_dest, verts)\n",
    "    \n",
    "    return geom_dest, mesh_dest, verts"
   ]
  },
  {
   "cell_type": "code",
   "execution_count": 1,
   "id": "bb6fbc20",
   "metadata": {},
   "outputs": [],
   "source": [
    "import pymesh\n",
    "import cityjson\n",
    "import geometry\n",
    "\n",
    "solid_color = \"lightgrey\"\n",
    "trans_color = \"red\"\n",
    "opacity = 0.7\n",
    "edges_on = True\n",
    "border_width = 5.0\n",
    "\n",
    "def plot(geom, mesh, path, verts):\n",
    "    pm_mesh = to_pymesh(mesh)\n",
    "\n",
    "    pm_ch = pymesh.convex_hull(pm_mesh)\n",
    "\n",
    "    convex_hull = to_pyvista(pm_ch)\n",
    "\n",
    "    # Compute OBB with shapely\n",
    "    obb_2d = cityjson.to_shapely(geom, verts, ground_only=False).minimum_rotated_rectangle\n",
    "    min_z = np.min(mesh.clean().points[:, 2])\n",
    "    max_z = np.max(mesh.clean().points[:, 2])\n",
    "    obb = geometry.extrude(obb_2d, min_z, max_z)\n",
    "\n",
    "    points = np.array([[p[0], p[1], min_z] for p in obb_2d.boundary.coords])\n",
    "    obb.points += np.mean(points, axis=0)\n",
    "\n",
    "    aobb = mesh.outline(generate_faces=True)\n",
    "\n",
    "    p = pv.Plotter(window_size=[2048, 2048], shape=(2,2))\n",
    "    p.add_title(\"test\", color=\"black\")\n",
    "\n",
    "    p.background_color = \"white\"\n",
    "\n",
    "    p.add_mesh(mesh, color=solid_color)\n",
    "    if edges_on:\n",
    "        p.add_mesh(mesh.extract_feature_edges(), color=\"black\", line_width=border_width)\n",
    "\n",
    "    p.subplot(0, 1)\n",
    "\n",
    "    p.add_mesh(mesh, color=solid_color)\n",
    "    p.add_mesh(convex_hull, color=trans_color, opacity=opacity)\n",
    "    if edges_on:\n",
    "        p.add_mesh(convex_hull.extract_feature_edges(feature_angle=10), color=trans_color, line_width=border_width)\n",
    "\n",
    "    p.subplot(1, 0)\n",
    "\n",
    "    p.add_mesh(mesh, color=solid_color)\n",
    "    p.add_mesh(obb, color=trans_color, opacity=opacity)\n",
    "    if edges_on:\n",
    "        p.add_mesh(obb.extract_feature_edges(), color=trans_color, line_width=border_width)\n",
    "\n",
    "    p.subplot(1, 1)\n",
    "\n",
    "    p.add_mesh(mesh, color=solid_color)\n",
    "    p.add_mesh(aobb, color=trans_color, opacity=opacity)\n",
    "    if edges_on:\n",
    "        p.add_mesh(aobb.extract_feature_edges(), color=trans_color, line_width=border_width)\n",
    "\n",
    "    p.show()\n",
    "    p.link_views()\n",
    "    # p.set_position(np.mean(mesh.points, axis=0) + [50, 0, 30])\n",
    "    p.save_graphic(path)\n",
    "    p.close()"
   ]
  },
  {
   "cell_type": "code",
   "execution_count": 4,
   "id": "8effe0a6",
   "metadata": {},
   "outputs": [],
   "source": [
    "import pandas as pd\n",
    "df = pd.read_csv(\"/home/alabetski/3DBAG_09/all/lod2.2.csv\")\n",
    "\n",
    "clean = df[df[\"valid\"]].set_index(\"id\")"
   ]
  },
  {
   "cell_type": "code",
   "execution_count": 6,
   "id": "cc7da6bf",
   "metadata": {
    "scrolled": true
   },
   "outputs": [
    {
     "data": {
      "application/vnd.jupyter.widget-view+json": {
       "model_id": "53c616a0c648422988fc81859b613e56",
       "version_major": 2,
       "version_minor": 0
      },
      "text/plain": [
       "ViewInteractiveWidget(height=2048, layout=Layout(height='auto', width='100%'), width=2048)"
      ]
     },
     "metadata": {},
     "output_type": "display_data"
    },
    {
     "name": "stdout",
     "output_type": "stream",
     "text": [
      "/home/alabetski/figures/hemisphericality_3d/0.0284824544070598_NL.IMBAG.Pand.0599100000657847-0.pdf done...\n"
     ]
    },
    {
     "data": {
      "application/vnd.jupyter.widget-view+json": {
       "model_id": "3f851b47e2e7400badb4485388bcbd5b",
       "version_major": 2,
       "version_minor": 0
      },
      "text/plain": [
       "ViewInteractiveWidget(height=2048, layout=Layout(height='auto', width='100%'), width=2048)"
      ]
     },
     "metadata": {},
     "output_type": "display_data"
    },
    {
     "name": "stdout",
     "output_type": "stream",
     "text": [
      "/home/alabetski/figures/hemisphericality_3d/0.5952215940868545_NL.IMBAG.Pand.0363100012223144-0.pdf done...\n"
     ]
    },
    {
     "data": {
      "application/vnd.jupyter.widget-view+json": {
       "model_id": "c797776fdbdc4354a8b9e281af3ad4a8",
       "version_major": 2,
       "version_minor": 0
      },
      "text/plain": [
       "ViewInteractiveWidget(height=2048, layout=Layout(height='auto', width='100%'), width=2048)"
      ]
     },
     "metadata": {},
     "output_type": "display_data"
    },
    {
     "name": "stdout",
     "output_type": "stream",
     "text": [
      "/home/alabetski/figures/hemisphericality_3d/0.0284824544070598_NL.IMBAG.Pand.0599100000657847-0.pdf done...\n"
     ]
    },
    {
     "data": {
      "application/vnd.jupyter.widget-view+json": {
       "model_id": "6d5462c7762243349e5eb67ccca843d5",
       "version_major": 2,
       "version_minor": 0
      },
      "text/plain": [
       "ViewInteractiveWidget(height=2048, layout=Layout(height='auto', width='100%'), width=2048)"
      ]
     },
     "metadata": {},
     "output_type": "display_data"
    },
    {
     "name": "stdout",
     "output_type": "stream",
     "text": [
      "/home/alabetski/figures/hemisphericality_3d/0.3349528300999916_NL.IMBAG.Pand.0489100000216539-0.pdf done...\n"
     ]
    },
    {
     "data": {
      "application/vnd.jupyter.widget-view+json": {
       "model_id": "7aeec665d4dd475f86f89ad5413b484f",
       "version_major": 2,
       "version_minor": 0
      },
      "text/plain": [
       "ViewInteractiveWidget(height=2048, layout=Layout(height='auto', width='100%'), width=2048)"
      ]
     },
     "metadata": {},
     "output_type": "display_data"
    },
    {
     "name": "stdout",
     "output_type": "stream",
     "text": [
      "/home/alabetski/figures/hemisphericality_3d/0.3735401969615479_NL.IMBAG.Pand.0333100000018840-0.pdf done...\n"
     ]
    },
    {
     "data": {
      "application/vnd.jupyter.widget-view+json": {
       "model_id": "b5fdbd73833944a7b67b757d95cf7b72",
       "version_major": 2,
       "version_minor": 0
      },
      "text/plain": [
       "ViewInteractiveWidget(height=2048, layout=Layout(height='auto', width='100%'), width=2048)"
      ]
     },
     "metadata": {},
     "output_type": "display_data"
    },
    {
     "name": "stdout",
     "output_type": "stream",
     "text": [
      "/home/alabetski/figures/hemisphericality_3d/0.3947518113222728_NL.IMBAG.Pand.0518100000212371-0.pdf done...\n"
     ]
    },
    {
     "data": {
      "application/vnd.jupyter.widget-view+json": {
       "model_id": "fd61511d17894ff2813f2330514bc264",
       "version_major": 2,
       "version_minor": 0
      },
      "text/plain": [
       "ViewInteractiveWidget(height=2048, layout=Layout(height='auto', width='100%'), width=2048)"
      ]
     },
     "metadata": {},
     "output_type": "display_data"
    },
    {
     "name": "stdout",
     "output_type": "stream",
     "text": [
      "/home/alabetski/figures/hemisphericality_3d/0.409247134855602_NL.IMBAG.Pand.0518100000278924-0.pdf done...\n"
     ]
    },
    {
     "data": {
      "application/vnd.jupyter.widget-view+json": {
       "model_id": "9b0624c3025a483ca48b3466abc53cd3",
       "version_major": 2,
       "version_minor": 0
      },
      "text/plain": [
       "ViewInteractiveWidget(height=2048, layout=Layout(height='auto', width='100%'), width=2048)"
      ]
     },
     "metadata": {},
     "output_type": "display_data"
    },
    {
     "name": "stdout",
     "output_type": "stream",
     "text": [
      "/home/alabetski/figures/hemisphericality_3d/0.420284468863549_NL.IMBAG.Pand.0344100000046771-0.pdf done...\n"
     ]
    },
    {
     "data": {
      "application/vnd.jupyter.widget-view+json": {
       "model_id": "6630220b4cd84169ba90ddb45f1fc991",
       "version_major": 2,
       "version_minor": 0
      },
      "text/plain": [
       "ViewInteractiveWidget(height=2048, layout=Layout(height='auto', width='100%'), width=2048)"
      ]
     },
     "metadata": {},
     "output_type": "display_data"
    },
    {
     "name": "stdout",
     "output_type": "stream",
     "text": [
      "/home/alabetski/figures/hemisphericality_3d/0.4292663828506741_NL.IMBAG.Pand.0599100000632166-0.pdf done...\n"
     ]
    },
    {
     "data": {
      "application/vnd.jupyter.widget-view+json": {
       "model_id": "acedf6c4264b4618a4b10419c3d038cf",
       "version_major": 2,
       "version_minor": 0
      },
      "text/plain": [
       "ViewInteractiveWidget(height=2048, layout=Layout(height='auto', width='100%'), width=2048)"
      ]
     },
     "metadata": {},
     "output_type": "display_data"
    },
    {
     "name": "stdout",
     "output_type": "stream",
     "text": [
      "/home/alabetski/figures/hemisphericality_3d/0.4371299725156829_NL.IMBAG.Pand.0363100012066936-0.pdf done...\n"
     ]
    },
    {
     "data": {
      "application/vnd.jupyter.widget-view+json": {
       "model_id": "37e0a758d82e49fa89fad20e3a10b59c",
       "version_major": 2,
       "version_minor": 0
      },
      "text/plain": [
       "ViewInteractiveWidget(height=2048, layout=Layout(height='auto', width='100%'), width=2048)"
      ]
     },
     "metadata": {},
     "output_type": "display_data"
    },
    {
     "name": "stdout",
     "output_type": "stream",
     "text": [
      "/home/alabetski/figures/hemisphericality_3d/0.4441088310636729_NL.IMBAG.Pand.0603100000011099-0.pdf done...\n"
     ]
    },
    {
     "data": {
      "application/vnd.jupyter.widget-view+json": {
       "model_id": "49ca8b5101e942dd85adbe2f6cea2ef6",
       "version_major": 2,
       "version_minor": 0
      },
      "text/plain": [
       "ViewInteractiveWidget(height=2048, layout=Layout(height='auto', width='100%'), width=2048)"
      ]
     },
     "metadata": {},
     "output_type": "display_data"
    },
    {
     "name": "stdout",
     "output_type": "stream",
     "text": [
      "/home/alabetski/figures/hemisphericality_3d/0.4504598026955288_NL.IMBAG.Pand.0599100000684819-0.pdf done...\n"
     ]
    },
    {
     "data": {
      "application/vnd.jupyter.widget-view+json": {
       "model_id": "1d82d82465cd409a9b40a3ca5e5623a8",
       "version_major": 2,
       "version_minor": 0
      },
      "text/plain": [
       "ViewInteractiveWidget(height=2048, layout=Layout(height='auto', width='100%'), width=2048)"
      ]
     },
     "metadata": {},
     "output_type": "display_data"
    },
    {
     "name": "stdout",
     "output_type": "stream",
     "text": [
      "/home/alabetski/figures/hemisphericality_3d/0.4565043445485121_NL.IMBAG.Pand.0518100000318615-0.pdf done...\n"
     ]
    },
    {
     "data": {
      "application/vnd.jupyter.widget-view+json": {
       "model_id": "4ee4d484a6244073bbb764110981c8c3",
       "version_major": 2,
       "version_minor": 0
      },
      "text/plain": [
       "ViewInteractiveWidget(height=2048, layout=Layout(height='auto', width='100%'), width=2048)"
      ]
     },
     "metadata": {},
     "output_type": "display_data"
    },
    {
     "name": "stdout",
     "output_type": "stream",
     "text": [
      "/home/alabetski/figures/hemisphericality_3d/0.4621323830576012_NL.IMBAG.Pand.0599100000083824-0.pdf done...\n"
     ]
    },
    {
     "data": {
      "application/vnd.jupyter.widget-view+json": {
       "model_id": "ff620a4cf75b4d32bd57a4cd835d7251",
       "version_major": 2,
       "version_minor": 0
      },
      "text/plain": [
       "ViewInteractiveWidget(height=2048, layout=Layout(height='auto', width='100%'), width=2048)"
      ]
     },
     "metadata": {},
     "output_type": "display_data"
    },
    {
     "name": "stdout",
     "output_type": "stream",
     "text": [
      "/home/alabetski/figures/hemisphericality_3d/0.4676877847546887_NL.IMBAG.Pand.0344100000078806-0.pdf done...\n"
     ]
    },
    {
     "data": {
      "application/vnd.jupyter.widget-view+json": {
       "model_id": "2648ba8b88a84891b4fde751dc36d58d",
       "version_major": 2,
       "version_minor": 0
      },
      "text/plain": [
       "ViewInteractiveWidget(height=2048, layout=Layout(height='auto', width='100%'), width=2048)"
      ]
     },
     "metadata": {},
     "output_type": "display_data"
    },
    {
     "name": "stdout",
     "output_type": "stream",
     "text": [
      "/home/alabetski/figures/hemisphericality_3d/0.4733051778954625_NL.IMBAG.Pand.0518100000303262-0.pdf done...\n"
     ]
    },
    {
     "data": {
      "application/vnd.jupyter.widget-view+json": {
       "model_id": "7e30c782a79544dabc7fcc307f19260c",
       "version_major": 2,
       "version_minor": 0
      },
      "text/plain": [
       "ViewInteractiveWidget(height=2048, layout=Layout(height='auto', width='100%'), width=2048)"
      ]
     },
     "metadata": {},
     "output_type": "display_data"
    },
    {
     "name": "stdout",
     "output_type": "stream",
     "text": [
      "/home/alabetski/figures/hemisphericality_3d/0.4791903837900804_NL.IMBAG.Pand.0363100012130777-0.pdf done...\n"
     ]
    },
    {
     "data": {
      "application/vnd.jupyter.widget-view+json": {
       "model_id": "08de5fe4497b41eeb714da46035cb62c",
       "version_major": 2,
       "version_minor": 0
      },
      "text/plain": [
       "ViewInteractiveWidget(height=2048, layout=Layout(height='auto', width='100%'), width=2048)"
      ]
     },
     "metadata": {},
     "output_type": "display_data"
    },
    {
     "name": "stdout",
     "output_type": "stream",
     "text": [
      "/home/alabetski/figures/hemisphericality_3d/0.4850431199045267_NL.IMBAG.Pand.0518100000284318-0.pdf done...\n"
     ]
    },
    {
     "data": {
      "application/vnd.jupyter.widget-view+json": {
       "model_id": "36edec30d57d49a4a71aefab8422d4e7",
       "version_major": 2,
       "version_minor": 0
      },
      "text/plain": [
       "ViewInteractiveWidget(height=2048, layout=Layout(height='auto', width='100%'), width=2048)"
      ]
     },
     "metadata": {},
     "output_type": "display_data"
    },
    {
     "name": "stdout",
     "output_type": "stream",
     "text": [
      "/home/alabetski/figures/hemisphericality_3d/0.4913396172838528_NL.IMBAG.Pand.0518100000323724-0.pdf done...\n"
     ]
    },
    {
     "data": {
      "application/vnd.jupyter.widget-view+json": {
       "model_id": "3b11d4e6b78441aeaaa4f851c66694b9",
       "version_major": 2,
       "version_minor": 0
      },
      "text/plain": [
       "ViewInteractiveWidget(height=2048, layout=Layout(height='auto', width='100%'), width=2048)"
      ]
     },
     "metadata": {},
     "output_type": "display_data"
    },
    {
     "name": "stdout",
     "output_type": "stream",
     "text": [
      "/home/alabetski/figures/hemisphericality_3d/0.4975142363485966_NL.IMBAG.Pand.0344100000022940-0.pdf done...\n"
     ]
    },
    {
     "data": {
      "application/vnd.jupyter.widget-view+json": {
       "model_id": "0668b8463929488b803f87d421f99672",
       "version_major": 2,
       "version_minor": 0
      },
      "text/plain": [
       "ViewInteractiveWidget(height=2048, layout=Layout(height='auto', width='100%'), width=2048)"
      ]
     },
     "metadata": {},
     "output_type": "display_data"
    },
    {
     "name": "stdout",
     "output_type": "stream",
     "text": [
      "/home/alabetski/figures/hemisphericality_3d/0.5039533626878164_NL.IMBAG.Pand.0344100000066762-0.pdf done...\n"
     ]
    },
    {
     "data": {
      "application/vnd.jupyter.widget-view+json": {
       "model_id": "ff68b4c6da914b9390c3d4138ee089be",
       "version_major": 2,
       "version_minor": 0
      },
      "text/plain": [
       "ViewInteractiveWidget(height=2048, layout=Layout(height='auto', width='100%'), width=2048)"
      ]
     },
     "metadata": {},
     "output_type": "display_data"
    },
    {
     "name": "stdout",
     "output_type": "stream",
     "text": [
      "/home/alabetski/figures/hemisphericality_3d/0.5124294053815217_NL.IMBAG.Pand.0599100000670064-0.pdf done...\n"
     ]
    },
    {
     "data": {
      "application/vnd.jupyter.widget-view+json": {
       "model_id": "a7d3c9a7f56e4524bee1479f8c9f7837",
       "version_major": 2,
       "version_minor": 0
      },
      "text/plain": [
       "ViewInteractiveWidget(height=2048, layout=Layout(height='auto', width='100%'), width=2048)"
      ]
     },
     "metadata": {},
     "output_type": "display_data"
    },
    {
     "name": "stdout",
     "output_type": "stream",
     "text": [
      "/home/alabetski/figures/hemisphericality_3d/0.5952215940868545_NL.IMBAG.Pand.0363100012223144-0.pdf done...\n"
     ]
    },
    {
     "data": {
      "application/vnd.jupyter.widget-view+json": {
       "model_id": "33bc628d22bd43079faa52ef43bf3029",
       "version_major": 2,
       "version_minor": 0
      },
      "text/plain": [
       "ViewInteractiveWidget(height=2048, layout=Layout(height='auto', width='100%'), width=2048)"
      ]
     },
     "metadata": {},
     "output_type": "display_data"
    },
    {
     "name": "stdout",
     "output_type": "stream",
     "text": [
      "/home/alabetski/figures/convexity_3d/0.074540476332761_NL.IMBAG.Pand.0518100001743971-0.pdf done...\n"
     ]
    },
    {
     "data": {
      "application/vnd.jupyter.widget-view+json": {
       "model_id": "9ccdde798a2247c88bbdee5148d3d3f7",
       "version_major": 2,
       "version_minor": 0
      },
      "text/plain": [
       "ViewInteractiveWidget(height=2048, layout=Layout(height='auto', width='100%'), width=2048)"
      ]
     },
     "metadata": {},
     "output_type": "display_data"
    },
    {
     "name": "stdout",
     "output_type": "stream",
     "text": [
      "/home/alabetski/figures/convexity_3d/0.9999999999999996_NL.IMBAG.Pand.0599100010052055-0.pdf done...\n"
     ]
    },
    {
     "data": {
      "application/vnd.jupyter.widget-view+json": {
       "model_id": "95c881980f07462197705b977053455b",
       "version_major": 2,
       "version_minor": 0
      },
      "text/plain": [
       "ViewInteractiveWidget(height=2048, layout=Layout(height='auto', width='100%'), width=2048)"
      ]
     },
     "metadata": {},
     "output_type": "display_data"
    },
    {
     "name": "stdout",
     "output_type": "stream",
     "text": [
      "/home/alabetski/figures/convexity_3d/0.074540476332761_NL.IMBAG.Pand.0518100001743971-0.pdf done...\n"
     ]
    },
    {
     "data": {
      "application/vnd.jupyter.widget-view+json": {
       "model_id": "5c4156c88cd046b0af1cedd5cab8cc67",
       "version_major": 2,
       "version_minor": 0
      },
      "text/plain": [
       "ViewInteractiveWidget(height=2048, layout=Layout(height='auto', width='100%'), width=2048)"
      ]
     },
     "metadata": {},
     "output_type": "display_data"
    },
    {
     "name": "stdout",
     "output_type": "stream",
     "text": [
      "/home/alabetski/figures/convexity_3d/0.7426028010288414_NL.IMBAG.Pand.0518100000321787-0.pdf done...\n"
     ]
    },
    {
     "data": {
      "application/vnd.jupyter.widget-view+json": {
       "model_id": "0eaa52ac1bce4829bc265d724d4c9bd9",
       "version_major": 2,
       "version_minor": 0
      },
      "text/plain": [
       "ViewInteractiveWidget(height=2048, layout=Layout(height='auto', width='100%'), width=2048)"
      ]
     },
     "metadata": {},
     "output_type": "display_data"
    },
    {
     "name": "stdout",
     "output_type": "stream",
     "text": [
      "/home/alabetski/figures/convexity_3d/0.7953593558021661_NL.IMBAG.Pand.0344100000079627-0.pdf done...\n"
     ]
    },
    {
     "data": {
      "application/vnd.jupyter.widget-view+json": {
       "model_id": "6d33f56ad0f1494aa0a45b154492b6fc",
       "version_major": 2,
       "version_minor": 0
      },
      "text/plain": [
       "ViewInteractiveWidget(height=2048, layout=Layout(height='auto', width='100%'), width=2048)"
      ]
     },
     "metadata": {},
     "output_type": "display_data"
    },
    {
     "name": "stdout",
     "output_type": "stream",
     "text": [
      "/home/alabetski/figures/convexity_3d/0.827867664503828_NL.IMBAG.Pand.0344100000005500-0.pdf done...\n"
     ]
    },
    {
     "data": {
      "application/vnd.jupyter.widget-view+json": {
       "model_id": "a380890288c54b86ae6ad0ee181c1111",
       "version_major": 2,
       "version_minor": 0
      },
      "text/plain": [
       "ViewInteractiveWidget(height=2048, layout=Layout(height='auto', width='100%'), width=2048)"
      ]
     },
     "metadata": {},
     "output_type": "display_data"
    },
    {
     "name": "stdout",
     "output_type": "stream",
     "text": [
      "/home/alabetski/figures/convexity_3d/0.8537535111916673_NL.IMBAG.Pand.0599100000311240-0.pdf done...\n"
     ]
    },
    {
     "data": {
      "application/vnd.jupyter.widget-view+json": {
       "model_id": "baab4973deae444f9e02339275ca30c8",
       "version_major": 2,
       "version_minor": 0
      },
      "text/plain": [
       "ViewInteractiveWidget(height=2048, layout=Layout(height='auto', width='100%'), width=2048)"
      ]
     },
     "metadata": {},
     "output_type": "display_data"
    },
    {
     "name": "stdout",
     "output_type": "stream",
     "text": [
      "/home/alabetski/figures/convexity_3d/0.8746733066812108_NL.IMBAG.Pand.0363100012089708-0.pdf done...\n"
     ]
    },
    {
     "data": {
      "application/vnd.jupyter.widget-view+json": {
       "model_id": "054042316383440c9cf86a22910e2b21",
       "version_major": 2,
       "version_minor": 0
      },
      "text/plain": [
       "ViewInteractiveWidget(height=2048, layout=Layout(height='auto', width='100%'), width=2048)"
      ]
     },
     "metadata": {},
     "output_type": "display_data"
    },
    {
     "name": "stdout",
     "output_type": "stream",
     "text": [
      "/home/alabetski/figures/convexity_3d/0.8918849989563798_NL.IMBAG.Pand.0599100000068466-0.pdf done...\n"
     ]
    },
    {
     "data": {
      "application/vnd.jupyter.widget-view+json": {
       "model_id": "f858142aa87c462e98f16c0d227c9813",
       "version_major": 2,
       "version_minor": 0
      },
      "text/plain": [
       "ViewInteractiveWidget(height=2048, layout=Layout(height='auto', width='100%'), width=2048)"
      ]
     },
     "metadata": {},
     "output_type": "display_data"
    },
    {
     "name": "stdout",
     "output_type": "stream",
     "text": [
      "/home/alabetski/figures/convexity_3d/0.907152506061896_NL.IMBAG.Pand.0344100000034722-0.pdf done...\n"
     ]
    },
    {
     "data": {
      "application/vnd.jupyter.widget-view+json": {
       "model_id": "09d6a8affc2b4fafb584f0c6a2c0602f",
       "version_major": 2,
       "version_minor": 0
      },
      "text/plain": [
       "ViewInteractiveWidget(height=2048, layout=Layout(height='auto', width='100%'), width=2048)"
      ]
     },
     "metadata": {},
     "output_type": "display_data"
    },
    {
     "name": "stdout",
     "output_type": "stream",
     "text": [
      "/home/alabetski/figures/convexity_3d/0.9201951978534731_NL.IMBAG.Pand.0363100012237937-0.pdf done...\n"
     ]
    },
    {
     "data": {
      "application/vnd.jupyter.widget-view+json": {
       "model_id": "f4eada0372e045fab5ee3f68ffa55348",
       "version_major": 2,
       "version_minor": 0
      },
      "text/plain": [
       "ViewInteractiveWidget(height=2048, layout=Layout(height='auto', width='100%'), width=2048)"
      ]
     },
     "metadata": {},
     "output_type": "display_data"
    },
    {
     "name": "stdout",
     "output_type": "stream",
     "text": [
      "/home/alabetski/figures/convexity_3d/0.9318242038373192_NL.IMBAG.Pand.0599100000640890-0.pdf done...\n"
     ]
    },
    {
     "data": {
      "application/vnd.jupyter.widget-view+json": {
       "model_id": "4601ff7cc52f41d98f99975308963117",
       "version_major": 2,
       "version_minor": 0
      },
      "text/plain": [
       "ViewInteractiveWidget(height=2048, layout=Layout(height='auto', width='100%'), width=2048)"
      ]
     },
     "metadata": {},
     "output_type": "display_data"
    },
    {
     "name": "stdout",
     "output_type": "stream",
     "text": [
      "/home/alabetski/figures/convexity_3d/0.9423454864438212_NL.IMBAG.Pand.0606100000001989-0.pdf done...\n"
     ]
    },
    {
     "data": {
      "application/vnd.jupyter.widget-view+json": {
       "model_id": "0322d1f5e5704c9dab311514073c5381",
       "version_major": 2,
       "version_minor": 0
      },
      "text/plain": [
       "ViewInteractiveWidget(height=2048, layout=Layout(height='auto', width='100%'), width=2048)"
      ]
     },
     "metadata": {},
     "output_type": "display_data"
    },
    {
     "name": "stdout",
     "output_type": "stream",
     "text": [
      "/home/alabetski/figures/convexity_3d/0.9524922650914768_NL.IMBAG.Pand.0599100000686178-0.pdf done...\n"
     ]
    },
    {
     "data": {
      "application/vnd.jupyter.widget-view+json": {
       "model_id": "72b3cd362a3e4c7892f90b6381a0597c",
       "version_major": 2,
       "version_minor": 0
      },
      "text/plain": [
       "ViewInteractiveWidget(height=2048, layout=Layout(height='auto', width='100%'), width=2048)"
      ]
     },
     "metadata": {},
     "output_type": "display_data"
    },
    {
     "name": "stdout",
     "output_type": "stream",
     "text": [
      "/home/alabetski/figures/convexity_3d/0.9627697374459556_NL.IMBAG.Pand.0384100000005604-0.pdf done...\n"
     ]
    },
    {
     "data": {
      "application/vnd.jupyter.widget-view+json": {
       "model_id": "f7b804a353c84b668f0a790a918ba041",
       "version_major": 2,
       "version_minor": 0
      },
      "text/plain": [
       "ViewInteractiveWidget(height=2048, layout=Layout(height='auto', width='100%'), width=2048)"
      ]
     },
     "metadata": {},
     "output_type": "display_data"
    },
    {
     "name": "stdout",
     "output_type": "stream",
     "text": [
      "/home/alabetski/figures/convexity_3d/0.9720151449443328_NL.IMBAG.Pand.0518100000287436-0.pdf done...\n"
     ]
    },
    {
     "data": {
      "application/vnd.jupyter.widget-view+json": {
       "model_id": "0ffe83532b834017aeb2120e5e710c71",
       "version_major": 2,
       "version_minor": 0
      },
      "text/plain": [
       "ViewInteractiveWidget(height=2048, layout=Layout(height='auto', width='100%'), width=2048)"
      ]
     },
     "metadata": {},
     "output_type": "display_data"
    },
    {
     "name": "stdout",
     "output_type": "stream",
     "text": [
      "/home/alabetski/figures/convexity_3d/0.9832252362938952_NL.IMBAG.Pand.0363100012161650-0.pdf done...\n"
     ]
    },
    {
     "data": {
      "application/vnd.jupyter.widget-view+json": {
       "model_id": "6ec03d77a77448e6be36fb827a29d3ff",
       "version_major": 2,
       "version_minor": 0
      },
      "text/plain": [
       "ViewInteractiveWidget(height=2048, layout=Layout(height='auto', width='100%'), width=2048)"
      ]
     },
     "metadata": {},
     "output_type": "display_data"
    },
    {
     "name": "stdout",
     "output_type": "stream",
     "text": [
      "/home/alabetski/figures/convexity_3d/0.9935852948498004_NL.IMBAG.Pand.0599100000759224-0.pdf done...\n"
     ]
    },
    {
     "data": {
      "application/vnd.jupyter.widget-view+json": {
       "model_id": "c6fda2967ee345c3abb061979c9e2da7",
       "version_major": 2,
       "version_minor": 0
      },
      "text/plain": [
       "ViewInteractiveWidget(height=2048, layout=Layout(height='auto', width='100%'), width=2048)"
      ]
     },
     "metadata": {},
     "output_type": "display_data"
    },
    {
     "name": "stdout",
     "output_type": "stream",
     "text": [
      "/home/alabetski/figures/convexity_3d/0.99929014645419_NL.IMBAG.Pand.0344100000051530-0.pdf done...\n"
     ]
    },
    {
     "data": {
      "application/vnd.jupyter.widget-view+json": {
       "model_id": "c6b548209fda42a389a3f41d4d7a42da",
       "version_major": 2,
       "version_minor": 0
      },
      "text/plain": [
       "ViewInteractiveWidget(height=2048, layout=Layout(height='auto', width='100%'), width=2048)"
      ]
     },
     "metadata": {},
     "output_type": "display_data"
    },
    {
     "name": "stdout",
     "output_type": "stream",
     "text": [
      "/home/alabetski/figures/convexity_3d/0.9997347615837248_NL.IMBAG.Pand.0344100000024782-0.pdf done...\n"
     ]
    },
    {
     "data": {
      "application/vnd.jupyter.widget-view+json": {
       "model_id": "e6a215c63b50446e976b3f277deb935e",
       "version_major": 2,
       "version_minor": 0
      },
      "text/plain": [
       "ViewInteractiveWidget(height=2048, layout=Layout(height='auto', width='100%'), width=2048)"
      ]
     },
     "metadata": {},
     "output_type": "display_data"
    },
    {
     "name": "stdout",
     "output_type": "stream",
     "text": [
      "/home/alabetski/figures/convexity_3d/0.9998151617994592_NL.IMBAG.Pand.0344100000061161-0.pdf done...\n"
     ]
    },
    {
     "data": {
      "application/vnd.jupyter.widget-view+json": {
       "model_id": "2b34af04036d4b0d8906ccc27b3ca7de",
       "version_major": 2,
       "version_minor": 0
      },
      "text/plain": [
       "ViewInteractiveWidget(height=2048, layout=Layout(height='auto', width='100%'), width=2048)"
      ]
     },
     "metadata": {},
     "output_type": "display_data"
    },
    {
     "name": "stdout",
     "output_type": "stream",
     "text": [
      "/home/alabetski/figures/convexity_3d/0.9998710373143912_NL.IMBAG.Pand.0363100012144877-0.pdf done...\n"
     ]
    },
    {
     "data": {
      "application/vnd.jupyter.widget-view+json": {
       "model_id": "5f215a831fd742af9da4a0fc0545add5",
       "version_major": 2,
       "version_minor": 0
      },
      "text/plain": [
       "ViewInteractiveWidget(height=2048, layout=Layout(height='auto', width='100%'), width=2048)"
      ]
     },
     "metadata": {},
     "output_type": "display_data"
    },
    {
     "name": "stdout",
     "output_type": "stream",
     "text": [
      "/home/alabetski/figures/convexity_3d/1.0000000000130742_NL.IMBAG.Pand.0344100000032369-0.pdf done...\n"
     ]
    },
    {
     "data": {
      "application/vnd.jupyter.widget-view+json": {
       "model_id": "d5c5af750622490cade76a06fcdfe236",
       "version_major": 2,
       "version_minor": 0
      },
      "text/plain": [
       "ViewInteractiveWidget(height=2048, layout=Layout(height='auto', width='100%'), width=2048)"
      ]
     },
     "metadata": {},
     "output_type": "display_data"
    },
    {
     "name": "stdout",
     "output_type": "stream",
     "text": [
      "/home/alabetski/figures/fractality_3d/0.186480710276369_NL.IMBAG.Pand.0363100012197116-0.pdf done...\n"
     ]
    },
    {
     "data": {
      "application/vnd.jupyter.widget-view+json": {
       "model_id": "250f0246a07d4d4f9fe561a0ebb435d0",
       "version_major": 2,
       "version_minor": 0
      },
      "text/plain": [
       "ViewInteractiveWidget(height=2048, layout=Layout(height='auto', width='100%'), width=2048)"
      ]
     },
     "metadata": {},
     "output_type": "display_data"
    },
    {
     "name": "stdout",
     "output_type": "stream",
     "text": [
      "/home/alabetski/figures/fractality_3d/0.5988077857311471_NL.IMBAG.Pand.0344100000099567-0.pdf done...\n"
     ]
    },
    {
     "data": {
      "application/vnd.jupyter.widget-view+json": {
       "model_id": "db14a78b87134c9abbbb9a6deb6fd2f3",
       "version_major": 2,
       "version_minor": 0
      },
      "text/plain": [
       "ViewInteractiveWidget(height=2048, layout=Layout(height='auto', width='100%'), width=2048)"
      ]
     },
     "metadata": {},
     "output_type": "display_data"
    },
    {
     "name": "stdout",
     "output_type": "stream",
     "text": [
      "/home/alabetski/figures/fractality_3d/0.186480710276369_NL.IMBAG.Pand.0363100012197116-0.pdf done...\n"
     ]
    },
    {
     "data": {
      "application/vnd.jupyter.widget-view+json": {
       "model_id": "b7d1b0c7cd2b4914a96ad5fa770a43b1",
       "version_major": 2,
       "version_minor": 0
      },
      "text/plain": [
       "ViewInteractiveWidget(height=2048, layout=Layout(height='auto', width='100%'), width=2048)"
      ]
     },
     "metadata": {},
     "output_type": "display_data"
    },
    {
     "name": "stdout",
     "output_type": "stream",
     "text": [
      "/home/alabetski/figures/fractality_3d/0.2631362307042856_NL.IMBAG.Pand.0363100012129887-0.pdf done...\n"
     ]
    },
    {
     "data": {
      "application/vnd.jupyter.widget-view+json": {
       "model_id": "b036a8a6d7594acfb4404723517755b5",
       "version_major": 2,
       "version_minor": 0
      },
      "text/plain": [
       "ViewInteractiveWidget(height=2048, layout=Layout(height='auto', width='100%'), width=2048)"
      ]
     },
     "metadata": {},
     "output_type": "display_data"
    },
    {
     "name": "stdout",
     "output_type": "stream",
     "text": [
      "/home/alabetski/figures/fractality_3d/0.2748197359798614_NL.IMBAG.Pand.0518100000221073-0.pdf done...\n"
     ]
    },
    {
     "data": {
      "application/vnd.jupyter.widget-view+json": {
       "model_id": "f3cd00a842bf46cdb91aa611132bcbd4",
       "version_major": 2,
       "version_minor": 0
      },
      "text/plain": [
       "ViewInteractiveWidget(height=2048, layout=Layout(height='auto', width='100%'), width=2048)"
      ]
     },
     "metadata": {},
     "output_type": "display_data"
    },
    {
     "name": "stdout",
     "output_type": "stream",
     "text": [
      "/home/alabetski/figures/fractality_3d/0.2847779485023088_NL.IMBAG.Pand.0518100000235362-0.pdf done...\n"
     ]
    },
    {
     "data": {
      "application/vnd.jupyter.widget-view+json": {
       "model_id": "e7670a7d583e465481b3f2fc5bbd2f3f",
       "version_major": 2,
       "version_minor": 0
      },
      "text/plain": [
       "ViewInteractiveWidget(height=2048, layout=Layout(height='auto', width='100%'), width=2048)"
      ]
     },
     "metadata": {},
     "output_type": "display_data"
    },
    {
     "name": "stdout",
     "output_type": "stream",
     "text": [
      "/home/alabetski/figures/fractality_3d/0.2915913558129117_NL.IMBAG.Pand.0363100012090872-0.pdf done...\n"
     ]
    },
    {
     "data": {
      "application/vnd.jupyter.widget-view+json": {
       "model_id": "4cdce5532920424abc93135da030e782",
       "version_major": 2,
       "version_minor": 0
      },
      "text/plain": [
       "ViewInteractiveWidget(height=2048, layout=Layout(height='auto', width='100%'), width=2048)"
      ]
     },
     "metadata": {},
     "output_type": "display_data"
    },
    {
     "name": "stdout",
     "output_type": "stream",
     "text": [
      "/home/alabetski/figures/fractality_3d/0.2971970650850495_NL.IMBAG.Pand.0363100012156138-0.pdf done...\n"
     ]
    },
    {
     "data": {
      "application/vnd.jupyter.widget-view+json": {
       "model_id": "80648affd3ff418498e90599a6420a81",
       "version_major": 2,
       "version_minor": 0
      },
      "text/plain": [
       "ViewInteractiveWidget(height=2048, layout=Layout(height='auto', width='100%'), width=2048)"
      ]
     },
     "metadata": {},
     "output_type": "display_data"
    },
    {
     "name": "stdout",
     "output_type": "stream",
     "text": [
      "/home/alabetski/figures/fractality_3d/0.3021180083433807_NL.IMBAG.Pand.0518100000253122-0.pdf done...\n"
     ]
    },
    {
     "data": {
      "application/vnd.jupyter.widget-view+json": {
       "model_id": "6814b1414fc640d6ab5b2e62e6faf35c",
       "version_major": 2,
       "version_minor": 0
      },
      "text/plain": [
       "ViewInteractiveWidget(height=2048, layout=Layout(height='auto', width='100%'), width=2048)"
      ]
     },
     "metadata": {},
     "output_type": "display_data"
    },
    {
     "name": "stdout",
     "output_type": "stream",
     "text": [
      "/home/alabetski/figures/fractality_3d/0.3060185792736224_NL.IMBAG.Pand.0599100000600912-0.pdf done...\n"
     ]
    },
    {
     "data": {
      "application/vnd.jupyter.widget-view+json": {
       "model_id": "b1de75b498634d3c821a1d2cd67c727a",
       "version_major": 2,
       "version_minor": 0
      },
      "text/plain": [
       "ViewInteractiveWidget(height=2048, layout=Layout(height='auto', width='100%'), width=2048)"
      ]
     },
     "metadata": {},
     "output_type": "display_data"
    },
    {
     "name": "stdout",
     "output_type": "stream",
     "text": [
      "/home/alabetski/figures/fractality_3d/0.3088210937681517_NL.IMBAG.Pand.0599100000692949-0.pdf done...\n"
     ]
    },
    {
     "data": {
      "application/vnd.jupyter.widget-view+json": {
       "model_id": "7225d628636e4de3aed8db7afc74d242",
       "version_major": 2,
       "version_minor": 0
      },
      "text/plain": [
       "ViewInteractiveWidget(height=2048, layout=Layout(height='auto', width='100%'), width=2048)"
      ]
     },
     "metadata": {},
     "output_type": "display_data"
    },
    {
     "name": "stdout",
     "output_type": "stream",
     "text": [
      "/home/alabetski/figures/fractality_3d/0.3111623034002035_NL.IMBAG.Pand.0518100000300894-0.pdf done...\n"
     ]
    },
    {
     "data": {
      "application/vnd.jupyter.widget-view+json": {
       "model_id": "d34a4d5c36574344b0245f8ba731d589",
       "version_major": 2,
       "version_minor": 0
      },
      "text/plain": [
       "ViewInteractiveWidget(height=2048, layout=Layout(height='auto', width='100%'), width=2048)"
      ]
     },
     "metadata": {},
     "output_type": "display_data"
    },
    {
     "name": "stdout",
     "output_type": "stream",
     "text": [
      "/home/alabetski/figures/fractality_3d/0.3132996161785799_NL.IMBAG.Pand.0394100000220541-0.pdf done...\n"
     ]
    },
    {
     "data": {
      "application/vnd.jupyter.widget-view+json": {
       "model_id": "5b09e93fcc23439db169fe3db18b9ff6",
       "version_major": 2,
       "version_minor": 0
      },
      "text/plain": [
       "ViewInteractiveWidget(height=2048, layout=Layout(height='auto', width='100%'), width=2048)"
      ]
     },
     "metadata": {},
     "output_type": "display_data"
    },
    {
     "name": "stdout",
     "output_type": "stream",
     "text": [
      "/home/alabetski/figures/fractality_3d/0.3153014622097264_NL.IMBAG.Pand.0518100000335968-0.pdf done...\n"
     ]
    },
    {
     "data": {
      "application/vnd.jupyter.widget-view+json": {
       "model_id": "341101c94a564a829bf0f90d2df4a0ce",
       "version_major": 2,
       "version_minor": 0
      },
      "text/plain": [
       "ViewInteractiveWidget(height=2048, layout=Layout(height='auto', width='100%'), width=2048)"
      ]
     },
     "metadata": {},
     "output_type": "display_data"
    },
    {
     "name": "stdout",
     "output_type": "stream",
     "text": [
      "/home/alabetski/figures/fractality_3d/0.3173116385624693_NL.IMBAG.Pand.0394100000219235-0.pdf done...\n"
     ]
    },
    {
     "data": {
      "application/vnd.jupyter.widget-view+json": {
       "model_id": "29e63061fa0f4d26ab47b7b3377fac45",
       "version_major": 2,
       "version_minor": 0
      },
      "text/plain": [
       "ViewInteractiveWidget(height=2048, layout=Layout(height='auto', width='100%'), width=2048)"
      ]
     },
     "metadata": {},
     "output_type": "display_data"
    },
    {
     "name": "stdout",
     "output_type": "stream",
     "text": [
      "/home/alabetski/figures/fractality_3d/0.3193846801015858_NL.IMBAG.Pand.0599100000308686-0.pdf done...\n"
     ]
    },
    {
     "data": {
      "application/vnd.jupyter.widget-view+json": {
       "model_id": "aa1d40fc874742158936c252e455e3e8",
       "version_major": 2,
       "version_minor": 0
      },
      "text/plain": [
       "ViewInteractiveWidget(height=2048, layout=Layout(height='auto', width='100%'), width=2048)"
      ]
     },
     "metadata": {},
     "output_type": "display_data"
    },
    {
     "name": "stdout",
     "output_type": "stream",
     "text": [
      "/home/alabetski/figures/fractality_3d/0.3214764294107646_NL.IMBAG.Pand.0344100000035740-0.pdf done...\n"
     ]
    },
    {
     "data": {
      "application/vnd.jupyter.widget-view+json": {
       "model_id": "4018b8adef374dbdbe93180b47312fa8",
       "version_major": 2,
       "version_minor": 0
      },
      "text/plain": [
       "ViewInteractiveWidget(height=2048, layout=Layout(height='auto', width='100%'), width=2048)"
      ]
     },
     "metadata": {},
     "output_type": "display_data"
    },
    {
     "name": "stdout",
     "output_type": "stream",
     "text": [
      "/home/alabetski/figures/fractality_3d/0.3238795024893813_NL.IMBAG.Pand.0344100000077334-0.pdf done...\n"
     ]
    },
    {
     "data": {
      "application/vnd.jupyter.widget-view+json": {
       "model_id": "e98d4e338515423a94c177e01ca48c76",
       "version_major": 2,
       "version_minor": 0
      },
      "text/plain": [
       "ViewInteractiveWidget(height=2048, layout=Layout(height='auto', width='100%'), width=2048)"
      ]
     },
     "metadata": {},
     "output_type": "display_data"
    },
    {
     "name": "stdout",
     "output_type": "stream",
     "text": [
      "/home/alabetski/figures/fractality_3d/0.3271014435279327_NL.IMBAG.Pand.0363100012163774-0.pdf done...\n"
     ]
    },
    {
     "data": {
      "application/vnd.jupyter.widget-view+json": {
       "model_id": "28e9a768caf14cedaa051d84c59eb91d",
       "version_major": 2,
       "version_minor": 0
      },
      "text/plain": [
       "ViewInteractiveWidget(height=2048, layout=Layout(height='auto', width='100%'), width=2048)"
      ]
     },
     "metadata": {},
     "output_type": "display_data"
    },
    {
     "name": "stdout",
     "output_type": "stream",
     "text": [
      "/home/alabetski/figures/fractality_3d/0.3322349244690278_NL.IMBAG.Pand.0363100012102513-0.pdf done...\n"
     ]
    },
    {
     "data": {
      "application/vnd.jupyter.widget-view+json": {
       "model_id": "e2620d96b02246d881db28733e1e9660",
       "version_major": 2,
       "version_minor": 0
      },
      "text/plain": [
       "ViewInteractiveWidget(height=2048, layout=Layout(height='auto', width='100%'), width=2048)"
      ]
     },
     "metadata": {},
     "output_type": "display_data"
    },
    {
     "name": "stdout",
     "output_type": "stream",
     "text": [
      "/home/alabetski/figures/fractality_3d/0.3424435792058757_NL.IMBAG.Pand.0363100012086986-0.pdf done...\n"
     ]
    },
    {
     "data": {
      "application/vnd.jupyter.widget-view+json": {
       "model_id": "ec77a910209548ce94d64ec40484aff7",
       "version_major": 2,
       "version_minor": 0
      },
      "text/plain": [
       "ViewInteractiveWidget(height=2048, layout=Layout(height='auto', width='100%'), width=2048)"
      ]
     },
     "metadata": {},
     "output_type": "display_data"
    },
    {
     "name": "stdout",
     "output_type": "stream",
     "text": [
      "/home/alabetski/figures/fractality_3d/0.3794106980588766_NL.IMBAG.Pand.0344100000130037-0.pdf done...\n"
     ]
    },
    {
     "data": {
      "application/vnd.jupyter.widget-view+json": {
       "model_id": "e2eab93b935349f58097104477b0b174",
       "version_major": 2,
       "version_minor": 0
      },
      "text/plain": [
       "ViewInteractiveWidget(height=2048, layout=Layout(height='auto', width='100%'), width=2048)"
      ]
     },
     "metadata": {},
     "output_type": "display_data"
    },
    {
     "name": "stdout",
     "output_type": "stream",
     "text": [
      "/home/alabetski/figures/fractality_3d/0.5988077857311471_NL.IMBAG.Pand.0344100000099567-0.pdf done...\n"
     ]
    },
    {
     "data": {
      "application/vnd.jupyter.widget-view+json": {
       "model_id": "c3426ba670e34d25935791288c45f823",
       "version_major": 2,
       "version_minor": 0
      },
      "text/plain": [
       "ViewInteractiveWidget(height=2048, layout=Layout(height='auto', width='100%'), width=2048)"
      ]
     },
     "metadata": {},
     "output_type": "display_data"
    },
    {
     "name": "stdout",
     "output_type": "stream",
     "text": [
      "/home/alabetski/figures/rectangularity_3d/0.0431361185300923_NL.IMBAG.Pand.0599100000647076-0.pdf done...\n"
     ]
    },
    {
     "data": {
      "application/vnd.jupyter.widget-view+json": {
       "model_id": "c4edcfdf4e744f28a2c4b646e3495488",
       "version_major": 2,
       "version_minor": 0
      },
      "text/plain": [
       "ViewInteractiveWidget(height=2048, layout=Layout(height='auto', width='100%'), width=2048)"
      ]
     },
     "metadata": {},
     "output_type": "display_data"
    },
    {
     "name": "stdout",
     "output_type": "stream",
     "text": [
      "/home/alabetski/figures/rectangularity_3d/0.999998542528817_NL.IMBAG.Pand.1926100000489349-0.pdf done...\n"
     ]
    },
    {
     "data": {
      "application/vnd.jupyter.widget-view+json": {
       "model_id": "a3d806b37b9748b4a919dc3dfb54e74e",
       "version_major": 2,
       "version_minor": 0
      },
      "text/plain": [
       "ViewInteractiveWidget(height=2048, layout=Layout(height='auto', width='100%'), width=2048)"
      ]
     },
     "metadata": {},
     "output_type": "display_data"
    },
    {
     "name": "stdout",
     "output_type": "stream",
     "text": [
      "/home/alabetski/figures/rectangularity_3d/0.0431361185300923_NL.IMBAG.Pand.0599100000647076-0.pdf done...\n"
     ]
    },
    {
     "data": {
      "application/vnd.jupyter.widget-view+json": {
       "model_id": "472ec923a54a45978a325360daa55725",
       "version_major": 2,
       "version_minor": 0
      },
      "text/plain": [
       "ViewInteractiveWidget(height=2048, layout=Layout(height='auto', width='100%'), width=2048)"
      ]
     },
     "metadata": {},
     "output_type": "display_data"
    },
    {
     "name": "stdout",
     "output_type": "stream",
     "text": [
      "/home/alabetski/figures/rectangularity_3d/0.4877431176505524_NL.IMBAG.Pand.0518100000208189-0.pdf done...\n"
     ]
    },
    {
     "data": {
      "application/vnd.jupyter.widget-view+json": {
       "model_id": "b0e399023d344a508c598112c69f6d7c",
       "version_major": 2,
       "version_minor": 0
      },
      "text/plain": [
       "ViewInteractiveWidget(height=2048, layout=Layout(height='auto', width='100%'), width=2048)"
      ]
     },
     "metadata": {},
     "output_type": "display_data"
    },
    {
     "name": "stdout",
     "output_type": "stream",
     "text": [
      "/home/alabetski/figures/rectangularity_3d/0.5500127033432837_NL.IMBAG.Pand.0344100000011288-0.pdf done...\n"
     ]
    },
    {
     "data": {
      "application/vnd.jupyter.widget-view+json": {
       "model_id": "3e0c326521c74645ade39dfc1856a2d0",
       "version_major": 2,
       "version_minor": 0
      },
      "text/plain": [
       "ViewInteractiveWidget(height=2048, layout=Layout(height='auto', width='100%'), width=2048)"
      ]
     },
     "metadata": {},
     "output_type": "display_data"
    },
    {
     "name": "stdout",
     "output_type": "stream",
     "text": [
      "/home/alabetski/figures/rectangularity_3d/0.5958586425718488_NL.IMBAG.Pand.0356100000068225-0.pdf done...\n"
     ]
    },
    {
     "data": {
      "application/vnd.jupyter.widget-view+json": {
       "model_id": "886f6b80ed56425f871261ded506c19c",
       "version_major": 2,
       "version_minor": 0
      },
      "text/plain": [
       "ViewInteractiveWidget(height=2048, layout=Layout(height='auto', width='100%'), width=2048)"
      ]
     },
     "metadata": {},
     "output_type": "display_data"
    },
    {
     "name": "stdout",
     "output_type": "stream",
     "text": [
      "/home/alabetski/figures/rectangularity_3d/0.6349698078363879_NL.IMBAG.Pand.0518100000290583-0.pdf done...\n"
     ]
    },
    {
     "data": {
      "application/vnd.jupyter.widget-view+json": {
       "model_id": "dbbf016f10104a46a752d76ecc7ce69f",
       "version_major": 2,
       "version_minor": 0
      },
      "text/plain": [
       "ViewInteractiveWidget(height=2048, layout=Layout(height='auto', width='100%'), width=2048)"
      ]
     },
     "metadata": {},
     "output_type": "display_data"
    },
    {
     "name": "stdout",
     "output_type": "stream",
     "text": [
      "/home/alabetski/figures/rectangularity_3d/0.6677737501461365_NL.IMBAG.Pand.0599100000112068-0.pdf done...\n"
     ]
    },
    {
     "data": {
      "application/vnd.jupyter.widget-view+json": {
       "model_id": "1bb8c0ab585c430aa9aee2b7d4a93b4b",
       "version_major": 2,
       "version_minor": 0
      },
      "text/plain": [
       "ViewInteractiveWidget(height=2048, layout=Layout(height='auto', width='100%'), width=2048)"
      ]
     },
     "metadata": {},
     "output_type": "display_data"
    },
    {
     "name": "stdout",
     "output_type": "stream",
     "text": [
      "/home/alabetski/figures/rectangularity_3d/0.6967836157527366_NL.IMBAG.Pand.0518100000302188-0.pdf done...\n"
     ]
    },
    {
     "data": {
      "application/vnd.jupyter.widget-view+json": {
       "model_id": "49d8cf40ad554b8faf5a93d2ae6226b1",
       "version_major": 2,
       "version_minor": 0
      },
      "text/plain": [
       "ViewInteractiveWidget(height=2048, layout=Layout(height='auto', width='100%'), width=2048)"
      ]
     },
     "metadata": {},
     "output_type": "display_data"
    },
    {
     "name": "stdout",
     "output_type": "stream",
     "text": [
      "/home/alabetski/figures/rectangularity_3d/0.7206552081009652_NL.IMBAG.Pand.1783100000046430-0.pdf done...\n"
     ]
    },
    {
     "data": {
      "application/vnd.jupyter.widget-view+json": {
       "model_id": "7e91db02a91b4398943d28bcc162dd2c",
       "version_major": 2,
       "version_minor": 0
      },
      "text/plain": [
       "ViewInteractiveWidget(height=2048, layout=Layout(height='auto', width='100%'), width=2048)"
      ]
     },
     "metadata": {},
     "output_type": "display_data"
    },
    {
     "name": "stdout",
     "output_type": "stream",
     "text": [
      "/home/alabetski/figures/rectangularity_3d/0.743723739721558_NL.IMBAG.Pand.0363100012166117-0.pdf done...\n"
     ]
    },
    {
     "data": {
      "application/vnd.jupyter.widget-view+json": {
       "model_id": "6fac13e01d9149e286940ab982bf0ea3",
       "version_major": 2,
       "version_minor": 0
      },
      "text/plain": [
       "ViewInteractiveWidget(height=2048, layout=Layout(height='auto', width='100%'), width=2048)"
      ]
     },
     "metadata": {},
     "output_type": "display_data"
    },
    {
     "name": "stdout",
     "output_type": "stream",
     "text": [
      "/home/alabetski/figures/rectangularity_3d/0.7668851803642023_NL.IMBAG.Pand.0603100000011063-0.pdf done...\n"
     ]
    },
    {
     "data": {
      "application/vnd.jupyter.widget-view+json": {
       "model_id": "3a47ff27403a404da75b5d5db960e3fd",
       "version_major": 2,
       "version_minor": 0
      },
      "text/plain": [
       "ViewInteractiveWidget(height=2048, layout=Layout(height='auto', width='100%'), width=2048)"
      ]
     },
     "metadata": {},
     "output_type": "display_data"
    },
    {
     "name": "stdout",
     "output_type": "stream",
     "text": [
      "/home/alabetski/figures/rectangularity_3d/0.7885276754466134_NL.IMBAG.Pand.0606100000009786-0.pdf done...\n"
     ]
    },
    {
     "data": {
      "application/vnd.jupyter.widget-view+json": {
       "model_id": "6174c4566b7a4cf4a8729aecbe67f580",
       "version_major": 2,
       "version_minor": 0
      },
      "text/plain": [
       "ViewInteractiveWidget(height=2048, layout=Layout(height='auto', width='100%'), width=2048)"
      ]
     },
     "metadata": {},
     "output_type": "display_data"
    },
    {
     "name": "stdout",
     "output_type": "stream",
     "text": [
      "/home/alabetski/figures/rectangularity_3d/0.8069271906855776_NL.IMBAG.Pand.0518100000223786-0.pdf done...\n"
     ]
    },
    {
     "data": {
      "application/vnd.jupyter.widget-view+json": {
       "model_id": "9da5b27c0f984da585c7aa5c16ea818f",
       "version_major": 2,
       "version_minor": 0
      },
      "text/plain": [
       "ViewInteractiveWidget(height=2048, layout=Layout(height='auto', width='100%'), width=2048)"
      ]
     },
     "metadata": {},
     "output_type": "display_data"
    },
    {
     "name": "stdout",
     "output_type": "stream",
     "text": [
      "/home/alabetski/figures/rectangularity_3d/0.8228289521246281_NL.IMBAG.Pand.0363100012113752-0.pdf done...\n"
     ]
    },
    {
     "data": {
      "application/vnd.jupyter.widget-view+json": {
       "model_id": "784e01c629ff4edca3e661e6dc075894",
       "version_major": 2,
       "version_minor": 0
      },
      "text/plain": [
       "ViewInteractiveWidget(height=2048, layout=Layout(height='auto', width='100%'), width=2048)"
      ]
     },
     "metadata": {},
     "output_type": "display_data"
    },
    {
     "name": "stdout",
     "output_type": "stream",
     "text": [
      "/home/alabetski/figures/rectangularity_3d/0.839280291372145_NL.IMBAG.Pand.0599100000074346-0.pdf done...\n"
     ]
    },
    {
     "data": {
      "application/vnd.jupyter.widget-view+json": {
       "model_id": "86f5a23f00834dc18892845b737cfae0",
       "version_major": 2,
       "version_minor": 0
      },
      "text/plain": [
       "ViewInteractiveWidget(height=2048, layout=Layout(height='auto', width='100%'), width=2048)"
      ]
     },
     "metadata": {},
     "output_type": "display_data"
    },
    {
     "name": "stdout",
     "output_type": "stream",
     "text": [
      "/home/alabetski/figures/rectangularity_3d/0.8569466014605399_NL.IMBAG.Pand.0363100012123016-0.pdf done...\n"
     ]
    },
    {
     "data": {
      "application/vnd.jupyter.widget-view+json": {
       "model_id": "36f7ac64a00c4988a3aea826287d4c24",
       "version_major": 2,
       "version_minor": 0
      },
      "text/plain": [
       "ViewInteractiveWidget(height=2048, layout=Layout(height='auto', width='100%'), width=2048)"
      ]
     },
     "metadata": {},
     "output_type": "display_data"
    },
    {
     "name": "stdout",
     "output_type": "stream",
     "text": [
      "/home/alabetski/figures/rectangularity_3d/0.8787897007677976_NL.IMBAG.Pand.0518100000283950-0.pdf done...\n"
     ]
    },
    {
     "data": {
      "application/vnd.jupyter.widget-view+json": {
       "model_id": "91de2fcde9b24606b899f52f3c04a16d",
       "version_major": 2,
       "version_minor": 0
      },
      "text/plain": [
       "ViewInteractiveWidget(height=2048, layout=Layout(height='auto', width='100%'), width=2048)"
      ]
     },
     "metadata": {},
     "output_type": "display_data"
    },
    {
     "name": "stdout",
     "output_type": "stream",
     "text": [
      "/home/alabetski/figures/rectangularity_3d/0.9075759403150144_NL.IMBAG.Pand.0599100000617251-0.pdf done...\n"
     ]
    },
    {
     "data": {
      "application/vnd.jupyter.widget-view+json": {
       "model_id": "b828bac2d9a54529a62af54d2d288a01",
       "version_major": 2,
       "version_minor": 0
      },
      "text/plain": [
       "ViewInteractiveWidget(height=2048, layout=Layout(height='auto', width='100%'), width=2048)"
      ]
     },
     "metadata": {},
     "output_type": "display_data"
    },
    {
     "name": "stdout",
     "output_type": "stream",
     "text": [
      "/home/alabetski/figures/rectangularity_3d/0.9415355173607808_NL.IMBAG.Pand.0363100012157878-0.pdf done...\n"
     ]
    },
    {
     "data": {
      "application/vnd.jupyter.widget-view+json": {
       "model_id": "f5cf1136eac7441a8df414bb7e0918c0",
       "version_major": 2,
       "version_minor": 0
      },
      "text/plain": [
       "ViewInteractiveWidget(height=2048, layout=Layout(height='auto', width='100%'), width=2048)"
      ]
     },
     "metadata": {},
     "output_type": "display_data"
    },
    {
     "name": "stdout",
     "output_type": "stream",
     "text": [
      "/home/alabetski/figures/rectangularity_3d/0.9750349806876488_NL.IMBAG.Pand.0599100000035071-0.pdf done...\n"
     ]
    },
    {
     "data": {
      "application/vnd.jupyter.widget-view+json": {
       "model_id": "1cee9cdc9a8041899aca1aa5eedbb9d3",
       "version_major": 2,
       "version_minor": 0
      },
      "text/plain": [
       "ViewInteractiveWidget(height=2048, layout=Layout(height='auto', width='100%'), width=2048)"
      ]
     },
     "metadata": {},
     "output_type": "display_data"
    },
    {
     "name": "stdout",
     "output_type": "stream",
     "text": [
      "/home/alabetski/figures/rectangularity_3d/0.9904173646105572_NL.IMBAG.Pand.0479100000047431-0.pdf done...\n"
     ]
    },
    {
     "data": {
      "application/vnd.jupyter.widget-view+json": {
       "model_id": "667b6190c1874420b7f932444e36b529",
       "version_major": 2,
       "version_minor": 0
      },
      "text/plain": [
       "ViewInteractiveWidget(height=2048, layout=Layout(height='auto', width='100%'), width=2048)"
      ]
     },
     "metadata": {},
     "output_type": "display_data"
    },
    {
     "name": "stdout",
     "output_type": "stream",
     "text": [
      "/home/alabetski/figures/rectangularity_3d/0.999998542528817_NL.IMBAG.Pand.1926100000489349-0.pdf done...\n"
     ]
    },
    {
     "data": {
      "application/vnd.jupyter.widget-view+json": {
       "model_id": "841c455dd6af4da08d3a142bd311b01c",
       "version_major": 2,
       "version_minor": 0
      },
      "text/plain": [
       "ViewInteractiveWidget(height=2048, layout=Layout(height='auto', width='100%'), width=2048)"
      ]
     },
     "metadata": {},
     "output_type": "display_data"
    },
    {
     "name": "stdout",
     "output_type": "stream",
     "text": [
      "/home/alabetski/figures/cubeness_3d/0.1457903342617595_NL.IMBAG.Pand.0599100000657847-0.pdf done...\n"
     ]
    },
    {
     "data": {
      "application/vnd.jupyter.widget-view+json": {
       "model_id": "8ee0e8e844be45c59099900728cb8dc0",
       "version_major": 2,
       "version_minor": 0
      },
      "text/plain": [
       "ViewInteractiveWidget(height=2048, layout=Layout(height='auto', width='100%'), width=2048)"
      ]
     },
     "metadata": {},
     "output_type": "display_data"
    },
    {
     "name": "stdout",
     "output_type": "stream",
     "text": [
      "/home/alabetski/figures/cubeness_3d/0.9999999027049998_NL.IMBAG.Pand.0384100000006755-0.pdf done...\n"
     ]
    },
    {
     "data": {
      "application/vnd.jupyter.widget-view+json": {
       "model_id": "2fb79ecc65bb4e68978e7002abdb8c7c",
       "version_major": 2,
       "version_minor": 0
      },
      "text/plain": [
       "ViewInteractiveWidget(height=2048, layout=Layout(height='auto', width='100%'), width=2048)"
      ]
     },
     "metadata": {},
     "output_type": "display_data"
    },
    {
     "name": "stdout",
     "output_type": "stream",
     "text": [
      "/home/alabetski/figures/cubeness_3d/0.1457903342617595_NL.IMBAG.Pand.0599100000657847-0.pdf done...\n"
     ]
    },
    {
     "data": {
      "application/vnd.jupyter.widget-view+json": {
       "model_id": "402689004a3a42f4a715556e4abc2f22",
       "version_major": 2,
       "version_minor": 0
      },
      "text/plain": [
       "ViewInteractiveWidget(height=2048, layout=Layout(height='auto', width='100%'), width=2048)"
      ]
     },
     "metadata": {},
     "output_type": "display_data"
    },
    {
     "name": "stdout",
     "output_type": "stream",
     "text": [
      "/home/alabetski/figures/cubeness_3d/0.7539332416279256_NL.IMBAG.Pand.0489100000216539-0.pdf done...\n"
     ]
    },
    {
     "data": {
      "application/vnd.jupyter.widget-view+json": {
       "model_id": "31c92988f4ea4b6c9939a69ecbeda152",
       "version_major": 2,
       "version_minor": 0
      },
      "text/plain": [
       "ViewInteractiveWidget(height=2048, layout=Layout(height='auto', width='100%'), width=2048)"
      ]
     },
     "metadata": {},
     "output_type": "display_data"
    },
    {
     "name": "stdout",
     "output_type": "stream",
     "text": [
      "/home/alabetski/figures/cubeness_3d/0.810778119918113_NL.IMBAG.Pand.0333100000018840-0.pdf done...\n"
     ]
    },
    {
     "data": {
      "application/vnd.jupyter.widget-view+json": {
       "model_id": "84f7057df4614ba78d4d7631e6eadc08",
       "version_major": 2,
       "version_minor": 0
      },
      "text/plain": [
       "ViewInteractiveWidget(height=2048, layout=Layout(height='auto', width='100%'), width=2048)"
      ]
     },
     "metadata": {},
     "output_type": "display_data"
    },
    {
     "name": "stdout",
     "output_type": "stream",
     "text": [
      "/home/alabetski/figures/cubeness_3d/0.8411882778884054_NL.IMBAG.Pand.0518100000212371-0.pdf done...\n"
     ]
    },
    {
     "data": {
      "application/vnd.jupyter.widget-view+json": {
       "model_id": "0a178729595b45ce84c1a4cef34c5bdc",
       "version_major": 2,
       "version_minor": 0
      },
      "text/plain": [
       "ViewInteractiveWidget(height=2048, layout=Layout(height='auto', width='100%'), width=2048)"
      ]
     },
     "metadata": {},
     "output_type": "display_data"
    },
    {
     "name": "stdout",
     "output_type": "stream",
     "text": [
      "/home/alabetski/figures/cubeness_3d/0.8616566078078053_NL.IMBAG.Pand.0518100000278924-0.pdf done...\n"
     ]
    },
    {
     "data": {
      "application/vnd.jupyter.widget-view+json": {
       "model_id": "079f96b3036f458a8c5a8c97ce1f3e95",
       "version_major": 2,
       "version_minor": 0
      },
      "text/plain": [
       "ViewInteractiveWidget(height=2048, layout=Layout(height='auto', width='100%'), width=2048)"
      ]
     },
     "metadata": {},
     "output_type": "display_data"
    },
    {
     "name": "stdout",
     "output_type": "stream",
     "text": [
      "/home/alabetski/figures/cubeness_3d/0.8770802911125831_NL.IMBAG.Pand.0344100000046771-0.pdf done...\n"
     ]
    },
    {
     "data": {
      "application/vnd.jupyter.widget-view+json": {
       "model_id": "8ba707fc24b44221bf87db192c849fed",
       "version_major": 2,
       "version_minor": 0
      },
      "text/plain": [
       "ViewInteractiveWidget(height=2048, layout=Layout(height='auto', width='100%'), width=2048)"
      ]
     },
     "metadata": {},
     "output_type": "display_data"
    },
    {
     "name": "stdout",
     "output_type": "stream",
     "text": [
      "/home/alabetski/figures/cubeness_3d/0.8895322752465441_NL.IMBAG.Pand.0599100000632166-0.pdf done...\n"
     ]
    },
    {
     "data": {
      "application/vnd.jupyter.widget-view+json": {
       "model_id": "963c273fb6b4451bbeed45020c66c9fc",
       "version_major": 2,
       "version_minor": 0
      },
      "text/plain": [
       "ViewInteractiveWidget(height=2048, layout=Layout(height='auto', width='100%'), width=2048)"
      ]
     },
     "metadata": {},
     "output_type": "display_data"
    },
    {
     "name": "stdout",
     "output_type": "stream",
     "text": [
      "/home/alabetski/figures/cubeness_3d/0.9003627414571038_NL.IMBAG.Pand.0363100012066936-0.pdf done...\n"
     ]
    },
    {
     "data": {
      "application/vnd.jupyter.widget-view+json": {
       "model_id": "b9a11c23163d4ba199dc0bef4318f238",
       "version_major": 2,
       "version_minor": 0
      },
      "text/plain": [
       "ViewInteractiveWidget(height=2048, layout=Layout(height='auto', width='100%'), width=2048)"
      ]
     },
     "metadata": {},
     "output_type": "display_data"
    },
    {
     "name": "stdout",
     "output_type": "stream",
     "text": [
      "/home/alabetski/figures/cubeness_3d/0.909920390372358_NL.IMBAG.Pand.0603100000011099-0.pdf done...\n"
     ]
    },
    {
     "data": {
      "application/vnd.jupyter.widget-view+json": {
       "model_id": "0839b12b582b45699d823b2e27808318",
       "version_major": 2,
       "version_minor": 0
      },
      "text/plain": [
       "ViewInteractiveWidget(height=2048, layout=Layout(height='auto', width='100%'), width=2048)"
      ]
     },
     "metadata": {},
     "output_type": "display_data"
    },
    {
     "name": "stdout",
     "output_type": "stream",
     "text": [
      "/home/alabetski/figures/cubeness_3d/0.918574713426904_NL.IMBAG.Pand.0599100000684819-0.pdf done...\n"
     ]
    },
    {
     "data": {
      "application/vnd.jupyter.widget-view+json": {
       "model_id": "e2f2322a80c0446aa886599d02fa8d66",
       "version_major": 2,
       "version_minor": 0
      },
      "text/plain": [
       "ViewInteractiveWidget(height=2048, layout=Layout(height='auto', width='100%'), width=2048)"
      ]
     },
     "metadata": {},
     "output_type": "display_data"
    },
    {
     "name": "stdout",
     "output_type": "stream",
     "text": [
      "/home/alabetski/figures/cubeness_3d/0.926773771743328_NL.IMBAG.Pand.0518100000318615-0.pdf done...\n"
     ]
    },
    {
     "data": {
      "application/vnd.jupyter.widget-view+json": {
       "model_id": "914492d2828a441bbfecb7b0bf124048",
       "version_major": 2,
       "version_minor": 0
      },
      "text/plain": [
       "ViewInteractiveWidget(height=2048, layout=Layout(height='auto', width='100%'), width=2048)"
      ]
     },
     "metadata": {},
     "output_type": "display_data"
    },
    {
     "name": "stdout",
     "output_type": "stream",
     "text": [
      "/home/alabetski/figures/cubeness_3d/0.9343753924640736_NL.IMBAG.Pand.0599100000083824-0.pdf done...\n"
     ]
    },
    {
     "data": {
      "application/vnd.jupyter.widget-view+json": {
       "model_id": "daf9ac49d2a94037aaafd1cd540d51ae",
       "version_major": 2,
       "version_minor": 0
      },
      "text/plain": [
       "ViewInteractiveWidget(height=2048, layout=Layout(height='auto', width='100%'), width=2048)"
      ]
     },
     "metadata": {},
     "output_type": "display_data"
    },
    {
     "name": "stdout",
     "output_type": "stream",
     "text": [
      "/home/alabetski/figures/cubeness_3d/0.9418486995039383_NL.IMBAG.Pand.0344100000078806-0.pdf done...\n"
     ]
    },
    {
     "data": {
      "application/vnd.jupyter.widget-view+json": {
       "model_id": "ceba2606844f4606ac8760e34bca9d81",
       "version_major": 2,
       "version_minor": 0
      },
      "text/plain": [
       "ViewInteractiveWidget(height=2048, layout=Layout(height='auto', width='100%'), width=2048)"
      ]
     },
     "metadata": {},
     "output_type": "display_data"
    },
    {
     "name": "stdout",
     "output_type": "stream",
     "text": [
      "/home/alabetski/figures/cubeness_3d/0.9493753723284042_NL.IMBAG.Pand.0518100000303262-0.pdf done...\n"
     ]
    },
    {
     "data": {
      "application/vnd.jupyter.widget-view+json": {
       "model_id": "7c0e437d6e78498cbe495e2c4ffa7a2b",
       "version_major": 2,
       "version_minor": 0
      },
      "text/plain": [
       "ViewInteractiveWidget(height=2048, layout=Layout(height='auto', width='100%'), width=2048)"
      ]
     },
     "metadata": {},
     "output_type": "display_data"
    },
    {
     "name": "stdout",
     "output_type": "stream",
     "text": [
      "/home/alabetski/figures/cubeness_3d/0.9572290143158396_NL.IMBAG.Pand.0363100012130777-0.pdf done...\n"
     ]
    },
    {
     "data": {
      "application/vnd.jupyter.widget-view+json": {
       "model_id": "1f7fc153a8114615a448fe53a56f4038",
       "version_major": 2,
       "version_minor": 0
      },
      "text/plain": [
       "ViewInteractiveWidget(height=2048, layout=Layout(height='auto', width='100%'), width=2048)"
      ]
     },
     "metadata": {},
     "output_type": "display_data"
    },
    {
     "name": "stdout",
     "output_type": "stream",
     "text": [
      "/home/alabetski/figures/cubeness_3d/0.9650075035198552_NL.IMBAG.Pand.0518100000284318-0.pdf done...\n"
     ]
    },
    {
     "data": {
      "application/vnd.jupyter.widget-view+json": {
       "model_id": "ace9923ff4c94e5c994d87ff89fcc065",
       "version_major": 2,
       "version_minor": 0
      },
      "text/plain": [
       "ViewInteractiveWidget(height=2048, layout=Layout(height='auto', width='100%'), width=2048)"
      ]
     },
     "metadata": {},
     "output_type": "display_data"
    },
    {
     "name": "stdout",
     "output_type": "stream",
     "text": [
      "/home/alabetski/figures/cubeness_3d/0.9733409157305302_NL.IMBAG.Pand.0518100000323724-0.pdf done...\n"
     ]
    },
    {
     "data": {
      "application/vnd.jupyter.widget-view+json": {
       "model_id": "54e7d2bcf241439db895b38436ddaf64",
       "version_major": 2,
       "version_minor": 0
      },
      "text/plain": [
       "ViewInteractiveWidget(height=2048, layout=Layout(height='auto', width='100%'), width=2048)"
      ]
     },
     "metadata": {},
     "output_type": "display_data"
    },
    {
     "name": "stdout",
     "output_type": "stream",
     "text": [
      "/home/alabetski/figures/cubeness_3d/0.98147852033714_NL.IMBAG.Pand.0344100000022940-0.pdf done...\n"
     ]
    },
    {
     "data": {
      "application/vnd.jupyter.widget-view+json": {
       "model_id": "c9442c162c1148588b3282610b6a83d4",
       "version_major": 2,
       "version_minor": 0
      },
      "text/plain": [
       "ViewInteractiveWidget(height=2048, layout=Layout(height='auto', width='100%'), width=2048)"
      ]
     },
     "metadata": {},
     "output_type": "display_data"
    },
    {
     "name": "stdout",
     "output_type": "stream",
     "text": [
      "/home/alabetski/figures/cubeness_3d/0.9899289444471134_NL.IMBAG.Pand.0344100000066762-0.pdf done...\n"
     ]
    },
    {
     "data": {
      "application/vnd.jupyter.widget-view+json": {
       "model_id": "a2b69f8fdeae4e7ca7b4b8a598a1c3b4",
       "version_major": 2,
       "version_minor": 0
      },
      "text/plain": [
       "ViewInteractiveWidget(height=2048, layout=Layout(height='auto', width='100%'), width=2048)"
      ]
     },
     "metadata": {},
     "output_type": "display_data"
    },
    {
     "name": "stdout",
     "output_type": "stream",
     "text": [
      "/home/alabetski/figures/cubeness_3d/1.000997870151392_NL.IMBAG.Pand.0599100000670064-0.pdf done...\n"
     ]
    },
    {
     "data": {
      "application/vnd.jupyter.widget-view+json": {
       "model_id": "57ecc72a8b38432c9b7b5668c1ad3340",
       "version_major": 2,
       "version_minor": 0
      },
      "text/plain": [
       "ViewInteractiveWidget(height=2048, layout=Layout(height='auto', width='100%'), width=2048)"
      ]
     },
     "metadata": {},
     "output_type": "display_data"
    },
    {
     "name": "stdout",
     "output_type": "stream",
     "text": [
      "/home/alabetski/figures/cubeness_3d/1.106104714832591_NL.IMBAG.Pand.0363100012223144-0.pdf done...\n"
     ]
    },
    {
     "data": {
      "application/vnd.jupyter.widget-view+json": {
       "model_id": "fd941ca13f274316bc16c4a28f68eb1d",
       "version_major": 2,
       "version_minor": 0
      },
      "text/plain": [
       "ViewInteractiveWidget(height=2048, layout=Layout(height='auto', width='100%'), width=2048)"
      ]
     },
     "metadata": {},
     "output_type": "display_data"
    },
    {
     "name": "stdout",
     "output_type": "stream",
     "text": [
      "/home/alabetski/figures/equivalent_prism_index_3d/0.2281993643576471_NL.IMBAG.Pand.0363100012234896-0.pdf done...\n"
     ]
    },
    {
     "data": {
      "application/vnd.jupyter.widget-view+json": {
       "model_id": "b1186b3cd03f4eb3ad1cba7d40788a8a",
       "version_major": 2,
       "version_minor": 0
      },
      "text/plain": [
       "ViewInteractiveWidget(height=2048, layout=Layout(height='auto', width='100%'), width=2048)"
      ]
     },
     "metadata": {},
     "output_type": "display_data"
    },
    {
     "name": "stdout",
     "output_type": "stream",
     "text": [
      "/home/alabetski/figures/equivalent_prism_index_3d/1.0000000132017093_NL.IMBAG.Pand.0384100000000116-0.pdf done...\n"
     ]
    },
    {
     "data": {
      "application/vnd.jupyter.widget-view+json": {
       "model_id": "9ab6397461ca48cf908044a3544c84be",
       "version_major": 2,
       "version_minor": 0
      },
      "text/plain": [
       "ViewInteractiveWidget(height=2048, layout=Layout(height='auto', width='100%'), width=2048)"
      ]
     },
     "metadata": {},
     "output_type": "display_data"
    },
    {
     "name": "stdout",
     "output_type": "stream",
     "text": [
      "/home/alabetski/figures/equivalent_prism_index_3d/0.2281993643576471_NL.IMBAG.Pand.0363100012234896-0.pdf done...\n"
     ]
    },
    {
     "data": {
      "application/vnd.jupyter.widget-view+json": {
       "model_id": "bcd46c8054eb42908d258ff1c89e2103",
       "version_major": 2,
       "version_minor": 0
      },
      "text/plain": [
       "ViewInteractiveWidget(height=2048, layout=Layout(height='auto', width='100%'), width=2048)"
      ]
     },
     "metadata": {},
     "output_type": "display_data"
    },
    {
     "name": "stdout",
     "output_type": "stream",
     "text": [
      "/home/alabetski/figures/equivalent_prism_index_3d/0.8564305662388513_NL.IMBAG.Pand.0603100000014287-0.pdf done...\n"
     ]
    },
    {
     "data": {
      "application/vnd.jupyter.widget-view+json": {
       "model_id": "975f32214a714c688090c802a5172e6d",
       "version_major": 2,
       "version_minor": 0
      },
      "text/plain": [
       "ViewInteractiveWidget(height=2048, layout=Layout(height='auto', width='100%'), width=2048)"
      ]
     },
     "metadata": {},
     "output_type": "display_data"
    },
    {
     "name": "stdout",
     "output_type": "stream",
     "text": [
      "/home/alabetski/figures/equivalent_prism_index_3d/0.8915425802852136_NL.IMBAG.Pand.0518100000217533-0.pdf done...\n"
     ]
    },
    {
     "data": {
      "application/vnd.jupyter.widget-view+json": {
       "model_id": "7d65858ac3f14391b8c668f210689583",
       "version_major": 2,
       "version_minor": 0
      },
      "text/plain": [
       "ViewInteractiveWidget(height=2048, layout=Layout(height='auto', width='100%'), width=2048)"
      ]
     },
     "metadata": {},
     "output_type": "display_data"
    },
    {
     "name": "stdout",
     "output_type": "stream",
     "text": [
      "/home/alabetski/figures/equivalent_prism_index_3d/0.9141574052492474_NL.IMBAG.Pand.0384100000000122-0.pdf done...\n"
     ]
    },
    {
     "data": {
      "application/vnd.jupyter.widget-view+json": {
       "model_id": "028cc644368b459996bff954d2afae90",
       "version_major": 2,
       "version_minor": 0
      },
      "text/plain": [
       "ViewInteractiveWidget(height=2048, layout=Layout(height='auto', width='100%'), width=2048)"
      ]
     },
     "metadata": {},
     "output_type": "display_data"
    },
    {
     "name": "stdout",
     "output_type": "stream",
     "text": [
      "/home/alabetski/figures/equivalent_prism_index_3d/0.9308663320451288_NL.IMBAG.Pand.0344100000080122-0.pdf done...\n"
     ]
    },
    {
     "data": {
      "application/vnd.jupyter.widget-view+json": {
       "model_id": "16389eb8e39c443d85d9270dc223d8cf",
       "version_major": 2,
       "version_minor": 0
      },
      "text/plain": [
       "ViewInteractiveWidget(height=2048, layout=Layout(height='auto', width='100%'), width=2048)"
      ]
     },
     "metadata": {},
     "output_type": "display_data"
    },
    {
     "name": "stdout",
     "output_type": "stream",
     "text": [
      "/home/alabetski/figures/equivalent_prism_index_3d/0.9437859973290814_NL.IMBAG.Pand.0518100000302091-0.pdf done...\n"
     ]
    },
    {
     "data": {
      "application/vnd.jupyter.widget-view+json": {
       "model_id": "6b55b28050cf4a7c97b1624b8e2061bd",
       "version_major": 2,
       "version_minor": 0
      },
      "text/plain": [
       "ViewInteractiveWidget(height=2048, layout=Layout(height='auto', width='100%'), width=2048)"
      ]
     },
     "metadata": {},
     "output_type": "display_data"
    },
    {
     "name": "stdout",
     "output_type": "stream",
     "text": [
      "/home/alabetski/figures/equivalent_prism_index_3d/0.9540127700369018_NL.IMBAG.Pand.0599100000053130-0.pdf done...\n"
     ]
    },
    {
     "data": {
      "application/vnd.jupyter.widget-view+json": {
       "model_id": "fc56daa86233416296d61ceb82f44d98",
       "version_major": 2,
       "version_minor": 0
      },
      "text/plain": [
       "ViewInteractiveWidget(height=2048, layout=Layout(height='auto', width='100%'), width=2048)"
      ]
     },
     "metadata": {},
     "output_type": "display_data"
    },
    {
     "name": "stdout",
     "output_type": "stream",
     "text": [
      "/home/alabetski/figures/equivalent_prism_index_3d/0.9624773901790756_NL.IMBAG.Pand.0599100000270692-0.pdf done...\n"
     ]
    },
    {
     "data": {
      "application/vnd.jupyter.widget-view+json": {
       "model_id": "3897a369da0f43ee8bba3beb1f7275a0",
       "version_major": 2,
       "version_minor": 0
      },
      "text/plain": [
       "ViewInteractiveWidget(height=2048, layout=Layout(height='auto', width='100%'), width=2048)"
      ]
     },
     "metadata": {},
     "output_type": "display_data"
    },
    {
     "name": "stdout",
     "output_type": "stream",
     "text": [
      "/home/alabetski/figures/equivalent_prism_index_3d/0.96944303790168_NL.IMBAG.Pand.0305100000004142-0.pdf done...\n"
     ]
    },
    {
     "data": {
      "application/vnd.jupyter.widget-view+json": {
       "model_id": "e2c0ae3442d446b49695714ec3166105",
       "version_major": 2,
       "version_minor": 0
      },
      "text/plain": [
       "ViewInteractiveWidget(height=2048, layout=Layout(height='auto', width='100%'), width=2048)"
      ]
     },
     "metadata": {},
     "output_type": "display_data"
    },
    {
     "name": "stdout",
     "output_type": "stream",
     "text": [
      "/home/alabetski/figures/equivalent_prism_index_3d/0.97586074219941_NL.IMBAG.Pand.0518100001638012-0.pdf done...\n"
     ]
    },
    {
     "data": {
      "application/vnd.jupyter.widget-view+json": {
       "model_id": "d069f116d56e44798839cdce4807f134",
       "version_major": 2,
       "version_minor": 0
      },
      "text/plain": [
       "ViewInteractiveWidget(height=2048, layout=Layout(height='auto', width='100%'), width=2048)"
      ]
     },
     "metadata": {},
     "output_type": "display_data"
    },
    {
     "name": "stdout",
     "output_type": "stream",
     "text": [
      "/home/alabetski/figures/equivalent_prism_index_3d/0.9817908935469128_NL.IMBAG.Pand.0599100000084204-0.pdf done...\n"
     ]
    },
    {
     "data": {
      "application/vnd.jupyter.widget-view+json": {
       "model_id": "862b6de9993040b49dd3c1a6b9ba35f5",
       "version_major": 2,
       "version_minor": 0
      },
      "text/plain": [
       "ViewInteractiveWidget(height=2048, layout=Layout(height='auto', width='100%'), width=2048)"
      ]
     },
     "metadata": {},
     "output_type": "display_data"
    },
    {
     "name": "stdout",
     "output_type": "stream",
     "text": [
      "/home/alabetski/figures/equivalent_prism_index_3d/0.9873894218144752_NL.IMBAG.Pand.0363100012134536-0.pdf done...\n"
     ]
    },
    {
     "data": {
      "application/vnd.jupyter.widget-view+json": {
       "model_id": "2c8c3104e1654693a1c43da6a491455f",
       "version_major": 2,
       "version_minor": 0
      },
      "text/plain": [
       "ViewInteractiveWidget(height=2048, layout=Layout(height='auto', width='100%'), width=2048)"
      ]
     },
     "metadata": {},
     "output_type": "display_data"
    },
    {
     "name": "stdout",
     "output_type": "stream",
     "text": [
      "/home/alabetski/figures/equivalent_prism_index_3d/0.9925450001830604_NL.IMBAG.Pand.0344100000112566-0.pdf done...\n"
     ]
    },
    {
     "data": {
      "application/vnd.jupyter.widget-view+json": {
       "model_id": "1df4efa5b8b24ce498d3be2aa9be80ba",
       "version_major": 2,
       "version_minor": 0
      },
      "text/plain": [
       "ViewInteractiveWidget(height=2048, layout=Layout(height='auto', width='100%'), width=2048)"
      ]
     },
     "metadata": {},
     "output_type": "display_data"
    },
    {
     "name": "stdout",
     "output_type": "stream",
     "text": [
      "/home/alabetski/figures/equivalent_prism_index_3d/0.9970943312547124_NL.IMBAG.Pand.0363100012116854-0.pdf done...\n"
     ]
    },
    {
     "data": {
      "application/vnd.jupyter.widget-view+json": {
       "model_id": "f344d86cbc3f4e4d906e70bdfd084f2b",
       "version_major": 2,
       "version_minor": 0
      },
      "text/plain": [
       "ViewInteractiveWidget(height=2048, layout=Layout(height='auto', width='100%'), width=2048)"
      ]
     },
     "metadata": {},
     "output_type": "display_data"
    },
    {
     "name": "stdout",
     "output_type": "stream",
     "text": [
      "/home/alabetski/figures/equivalent_prism_index_3d/0.99949463333417_NL.IMBAG.Pand.0599100000761376-0.pdf done...\n"
     ]
    },
    {
     "data": {
      "application/vnd.jupyter.widget-view+json": {
       "model_id": "51d1aa9454754353aec5cf21e0610b01",
       "version_major": 2,
       "version_minor": 0
      },
      "text/plain": [
       "ViewInteractiveWidget(height=2048, layout=Layout(height='auto', width='100%'), width=2048)"
      ]
     },
     "metadata": {},
     "output_type": "display_data"
    },
    {
     "name": "stdout",
     "output_type": "stream",
     "text": [
      "/home/alabetski/figures/equivalent_prism_index_3d/1.0001669728240006_NL.IMBAG.Pand.0518100000316738-0.pdf done...\n"
     ]
    },
    {
     "data": {
      "application/vnd.jupyter.widget-view+json": {
       "model_id": "c159376947b14a36b96df419075b961d",
       "version_major": 2,
       "version_minor": 0
      },
      "text/plain": [
       "ViewInteractiveWidget(height=2048, layout=Layout(height='auto', width='100%'), width=2048)"
      ]
     },
     "metadata": {},
     "output_type": "display_data"
    },
    {
     "name": "stdout",
     "output_type": "stream",
     "text": [
      "/home/alabetski/figures/equivalent_prism_index_3d/1.0038381634813207_NL.IMBAG.Pand.0344100000037583-0.pdf done...\n"
     ]
    },
    {
     "data": {
      "application/vnd.jupyter.widget-view+json": {
       "model_id": "db11da3b49d74d0ebd0983b5a1f46ef2",
       "version_major": 2,
       "version_minor": 0
      },
      "text/plain": [
       "ViewInteractiveWidget(height=2048, layout=Layout(height='auto', width='100%'), width=2048)"
      ]
     },
     "metadata": {},
     "output_type": "display_data"
    },
    {
     "name": "stdout",
     "output_type": "stream",
     "text": [
      "/home/alabetski/figures/equivalent_prism_index_3d/1.0104855930911905_NL.IMBAG.Pand.1926100000548204-0.pdf done...\n"
     ]
    },
    {
     "data": {
      "application/vnd.jupyter.widget-view+json": {
       "model_id": "18c04c0f1eb942e184ef9281b1c20941",
       "version_major": 2,
       "version_minor": 0
      },
      "text/plain": [
       "ViewInteractiveWidget(height=2048, layout=Layout(height='auto', width='100%'), width=2048)"
      ]
     },
     "metadata": {},
     "output_type": "display_data"
    },
    {
     "name": "stdout",
     "output_type": "stream",
     "text": [
      "/home/alabetski/figures/equivalent_prism_index_3d/1.0176521949256925_NL.IMBAG.Pand.0518100000221477-0.pdf done...\n"
     ]
    },
    {
     "data": {
      "application/vnd.jupyter.widget-view+json": {
       "model_id": "f7a3e05829fe470ca155f310c2ed87c4",
       "version_major": 2,
       "version_minor": 0
      },
      "text/plain": [
       "ViewInteractiveWidget(height=2048, layout=Layout(height='auto', width='100%'), width=2048)"
      ]
     },
     "metadata": {},
     "output_type": "display_data"
    },
    {
     "name": "stdout",
     "output_type": "stream",
     "text": [
      "/home/alabetski/figures/equivalent_prism_index_3d/1.025681500647373_NL.IMBAG.Pand.0312100000009158-0.pdf done...\n"
     ]
    },
    {
     "data": {
      "application/vnd.jupyter.widget-view+json": {
       "model_id": "82dee25730484aab87511ce4e801b931",
       "version_major": 2,
       "version_minor": 0
      },
      "text/plain": [
       "ViewInteractiveWidget(height=2048, layout=Layout(height='auto', width='100%'), width=2048)"
      ]
     },
     "metadata": {},
     "output_type": "display_data"
    },
    {
     "name": "stdout",
     "output_type": "stream",
     "text": [
      "/home/alabetski/figures/equivalent_prism_index_3d/1.250374074970948_NL.IMBAG.Pand.0363100012201682-0.pdf done...\n"
     ]
    },
    {
     "data": {
      "application/vnd.jupyter.widget-view+json": {
       "model_id": "d38d07cdde5e4114bd437da365d7575d",
       "version_major": 2,
       "version_minor": 0
      },
      "text/plain": [
       "ViewInteractiveWidget(height=2048, layout=Layout(height='auto', width='100%'), width=2048)"
      ]
     },
     "metadata": {},
     "output_type": "display_data"
    },
    {
     "name": "stdout",
     "output_type": "stream",
     "text": [
      "/home/alabetski/figures/proximity_index_3d/0.1064624056447387_NL.IMBAG.Pand.0344100000086977-0.pdf done...\n"
     ]
    },
    {
     "data": {
      "application/vnd.jupyter.widget-view+json": {
       "model_id": "baaf746232ae446795d7a9ad5388ed6e",
       "version_major": 2,
       "version_minor": 0
      },
      "text/plain": [
       "ViewInteractiveWidget(height=2048, layout=Layout(height='auto', width='100%'), width=2048)"
      ]
     },
     "metadata": {},
     "output_type": "display_data"
    },
    {
     "name": "stdout",
     "output_type": "stream",
     "text": [
      "/home/alabetski/figures/proximity_index_3d/0.999666869585092_NL.IMBAG.Pand.0599100000359224-0.pdf done...\n"
     ]
    },
    {
     "data": {
      "application/vnd.jupyter.widget-view+json": {
       "model_id": "6e2c3839c00249c7acda2f92e68a5016",
       "version_major": 2,
       "version_minor": 0
      },
      "text/plain": [
       "ViewInteractiveWidget(height=2048, layout=Layout(height='auto', width='100%'), width=2048)"
      ]
     },
     "metadata": {},
     "output_type": "display_data"
    },
    {
     "name": "stdout",
     "output_type": "stream",
     "text": [
      "/home/alabetski/figures/proximity_index_3d/0.1064624056447387_NL.IMBAG.Pand.0344100000086977-0.pdf done...\n"
     ]
    },
    {
     "data": {
      "application/vnd.jupyter.widget-view+json": {
       "model_id": "6b75f32bc148440f8ba603ae5bb6d217",
       "version_major": 2,
       "version_minor": 0
      },
      "text/plain": [
       "ViewInteractiveWidget(height=2048, layout=Layout(height='auto', width='100%'), width=2048)"
      ]
     },
     "metadata": {},
     "output_type": "display_data"
    },
    {
     "name": "stdout",
     "output_type": "stream",
     "text": [
      "/home/alabetski/figures/proximity_index_3d/0.6771742427679162_NL.IMBAG.Pand.0344100000049423-0.pdf done...\n"
     ]
    },
    {
     "data": {
      "application/vnd.jupyter.widget-view+json": {
       "model_id": "fc72bc33c16d4c82a4db2c0dc5e37c4f",
       "version_major": 2,
       "version_minor": 0
      },
      "text/plain": [
       "ViewInteractiveWidget(height=2048, layout=Layout(height='auto', width='100%'), width=2048)"
      ]
     },
     "metadata": {},
     "output_type": "display_data"
    },
    {
     "name": "stdout",
     "output_type": "stream",
     "text": [
      "/home/alabetski/figures/proximity_index_3d/0.752014337243814_NL.IMBAG.Pand.0518100000301179-0.pdf done...\n"
     ]
    },
    {
     "data": {
      "application/vnd.jupyter.widget-view+json": {
       "model_id": "7dd6f07098134e4eb6c181caabdf7bcb",
       "version_major": 2,
       "version_minor": 0
      },
      "text/plain": [
       "ViewInteractiveWidget(height=2048, layout=Layout(height='auto', width='100%'), width=2048)"
      ]
     },
     "metadata": {},
     "output_type": "display_data"
    },
    {
     "name": "stdout",
     "output_type": "stream",
     "text": [
      "/home/alabetski/figures/proximity_index_3d/0.7888105290172149_NL.IMBAG.Pand.0613100000201834-0.pdf done...\n"
     ]
    },
    {
     "data": {
      "application/vnd.jupyter.widget-view+json": {
       "model_id": "b19940c29bb74bf9b16ff7106b118cc0",
       "version_major": 2,
       "version_minor": 0
      },
      "text/plain": [
       "ViewInteractiveWidget(height=2048, layout=Layout(height='auto', width='100%'), width=2048)"
      ]
     },
     "metadata": {},
     "output_type": "display_data"
    },
    {
     "name": "stdout",
     "output_type": "stream",
     "text": [
      "/home/alabetski/figures/proximity_index_3d/0.8110231471236279_NL.IMBAG.Pand.0344100000003541-0.pdf done...\n"
     ]
    },
    {
     "data": {
      "application/vnd.jupyter.widget-view+json": {
       "model_id": "b8ceb3b2a2554dc5837146a192bcfe64",
       "version_major": 2,
       "version_minor": 0
      },
      "text/plain": [
       "ViewInteractiveWidget(height=2048, layout=Layout(height='auto', width='100%'), width=2048)"
      ]
     },
     "metadata": {},
     "output_type": "display_data"
    },
    {
     "name": "stdout",
     "output_type": "stream",
     "text": [
      "/home/alabetski/figures/proximity_index_3d/0.8259046917905754_NL.IMBAG.Pand.0518100000309541-0.pdf done...\n"
     ]
    },
    {
     "data": {
      "application/vnd.jupyter.widget-view+json": {
       "model_id": "a73f0c2f2d3d46e3a71f89ee615411c5",
       "version_major": 2,
       "version_minor": 0
      },
      "text/plain": [
       "ViewInteractiveWidget(height=2048, layout=Layout(height='auto', width='100%'), width=2048)"
      ]
     },
     "metadata": {},
     "output_type": "display_data"
    },
    {
     "name": "stdout",
     "output_type": "stream",
     "text": [
      "/home/alabetski/figures/proximity_index_3d/0.8373892938423528_NL.IMBAG.Pand.0599100000644281-0.pdf done...\n"
     ]
    },
    {
     "data": {
      "application/vnd.jupyter.widget-view+json": {
       "model_id": "b307077831504227accd2ff8273b021c",
       "version_major": 2,
       "version_minor": 0
      },
      "text/plain": [
       "ViewInteractiveWidget(height=2048, layout=Layout(height='auto', width='100%'), width=2048)"
      ]
     },
     "metadata": {},
     "output_type": "display_data"
    },
    {
     "name": "stdout",
     "output_type": "stream",
     "text": [
      "/home/alabetski/figures/proximity_index_3d/0.8465751178499962_NL.IMBAG.Pand.0363100012120814-0.pdf done...\n"
     ]
    },
    {
     "data": {
      "application/vnd.jupyter.widget-view+json": {
       "model_id": "06ef47e98dc54f9eb9ba7b539cd34e41",
       "version_major": 2,
       "version_minor": 0
      },
      "text/plain": [
       "ViewInteractiveWidget(height=2048, layout=Layout(height='auto', width='100%'), width=2048)"
      ]
     },
     "metadata": {},
     "output_type": "display_data"
    },
    {
     "name": "stdout",
     "output_type": "stream",
     "text": [
      "/home/alabetski/figures/proximity_index_3d/0.8543883692050227_NL.IMBAG.Pand.0363100012119996-0.pdf done...\n"
     ]
    },
    {
     "data": {
      "application/vnd.jupyter.widget-view+json": {
       "model_id": "76ce66dd914b4ed4953c8985e2155d07",
       "version_major": 2,
       "version_minor": 0
      },
      "text/plain": [
       "ViewInteractiveWidget(height=2048, layout=Layout(height='auto', width='100%'), width=2048)"
      ]
     },
     "metadata": {},
     "output_type": "display_data"
    },
    {
     "name": "stdout",
     "output_type": "stream",
     "text": [
      "/home/alabetski/figures/proximity_index_3d/0.8610763420772877_NL.IMBAG.Pand.0518100000219822-0.pdf done...\n"
     ]
    },
    {
     "data": {
      "application/vnd.jupyter.widget-view+json": {
       "model_id": "fcf018e22d4b4daa862d99a1caa96220",
       "version_major": 2,
       "version_minor": 0
      },
      "text/plain": [
       "ViewInteractiveWidget(height=2048, layout=Layout(height='auto', width='100%'), width=2048)"
      ]
     },
     "metadata": {},
     "output_type": "display_data"
    },
    {
     "name": "stdout",
     "output_type": "stream",
     "text": [
      "/home/alabetski/figures/proximity_index_3d/0.8673616069221598_NL.IMBAG.Pand.0518100000228728-0.pdf done...\n"
     ]
    },
    {
     "data": {
      "application/vnd.jupyter.widget-view+json": {
       "model_id": "a6a8424f954e43e398f279366ad13f0f",
       "version_major": 2,
       "version_minor": 0
      },
      "text/plain": [
       "ViewInteractiveWidget(height=2048, layout=Layout(height='auto', width='100%'), width=2048)"
      ]
     },
     "metadata": {},
     "output_type": "display_data"
    },
    {
     "name": "stdout",
     "output_type": "stream",
     "text": [
      "/home/alabetski/figures/exchange_index_3d/0.8910287506728821_NL.IMBAG.Pand.0363100012224325-0.pdf done...\n"
     ]
    },
    {
     "data": {
      "application/vnd.jupyter.widget-view+json": {
       "model_id": "de99253c6d014d148033c451a5749ad9",
       "version_major": 2,
       "version_minor": 0
      },
      "text/plain": [
       "ViewInteractiveWidget(height=2048, layout=Layout(height='auto', width='100%'), width=2048)"
      ]
     },
     "metadata": {},
     "output_type": "display_data"
    },
    {
     "name": "stdout",
     "output_type": "stream",
     "text": [
      "/home/alabetski/figures/exchange_index_3d/-1.0_NL.IMBAG.Pand.0599100000601466-0.pdf done...\n"
     ]
    },
    {
     "data": {
      "application/vnd.jupyter.widget-view+json": {
       "model_id": "e0d6cc3878424f628ffe1c3b1fef5749",
       "version_major": 2,
       "version_minor": 0
      },
      "text/plain": [
       "ViewInteractiveWidget(height=2048, layout=Layout(height='auto', width='100%'), width=2048)"
      ]
     },
     "metadata": {},
     "output_type": "display_data"
    },
    {
     "name": "stdout",
     "output_type": "stream",
     "text": [
      "/home/alabetski/figures/exchange_index_3d/-1.0_NL.IMBAG.Pand.0599100000601466-0.pdf done...\n"
     ]
    },
    {
     "data": {
      "application/vnd.jupyter.widget-view+json": {
       "model_id": "a020ae41d2c142ef9a888d87530be842",
       "version_major": 2,
       "version_minor": 0
      },
      "text/plain": [
       "ViewInteractiveWidget(height=2048, layout=Layout(height='auto', width='100%'), width=2048)"
      ]
     },
     "metadata": {},
     "output_type": "display_data"
    },
    {
     "name": "stdout",
     "output_type": "stream",
     "text": [
      "/home/alabetski/figures/exchange_index_3d/-1.0_NL.IMBAG.Pand.0599100000601466-0.pdf done...\n"
     ]
    },
    {
     "data": {
      "application/vnd.jupyter.widget-view+json": {
       "model_id": "75e4380f849344edaa57250aa117450a",
       "version_major": 2,
       "version_minor": 0
      },
      "text/plain": [
       "ViewInteractiveWidget(height=2048, layout=Layout(height='auto', width='100%'), width=2048)"
      ]
     },
     "metadata": {},
     "output_type": "display_data"
    },
    {
     "name": "stdout",
     "output_type": "stream",
     "text": [
      "/home/alabetski/figures/exchange_index_3d/0.4299558152938039_NL.IMBAG.Pand.0394100000217624-0.pdf done...\n"
     ]
    },
    {
     "data": {
      "application/vnd.jupyter.widget-view+json": {
       "model_id": "0c6b9cda6c8b4ebc8f0f86abae5b43d0",
       "version_major": 2,
       "version_minor": 0
      },
      "text/plain": [
       "ViewInteractiveWidget(height=2048, layout=Layout(height='auto', width='100%'), width=2048)"
      ]
     },
     "metadata": {},
     "output_type": "display_data"
    },
    {
     "name": "stdout",
     "output_type": "stream",
     "text": [
      "/home/alabetski/figures/exchange_index_3d/0.5423803660632657_NL.IMBAG.Pand.0518100000343295-0.pdf done...\n"
     ]
    },
    {
     "data": {
      "application/vnd.jupyter.widget-view+json": {
       "model_id": "da103dd65b324828ae07053f2b62ea95",
       "version_major": 2,
       "version_minor": 0
      },
      "text/plain": [
       "ViewInteractiveWidget(height=2048, layout=Layout(height='auto', width='100%'), width=2048)"
      ]
     },
     "metadata": {},
     "output_type": "display_data"
    },
    {
     "name": "stdout",
     "output_type": "stream",
     "text": [
      "/home/alabetski/figures/exchange_index_3d/0.5954236307803124_NL.IMBAG.Pand.0599100000759310-0.pdf done...\n"
     ]
    },
    {
     "data": {
      "application/vnd.jupyter.widget-view+json": {
       "model_id": "3dab59c49b0c4b9592195d5b9af77934",
       "version_major": 2,
       "version_minor": 0
      },
      "text/plain": [
       "ViewInteractiveWidget(height=2048, layout=Layout(height='auto', width='100%'), width=2048)"
      ]
     },
     "metadata": {},
     "output_type": "display_data"
    },
    {
     "name": "stdout",
     "output_type": "stream",
     "text": [
      "/home/alabetski/figures/exchange_index_3d/0.6272762680326907_NL.IMBAG.Pand.0437100000004083-0.pdf done...\n"
     ]
    },
    {
     "data": {
      "application/vnd.jupyter.widget-view+json": {
       "model_id": "208d80c382014b84a3c5d2b34f4b24b5",
       "version_major": 2,
       "version_minor": 0
      },
      "text/plain": [
       "ViewInteractiveWidget(height=2048, layout=Layout(height='auto', width='100%'), width=2048)"
      ]
     },
     "metadata": {},
     "output_type": "display_data"
    },
    {
     "name": "stdout",
     "output_type": "stream",
     "text": [
      "/home/alabetski/figures/exchange_index_3d/0.6503371164984092_NL.IMBAG.Pand.0363100012073576-0.pdf done...\n"
     ]
    },
    {
     "data": {
      "application/vnd.jupyter.widget-view+json": {
       "model_id": "0a4d614d91aa40118687d7dbfa101435",
       "version_major": 2,
       "version_minor": 0
      },
      "text/plain": [
       "ViewInteractiveWidget(height=2048, layout=Layout(height='auto', width='100%'), width=2048)"
      ]
     },
     "metadata": {},
     "output_type": "display_data"
    },
    {
     "name": "stdout",
     "output_type": "stream",
     "text": [
      "/home/alabetski/figures/exchange_index_3d/0.6680892643516811_NL.IMBAG.Pand.0363100012080949-0.pdf done...\n"
     ]
    },
    {
     "data": {
      "application/vnd.jupyter.widget-view+json": {
       "model_id": "d6d4e78d07c34b4e8c4dca76446d25aa",
       "version_major": 2,
       "version_minor": 0
      },
      "text/plain": [
       "ViewInteractiveWidget(height=2048, layout=Layout(height='auto', width='100%'), width=2048)"
      ]
     },
     "metadata": {},
     "output_type": "display_data"
    },
    {
     "name": "stdout",
     "output_type": "stream",
     "text": [
      "/home/alabetski/figures/exchange_index_3d/0.6833318868652102_NL.IMBAG.Pand.1783100000009268-0.pdf done...\n"
     ]
    },
    {
     "data": {
      "application/vnd.jupyter.widget-view+json": {
       "model_id": "61f16514fe734f8ca856e162f3754c80",
       "version_major": 2,
       "version_minor": 0
      },
      "text/plain": [
       "ViewInteractiveWidget(height=2048, layout=Layout(height='auto', width='100%'), width=2048)"
      ]
     },
     "metadata": {},
     "output_type": "display_data"
    },
    {
     "name": "stdout",
     "output_type": "stream",
     "text": [
      "/home/alabetski/figures/exchange_index_3d/0.6972497774776556_NL.IMBAG.Pand.1916100000092200-0.pdf done...\n"
     ]
    },
    {
     "data": {
      "application/vnd.jupyter.widget-view+json": {
       "model_id": "d3dd888ee74a42b58009bd268ab86c8b",
       "version_major": 2,
       "version_minor": 0
      },
      "text/plain": [
       "ViewInteractiveWidget(height=2048, layout=Layout(height='auto', width='100%'), width=2048)"
      ]
     },
     "metadata": {},
     "output_type": "display_data"
    },
    {
     "name": "stdout",
     "output_type": "stream",
     "text": [
      "/home/alabetski/figures/exchange_index_3d/0.7101957686094288_NL.IMBAG.Pand.0599100000642292-0.pdf done...\n"
     ]
    },
    {
     "data": {
      "application/vnd.jupyter.widget-view+json": {
       "model_id": "1cbc3aa8b17b467d9b1f1dfc3b4f4612",
       "version_major": 2,
       "version_minor": 0
      },
      "text/plain": [
       "ViewInteractiveWidget(height=2048, layout=Layout(height='auto', width='100%'), width=2048)"
      ]
     },
     "metadata": {},
     "output_type": "display_data"
    },
    {
     "name": "stdout",
     "output_type": "stream",
     "text": [
      "/home/alabetski/figures/exchange_index_3d/0.7225130133245531_NL.IMBAG.Pand.0606100000011865-0.pdf done...\n"
     ]
    },
    {
     "data": {
      "application/vnd.jupyter.widget-view+json": {
       "model_id": "5fddcd70e2b1493a9a9871a452194dfe",
       "version_major": 2,
       "version_minor": 0
      },
      "text/plain": [
       "ViewInteractiveWidget(height=2048, layout=Layout(height='auto', width='100%'), width=2048)"
      ]
     },
     "metadata": {},
     "output_type": "display_data"
    },
    {
     "name": "stdout",
     "output_type": "stream",
     "text": [
      "/home/alabetski/figures/exchange_index_3d/0.7342829654585831_NL.IMBAG.Pand.1916100000086113-0.pdf done...\n"
     ]
    },
    {
     "data": {
      "application/vnd.jupyter.widget-view+json": {
       "model_id": "75c10a20006d4deea7c25d02ad211de8",
       "version_major": 2,
       "version_minor": 0
      },
      "text/plain": [
       "ViewInteractiveWidget(height=2048, layout=Layout(height='auto', width='100%'), width=2048)"
      ]
     },
     "metadata": {},
     "output_type": "display_data"
    },
    {
     "name": "stdout",
     "output_type": "stream",
     "text": [
      "/home/alabetski/figures/exchange_index_3d/0.7461664990883765_NL.IMBAG.Pand.0518100000338335-0.pdf done...\n"
     ]
    },
    {
     "data": {
      "application/vnd.jupyter.widget-view+json": {
       "model_id": "eb790a7179814f658308dab0273a4bf1",
       "version_major": 2,
       "version_minor": 0
      },
      "text/plain": [
       "ViewInteractiveWidget(height=2048, layout=Layout(height='auto', width='100%'), width=2048)"
      ]
     },
     "metadata": {},
     "output_type": "display_data"
    },
    {
     "name": "stdout",
     "output_type": "stream",
     "text": [
      "/home/alabetski/figures/exchange_index_3d/0.7576692871625034_NL.IMBAG.Pand.0599100000052003-0.pdf done...\n"
     ]
    },
    {
     "data": {
      "application/vnd.jupyter.widget-view+json": {
       "model_id": "43fc05f35b104e17ad66dd9ea4e180b5",
       "version_major": 2,
       "version_minor": 0
      },
      "text/plain": [
       "ViewInteractiveWidget(height=2048, layout=Layout(height='auto', width='100%'), width=2048)"
      ]
     },
     "metadata": {},
     "output_type": "display_data"
    },
    {
     "name": "stdout",
     "output_type": "stream",
     "text": [
      "/home/alabetski/figures/exchange_index_3d/0.7694650627837799_NL.IMBAG.Pand.0599100000389795-0.pdf done...\n"
     ]
    },
    {
     "data": {
      "application/vnd.jupyter.widget-view+json": {
       "model_id": "9f408b26a8f046cbb89ec94212399c9a",
       "version_major": 2,
       "version_minor": 0
      },
      "text/plain": [
       "ViewInteractiveWidget(height=2048, layout=Layout(height='auto', width='100%'), width=2048)"
      ]
     },
     "metadata": {},
     "output_type": "display_data"
    },
    {
     "name": "stdout",
     "output_type": "stream",
     "text": [
      "/home/alabetski/figures/exchange_index_3d/0.7823008620646066_NL.IMBAG.Pand.0599100000123238-0.pdf done...\n"
     ]
    },
    {
     "data": {
      "application/vnd.jupyter.widget-view+json": {
       "model_id": "dc37318fc7134d51b6fd113cce549d3b",
       "version_major": 2,
       "version_minor": 0
      },
      "text/plain": [
       "ViewInteractiveWidget(height=2048, layout=Layout(height='auto', width='100%'), width=2048)"
      ]
     },
     "metadata": {},
     "output_type": "display_data"
    },
    {
     "name": "stdout",
     "output_type": "stream",
     "text": [
      "/home/alabetski/figures/exchange_index_3d/0.797261055909774_NL.IMBAG.Pand.0344100000001021-0.pdf done...\n"
     ]
    },
    {
     "data": {
      "application/vnd.jupyter.widget-view+json": {
       "model_id": "76973147cd15484ea7a97f28fd53ff09",
       "version_major": 2,
       "version_minor": 0
      },
      "text/plain": [
       "ViewInteractiveWidget(height=2048, layout=Layout(height='auto', width='100%'), width=2048)"
      ]
     },
     "metadata": {},
     "output_type": "display_data"
    },
    {
     "name": "stdout",
     "output_type": "stream",
     "text": [
      "/home/alabetski/figures/exchange_index_3d/0.8170072961148346_NL.IMBAG.Pand.0599100000411173-0.pdf done...\n"
     ]
    },
    {
     "data": {
      "application/vnd.jupyter.widget-view+json": {
       "model_id": "2686077892184d4db5858a8a39d7449e",
       "version_major": 2,
       "version_minor": 0
      },
      "text/plain": [
       "ViewInteractiveWidget(height=2048, layout=Layout(height='auto', width='100%'), width=2048)"
      ]
     },
     "metadata": {},
     "output_type": "display_data"
    },
    {
     "name": "stdout",
     "output_type": "stream",
     "text": [
      "/home/alabetski/figures/exchange_index_3d/0.8910287506728821_NL.IMBAG.Pand.0363100012224325-0.pdf done...\n"
     ]
    },
    {
     "data": {
      "application/vnd.jupyter.widget-view+json": {
       "model_id": "fa79741979c548f5897f87a41cf9a4c2",
       "version_major": 2,
       "version_minor": 0
      },
      "text/plain": [
       "ViewInteractiveWidget(height=2048, layout=Layout(height='auto', width='100%'), width=2048)"
      ]
     },
     "metadata": {},
     "output_type": "display_data"
    },
    {
     "name": "stdout",
     "output_type": "stream",
     "text": [
      "/home/alabetski/figures/spin_index_3d/0.0091204824889335_NL.IMBAG.Pand.0344100000086977-0.pdf done...\n"
     ]
    },
    {
     "data": {
      "application/vnd.jupyter.widget-view+json": {
       "model_id": "8099c430fbfa4ca28be7f83b92947afd",
       "version_major": 2,
       "version_minor": 0
      },
      "text/plain": [
       "ViewInteractiveWidget(height=2048, layout=Layout(height='auto', width='100%'), width=2048)"
      ]
     },
     "metadata": {},
     "output_type": "display_data"
    },
    {
     "name": "stdout",
     "output_type": "stream",
     "text": [
      "/home/alabetski/figures/spin_index_3d/0.9999683853997045_NL.IMBAG.Pand.0489100000271929-0.pdf done...\n"
     ]
    },
    {
     "data": {
      "application/vnd.jupyter.widget-view+json": {
       "model_id": "af97930043b3433dad0c1a2cb8a869cc",
       "version_major": 2,
       "version_minor": 0
      },
      "text/plain": [
       "ViewInteractiveWidget(height=2048, layout=Layout(height='auto', width='100%'), width=2048)"
      ]
     },
     "metadata": {},
     "output_type": "display_data"
    },
    {
     "name": "stdout",
     "output_type": "stream",
     "text": [
      "/home/alabetski/figures/spin_index_3d/0.0091204824889335_NL.IMBAG.Pand.0344100000086977-0.pdf done...\n"
     ]
    },
    {
     "data": {
      "application/vnd.jupyter.widget-view+json": {
       "model_id": "a362a357661e445c914362704b6fc2b1",
       "version_major": 2,
       "version_minor": 0
      },
      "text/plain": [
       "ViewInteractiveWidget(height=2048, layout=Layout(height='auto', width='100%'), width=2048)"
      ]
     },
     "metadata": {},
     "output_type": "display_data"
    },
    {
     "name": "stdout",
     "output_type": "stream",
     "text": [
      "/home/alabetski/figures/spin_index_3d/0.4140144534716424_NL.IMBAG.Pand.0394100001024548-0.pdf done...\n"
     ]
    },
    {
     "data": {
      "application/vnd.jupyter.widget-view+json": {
       "model_id": "66dfae18964344db8a4b724953b76515",
       "version_major": 2,
       "version_minor": 0
      },
      "text/plain": [
       "ViewInteractiveWidget(height=2048, layout=Layout(height='auto', width='100%'), width=2048)"
      ]
     },
     "metadata": {},
     "output_type": "display_data"
    },
    {
     "name": "stdout",
     "output_type": "stream",
     "text": [
      "/home/alabetski/figures/spin_index_3d/0.5198453000330592_NL.IMBAG.Pand.0363100012143793-0.pdf done...\n"
     ]
    },
    {
     "data": {
      "application/vnd.jupyter.widget-view+json": {
       "model_id": "c140b63f13b54aa59f05ff20203490e9",
       "version_major": 2,
       "version_minor": 0
      },
      "text/plain": [
       "ViewInteractiveWidget(height=2048, layout=Layout(height='auto', width='100%'), width=2048)"
      ]
     },
     "metadata": {},
     "output_type": "display_data"
    },
    {
     "name": "stdout",
     "output_type": "stream",
     "text": [
      "/home/alabetski/figures/spin_index_3d/0.5811452088793352_NL.IMBAG.Pand.1916100000086650-0.pdf done...\n"
     ]
    },
    {
     "data": {
      "application/vnd.jupyter.widget-view+json": {
       "model_id": "49581299db8f43058da3bbcb101e4fd5",
       "version_major": 2,
       "version_minor": 0
      },
      "text/plain": [
       "ViewInteractiveWidget(height=2048, layout=Layout(height='auto', width='100%'), width=2048)"
      ]
     },
     "metadata": {},
     "output_type": "display_data"
    },
    {
     "name": "stdout",
     "output_type": "stream",
     "text": [
      "/home/alabetski/figures/spin_index_3d/0.6208510349340596_NL.IMBAG.Pand.0599100000227049-0.pdf done...\n"
     ]
    },
    {
     "data": {
      "application/vnd.jupyter.widget-view+json": {
       "model_id": "cd7c6743e0ca4d05bc76a6dcf5088d57",
       "version_major": 2,
       "version_minor": 0
      },
      "text/plain": [
       "ViewInteractiveWidget(height=2048, layout=Layout(height='auto', width='100%'), width=2048)"
      ]
     },
     "metadata": {},
     "output_type": "display_data"
    },
    {
     "name": "stdout",
     "output_type": "stream",
     "text": [
      "/home/alabetski/figures/spin_index_3d/0.647815132447457_NL.IMBAG.Pand.0363100012238919-0.pdf done...\n"
     ]
    },
    {
     "data": {
      "application/vnd.jupyter.widget-view+json": {
       "model_id": "a23b4411944f4ecb85d3f926618fcbd6",
       "version_major": 2,
       "version_minor": 0
      },
      "text/plain": [
       "ViewInteractiveWidget(height=2048, layout=Layout(height='auto', width='100%'), width=2048)"
      ]
     },
     "metadata": {},
     "output_type": "display_data"
    },
    {
     "name": "stdout",
     "output_type": "stream",
     "text": [
      "/home/alabetski/figures/spin_index_3d/0.6689321717468899_NL.IMBAG.Pand.0518100000343778-0.pdf done...\n"
     ]
    },
    {
     "data": {
      "application/vnd.jupyter.widget-view+json": {
       "model_id": "e674901c1a434d099b2644cf4be08aa2",
       "version_major": 2,
       "version_minor": 0
      },
      "text/plain": [
       "ViewInteractiveWidget(height=2048, layout=Layout(height='auto', width='100%'), width=2048)"
      ]
     },
     "metadata": {},
     "output_type": "display_data"
    },
    {
     "name": "stdout",
     "output_type": "stream",
     "text": [
      "/home/alabetski/figures/spin_index_3d/0.6860526321259445_NL.IMBAG.Pand.1783100000055809-0.pdf done...\n"
     ]
    },
    {
     "data": {
      "application/vnd.jupyter.widget-view+json": {
       "model_id": "6110cf7e8bc34e8aa4284f866eef5aa6",
       "version_major": 2,
       "version_minor": 0
      },
      "text/plain": [
       "ViewInteractiveWidget(height=2048, layout=Layout(height='auto', width='100%'), width=2048)"
      ]
     },
     "metadata": {},
     "output_type": "display_data"
    },
    {
     "name": "stdout",
     "output_type": "stream",
     "text": [
      "/home/alabetski/figures/spin_index_3d/0.701120313596756_NL.IMBAG.Pand.0344100000066936-0.pdf done...\n"
     ]
    },
    {
     "data": {
      "application/vnd.jupyter.widget-view+json": {
       "model_id": "e4f584337efd41debda0804b993e0f63",
       "version_major": 2,
       "version_minor": 0
      },
      "text/plain": [
       "ViewInteractiveWidget(height=2048, layout=Layout(height='auto', width='100%'), width=2048)"
      ]
     },
     "metadata": {},
     "output_type": "display_data"
    },
    {
     "name": "stdout",
     "output_type": "stream",
     "text": [
      "/home/alabetski/figures/spin_index_3d/0.714070962374653_NL.IMBAG.Pand.0518100000325760-0.pdf done...\n"
     ]
    },
    {
     "data": {
      "application/vnd.jupyter.widget-view+json": {
       "model_id": "67237c1fd8af4e56a14226c0bd3b9a6f",
       "version_major": 2,
       "version_minor": 0
      },
      "text/plain": [
       "ViewInteractiveWidget(height=2048, layout=Layout(height='auto', width='100%'), width=2048)"
      ]
     },
     "metadata": {},
     "output_type": "display_data"
    },
    {
     "name": "stdout",
     "output_type": "stream",
     "text": [
      "/home/alabetski/figures/spin_index_3d/0.7261850329149717_NL.IMBAG.Pand.0363100012240967-0.pdf done...\n"
     ]
    },
    {
     "data": {
      "application/vnd.jupyter.widget-view+json": {
       "model_id": "e24814b136624cdb94c69ce86fd68728",
       "version_major": 2,
       "version_minor": 0
      },
      "text/plain": [
       "ViewInteractiveWidget(height=2048, layout=Layout(height='auto', width='100%'), width=2048)"
      ]
     },
     "metadata": {},
     "output_type": "display_data"
    },
    {
     "name": "stdout",
     "output_type": "stream",
     "text": [
      "/home/alabetski/figures/spin_index_3d/0.7375596354264892_NL.IMBAG.Pand.0599100000429588-0.pdf done...\n"
     ]
    },
    {
     "data": {
      "application/vnd.jupyter.widget-view+json": {
       "model_id": "98011d1bc0f948c8bc95963115e813a2",
       "version_major": 2,
       "version_minor": 0
      },
      "text/plain": [
       "ViewInteractiveWidget(height=2048, layout=Layout(height='auto', width='100%'), width=2048)"
      ]
     },
     "metadata": {},
     "output_type": "display_data"
    },
    {
     "name": "stdout",
     "output_type": "stream",
     "text": [
      "/home/alabetski/figures/spin_index_3d/0.7487233051411004_NL.IMBAG.Pand.0363100012089033-0.pdf done...\n"
     ]
    },
    {
     "data": {
      "application/vnd.jupyter.widget-view+json": {
       "model_id": "27d79d91f06c460ea48a8b594524da48",
       "version_major": 2,
       "version_minor": 0
      },
      "text/plain": [
       "ViewInteractiveWidget(height=2048, layout=Layout(height='auto', width='100%'), width=2048)"
      ]
     },
     "metadata": {},
     "output_type": "display_data"
    },
    {
     "name": "stdout",
     "output_type": "stream",
     "text": [
      "/home/alabetski/figures/spin_index_3d/0.7594094437779234_NL.IMBAG.Pand.0502100000001617-0.pdf done...\n"
     ]
    },
    {
     "data": {
      "application/vnd.jupyter.widget-view+json": {
       "model_id": "1141f9dd37b945c98a9258f96434bfa3",
       "version_major": 2,
       "version_minor": 0
      },
      "text/plain": [
       "ViewInteractiveWidget(height=2048, layout=Layout(height='auto', width='100%'), width=2048)"
      ]
     },
     "metadata": {},
     "output_type": "display_data"
    },
    {
     "name": "stdout",
     "output_type": "stream",
     "text": [
      "/home/alabetski/figures/spin_index_3d/0.7699141377642166_NL.IMBAG.Pand.0599100000665212-0.pdf done...\n"
     ]
    },
    {
     "data": {
      "application/vnd.jupyter.widget-view+json": {
       "model_id": "06cdea5fb7dc450ca73b09aca954bc3d",
       "version_major": 2,
       "version_minor": 0
      },
      "text/plain": [
       "ViewInteractiveWidget(height=2048, layout=Layout(height='auto', width='100%'), width=2048)"
      ]
     },
     "metadata": {},
     "output_type": "display_data"
    },
    {
     "name": "stdout",
     "output_type": "stream",
     "text": [
      "/home/alabetski/figures/spin_index_3d/0.7808682229530655_NL.IMBAG.Pand.0599100000058501-0.pdf done...\n"
     ]
    },
    {
     "data": {
      "application/vnd.jupyter.widget-view+json": {
       "model_id": "682c337e82d34de8b532b726f0ad297b",
       "version_major": 2,
       "version_minor": 0
      },
      "text/plain": [
       "ViewInteractiveWidget(height=2048, layout=Layout(height='auto', width='100%'), width=2048)"
      ]
     },
     "metadata": {},
     "output_type": "display_data"
    },
    {
     "name": "stdout",
     "output_type": "stream",
     "text": [
      "/home/alabetski/figures/spin_index_3d/0.7928917190934385_NL.IMBAG.Pand.0363100012086938-0.pdf done...\n"
     ]
    },
    {
     "data": {
      "application/vnd.jupyter.widget-view+json": {
       "model_id": "71e846a9e05a41d886c6391b3d2fe0a7",
       "version_major": 2,
       "version_minor": 0
      },
      "text/plain": [
       "ViewInteractiveWidget(height=2048, layout=Layout(height='auto', width='100%'), width=2048)"
      ]
     },
     "metadata": {},
     "output_type": "display_data"
    },
    {
     "name": "stdout",
     "output_type": "stream",
     "text": [
      "/home/alabetski/figures/spin_index_3d/0.8059464847770998_NL.IMBAG.Pand.0363100012168088-0.pdf done...\n"
     ]
    },
    {
     "data": {
      "application/vnd.jupyter.widget-view+json": {
       "model_id": "54adde734941472d928ba624e1586d14",
       "version_major": 2,
       "version_minor": 0
      },
      "text/plain": [
       "ViewInteractiveWidget(height=2048, layout=Layout(height='auto', width='100%'), width=2048)"
      ]
     },
     "metadata": {},
     "output_type": "display_data"
    },
    {
     "name": "stdout",
     "output_type": "stream",
     "text": [
      "/home/alabetski/figures/spin_index_3d/0.8202930577623834_NL.IMBAG.Pand.0518100000281234-0.pdf done...\n"
     ]
    },
    {
     "data": {
      "application/vnd.jupyter.widget-view+json": {
       "model_id": "989b61d023224c5ba2dc7a4d90afd1f5",
       "version_major": 2,
       "version_minor": 0
      },
      "text/plain": [
       "ViewInteractiveWidget(height=2048, layout=Layout(height='auto', width='100%'), width=2048)"
      ]
     },
     "metadata": {},
     "output_type": "display_data"
    },
    {
     "name": "stdout",
     "output_type": "stream",
     "text": [
      "/home/alabetski/figures/spin_index_3d/0.8402392795532131_NL.IMBAG.Pand.0518100000270896-0.pdf done...\n"
     ]
    },
    {
     "data": {
      "application/vnd.jupyter.widget-view+json": {
       "model_id": "5d80547ce0c442368a93387fb13c0d60",
       "version_major": 2,
       "version_minor": 0
      },
      "text/plain": [
       "ViewInteractiveWidget(height=2048, layout=Layout(height='auto', width='100%'), width=2048)"
      ]
     },
     "metadata": {},
     "output_type": "display_data"
    },
    {
     "name": "stdout",
     "output_type": "stream",
     "text": [
      "/home/alabetski/figures/spin_index_3d/1.0769920520320309_NL.IMBAG.Pand.0363100012213830-0.pdf done...\n"
     ]
    },
    {
     "data": {
      "application/vnd.jupyter.widget-view+json": {
       "model_id": "47cadce7ae304e0587ef3fb1d5a022db",
       "version_major": 2,
       "version_minor": 0
      },
      "text/plain": [
       "ViewInteractiveWidget(height=2048, layout=Layout(height='auto', width='100%'), width=2048)"
      ]
     },
     "metadata": {},
     "output_type": "display_data"
    },
    {
     "name": "stdout",
     "output_type": "stream",
     "text": [
      "/home/alabetski/figures/circumference_index_3d/0.117506422901664_NL.IMBAG.Pand.0599100000657847-0.pdf done...\n"
     ]
    },
    {
     "data": {
      "application/vnd.jupyter.widget-view+json": {
       "model_id": "e917333e12e347278c3c8c54fc61da69",
       "version_major": 2,
       "version_minor": 0
      },
      "text/plain": [
       "ViewInteractiveWidget(height=2048, layout=Layout(height='auto', width='100%'), width=2048)"
      ]
     },
     "metadata": {},
     "output_type": "display_data"
    },
    {
     "name": "stdout",
     "output_type": "stream",
     "text": [
      "/home/alabetski/figures/circumference_index_3d/0.8915159503049092_NL.IMBAG.Pand.0363100012223144-0.pdf done...\n"
     ]
    },
    {
     "data": {
      "application/vnd.jupyter.widget-view+json": {
       "model_id": "6636d2cdbe2642d991fbe094cf76ae8a",
       "version_major": 2,
       "version_minor": 0
      },
      "text/plain": [
       "ViewInteractiveWidget(height=2048, layout=Layout(height='auto', width='100%'), width=2048)"
      ]
     },
     "metadata": {},
     "output_type": "display_data"
    },
    {
     "name": "stdout",
     "output_type": "stream",
     "text": [
      "/home/alabetski/figures/circumference_index_3d/0.117506422901664_NL.IMBAG.Pand.0599100000657847-0.pdf done...\n"
     ]
    },
    {
     "data": {
      "application/vnd.jupyter.widget-view+json": {
       "model_id": "5b9d4ec53e2a4f2eb4727cefe43eadc9",
       "version_major": 2,
       "version_minor": 0
      },
      "text/plain": [
       "ViewInteractiveWidget(height=2048, layout=Layout(height='auto', width='100%'), width=2048)"
      ]
     },
     "metadata": {},
     "output_type": "display_data"
    },
    {
     "name": "stdout",
     "output_type": "stream",
     "text": [
      "/home/alabetski/figures/circumference_index_3d/0.6076671596848856_NL.IMBAG.Pand.0489100000216539-0.pdf done...\n"
     ]
    },
    {
     "data": {
      "application/vnd.jupyter.widget-view+json": {
       "model_id": "b851ec185b294088be8f4ab2ad43fe36",
       "version_major": 2,
       "version_minor": 0
      },
      "text/plain": [
       "ViewInteractiveWidget(height=2048, layout=Layout(height='auto', width='100%'), width=2048)"
      ]
     },
     "metadata": {},
     "output_type": "display_data"
    },
    {
     "name": "stdout",
     "output_type": "stream",
     "text": [
      "/home/alabetski/figures/circumference_index_3d/0.6534839029002992_NL.IMBAG.Pand.0333100000018840-0.pdf done...\n"
     ]
    },
    {
     "data": {
      "application/vnd.jupyter.widget-view+json": {
       "model_id": "3ad9a579642a4c98812bc63dc6f7b598",
       "version_major": 2,
       "version_minor": 0
      },
      "text/plain": [
       "ViewInteractiveWidget(height=2048, layout=Layout(height='auto', width='100%'), width=2048)"
      ]
     },
     "metadata": {},
     "output_type": "display_data"
    },
    {
     "name": "stdout",
     "output_type": "stream",
     "text": [
      "/home/alabetski/figures/circumference_index_3d/0.6779943678845399_NL.IMBAG.Pand.0518100000212371-0.pdf done...\n"
     ]
    },
    {
     "data": {
      "application/vnd.jupyter.widget-view+json": {
       "model_id": "7e4c9847ad9e4a0d81e003405c4f491a",
       "version_major": 2,
       "version_minor": 0
      },
      "text/plain": [
       "ViewInteractiveWidget(height=2048, layout=Layout(height='auto', width='100%'), width=2048)"
      ]
     },
     "metadata": {},
     "output_type": "display_data"
    },
    {
     "name": "stdout",
     "output_type": "stream",
     "text": [
      "/home/alabetski/figures/circumference_index_3d/0.6944917594556536_NL.IMBAG.Pand.0518100000278924-0.pdf done...\n"
     ]
    },
    {
     "data": {
      "application/vnd.jupyter.widget-view+json": {
       "model_id": "cde27ffefedf41a9bbe13767dc0ac598",
       "version_major": 2,
       "version_minor": 0
      },
      "text/plain": [
       "ViewInteractiveWidget(height=2048, layout=Layout(height='auto', width='100%'), width=2048)"
      ]
     },
     "metadata": {},
     "output_type": "display_data"
    },
    {
     "name": "stdout",
     "output_type": "stream",
     "text": [
      "/home/alabetski/figures/circumference_index_3d/0.7069231861499535_NL.IMBAG.Pand.0344100000046771-0.pdf done...\n"
     ]
    },
    {
     "data": {
      "application/vnd.jupyter.widget-view+json": {
       "model_id": "b9c9a49610c24e918687bcc7b6ce2478",
       "version_major": 2,
       "version_minor": 0
      },
      "text/plain": [
       "ViewInteractiveWidget(height=2048, layout=Layout(height='auto', width='100%'), width=2048)"
      ]
     },
     "metadata": {},
     "output_type": "display_data"
    },
    {
     "name": "stdout",
     "output_type": "stream",
     "text": [
      "/home/alabetski/figures/circumference_index_3d/0.7169594352676963_NL.IMBAG.Pand.0599100000632166-0.pdf done...\n"
     ]
    },
    {
     "data": {
      "application/vnd.jupyter.widget-view+json": {
       "model_id": "b967cfeb022d4b88a78986f044dcf13c",
       "version_major": 2,
       "version_minor": 0
      },
      "text/plain": [
       "ViewInteractiveWidget(height=2048, layout=Layout(height='auto', width='100%'), width=2048)"
      ]
     },
     "metadata": {},
     "output_type": "display_data"
    },
    {
     "name": "stdout",
     "output_type": "stream",
     "text": [
      "/home/alabetski/figures/circumference_index_3d/0.7256887474625311_NL.IMBAG.Pand.0363100012066936-0.pdf done...\n"
     ]
    },
    {
     "data": {
      "application/vnd.jupyter.widget-view+json": {
       "model_id": "882695fa666049ce92634ba50ab12a7a",
       "version_major": 2,
       "version_minor": 0
      },
      "text/plain": [
       "ViewInteractiveWidget(height=2048, layout=Layout(height='auto', width='100%'), width=2048)"
      ]
     },
     "metadata": {},
     "output_type": "display_data"
    },
    {
     "name": "stdout",
     "output_type": "stream",
     "text": [
      "/home/alabetski/figures/circumference_index_3d/0.733392174037883_NL.IMBAG.Pand.0603100000011099-0.pdf done...\n"
     ]
    },
    {
     "data": {
      "application/vnd.jupyter.widget-view+json": {
       "model_id": "a55d2e4e086a451884545b981d7e9464",
       "version_major": 2,
       "version_minor": 0
      },
      "text/plain": [
       "ViewInteractiveWidget(height=2048, layout=Layout(height='auto', width='100%'), width=2048)"
      ]
     },
     "metadata": {},
     "output_type": "display_data"
    },
    {
     "name": "stdout",
     "output_type": "stream",
     "text": [
      "/home/alabetski/figures/circumference_index_3d/0.7403675236035769_NL.IMBAG.Pand.0599100000684819-0.pdf done...\n"
     ]
    },
    {
     "data": {
      "application/vnd.jupyter.widget-view+json": {
       "model_id": "d90ad5bbfe384c2cbcb300f0012ace9d",
       "version_major": 2,
       "version_minor": 0
      },
      "text/plain": [
       "ViewInteractiveWidget(height=2048, layout=Layout(height='auto', width='100%'), width=2048)"
      ]
     },
     "metadata": {},
     "output_type": "display_data"
    },
    {
     "name": "stdout",
     "output_type": "stream",
     "text": [
      "/home/alabetski/figures/circumference_index_3d/0.7469759316218706_NL.IMBAG.Pand.0518100000318615-0.pdf done...\n"
     ]
    },
    {
     "data": {
      "application/vnd.jupyter.widget-view+json": {
       "model_id": "b264f8c1f82d4d619ffc11cef537b31d",
       "version_major": 2,
       "version_minor": 0
      },
      "text/plain": [
       "ViewInteractiveWidget(height=2048, layout=Layout(height='auto', width='100%'), width=2048)"
      ]
     },
     "metadata": {},
     "output_type": "display_data"
    },
    {
     "name": "stdout",
     "output_type": "stream",
     "text": [
      "/home/alabetski/figures/circumference_index_3d/0.7531028073415339_NL.IMBAG.Pand.0599100000083824-0.pdf done...\n"
     ]
    },
    {
     "data": {
      "application/vnd.jupyter.widget-view+json": {
       "model_id": "799da3643a924f8a9430f705ca96113f",
       "version_major": 2,
       "version_minor": 0
      },
      "text/plain": [
       "ViewInteractiveWidget(height=2048, layout=Layout(height='auto', width='100%'), width=2048)"
      ]
     },
     "metadata": {},
     "output_type": "display_data"
    },
    {
     "name": "stdout",
     "output_type": "stream",
     "text": [
      "/home/alabetski/figures/circumference_index_3d/0.7591262627506122_NL.IMBAG.Pand.0344100000078806-0.pdf done...\n"
     ]
    },
    {
     "data": {
      "application/vnd.jupyter.widget-view+json": {
       "model_id": "31f5d7ff03b245e6a2f0aab8a506ad61",
       "version_major": 2,
       "version_minor": 0
      },
      "text/plain": [
       "ViewInteractiveWidget(height=2048, layout=Layout(height='auto', width='100%'), width=2048)"
      ]
     },
     "metadata": {},
     "output_type": "display_data"
    },
    {
     "name": "stdout",
     "output_type": "stream",
     "text": [
      "/home/alabetski/figures/circumference_index_3d/0.7651927307673887_NL.IMBAG.Pand.0518100000303262-0.pdf done...\n"
     ]
    },
    {
     "data": {
      "application/vnd.jupyter.widget-view+json": {
       "model_id": "9202579638404f2189bc202e77226401",
       "version_major": 2,
       "version_minor": 0
      },
      "text/plain": [
       "ViewInteractiveWidget(height=2048, layout=Layout(height='auto', width='100%'), width=2048)"
      ]
     },
     "metadata": {},
     "output_type": "display_data"
    },
    {
     "name": "stdout",
     "output_type": "stream",
     "text": [
      "/home/alabetski/figures/circumference_index_3d/0.7715227346141249_NL.IMBAG.Pand.0363100012130777-0.pdf done...\n"
     ]
    },
    {
     "data": {
      "application/vnd.jupyter.widget-view+json": {
       "model_id": "2f49f6de165f4dd6abe740cf4e0977b7",
       "version_major": 2,
       "version_minor": 0
      },
      "text/plain": [
       "ViewInteractiveWidget(height=2048, layout=Layout(height='auto', width='100%'), width=2048)"
      ]
     },
     "metadata": {},
     "output_type": "display_data"
    },
    {
     "name": "stdout",
     "output_type": "stream",
     "text": [
      "/home/alabetski/figures/circumference_index_3d/0.7777921656197634_NL.IMBAG.Pand.0518100000284318-0.pdf done...\n"
     ]
    },
    {
     "data": {
      "application/vnd.jupyter.widget-view+json": {
       "model_id": "53bcee9cb3e149968c932e67e11d4a98",
       "version_major": 2,
       "version_minor": 0
      },
      "text/plain": [
       "ViewInteractiveWidget(height=2048, layout=Layout(height='auto', width='100%'), width=2048)"
      ]
     },
     "metadata": {},
     "output_type": "display_data"
    },
    {
     "name": "stdout",
     "output_type": "stream",
     "text": [
      "/home/alabetski/figures/circumference_index_3d/0.7845088623363188_NL.IMBAG.Pand.0518100000323724-0.pdf done...\n"
     ]
    },
    {
     "data": {
      "application/vnd.jupyter.widget-view+json": {
       "model_id": "7793651abba54c02a03bbc5069f2fab2",
       "version_major": 2,
       "version_minor": 0
      },
      "text/plain": [
       "ViewInteractiveWidget(height=2048, layout=Layout(height='auto', width='100%'), width=2048)"
      ]
     },
     "metadata": {},
     "output_type": "display_data"
    },
    {
     "name": "stdout",
     "output_type": "stream",
     "text": [
      "/home/alabetski/figures/circumference_index_3d/0.7910677389117298_NL.IMBAG.Pand.0344100000022940-0.pdf done...\n"
     ]
    },
    {
     "data": {
      "application/vnd.jupyter.widget-view+json": {
       "model_id": "54455825b25a4d3fa655c1cd2bdd48d2",
       "version_major": 2,
       "version_minor": 0
      },
      "text/plain": [
       "ViewInteractiveWidget(height=2048, layout=Layout(height='auto', width='100%'), width=2048)"
      ]
     },
     "metadata": {},
     "output_type": "display_data"
    },
    {
     "name": "stdout",
     "output_type": "stream",
     "text": [
      "/home/alabetski/figures/circumference_index_3d/0.7978787467483819_NL.IMBAG.Pand.0344100000066762-0.pdf done...\n"
     ]
    },
    {
     "data": {
      "application/vnd.jupyter.widget-view+json": {
       "model_id": "4b35076127974d40846a4d034b10e63d",
       "version_major": 2,
       "version_minor": 0
      },
      "text/plain": [
       "ViewInteractiveWidget(height=2048, layout=Layout(height='auto', width='100%'), width=2048)"
      ]
     },
     "metadata": {},
     "output_type": "display_data"
    },
    {
     "name": "stdout",
     "output_type": "stream",
     "text": [
      "/home/alabetski/figures/circumference_index_3d/0.8068002563358334_NL.IMBAG.Pand.0599100000670064-0.pdf done...\n"
     ]
    },
    {
     "data": {
      "application/vnd.jupyter.widget-view+json": {
       "model_id": "9ffe974f61fe4e17b30d0649ba460747",
       "version_major": 2,
       "version_minor": 0
      },
      "text/plain": [
       "ViewInteractiveWidget(height=2048, layout=Layout(height='auto', width='100%'), width=2048)"
      ]
     },
     "metadata": {},
     "output_type": "display_data"
    },
    {
     "name": "stdout",
     "output_type": "stream",
     "text": [
      "/home/alabetski/figures/circumference_index_3d/0.8915159503049092_NL.IMBAG.Pand.0363100012223144-0.pdf done...\n"
     ]
    },
    {
     "data": {
      "application/vnd.jupyter.widget-view+json": {
       "model_id": "271dc4dfa3f04ff9b37940e049a43b22",
       "version_major": 2,
       "version_minor": 0
      },
      "text/plain": [
       "ViewInteractiveWidget(height=2048, layout=Layout(height='auto', width='100%'), width=2048)"
      ]
     },
     "metadata": {},
     "output_type": "display_data"
    },
    {
     "name": "stdout",
     "output_type": "stream",
     "text": [
      "/home/alabetski/figures/depth_index_3d/0.0475275049396205_NL.IMBAG.Pand.0344100000099567-0.pdf done...\n"
     ]
    },
    {
     "data": {
      "application/vnd.jupyter.widget-view+json": {
       "model_id": "0bdeeb55591d4123b9a6787c2b4a0a5c",
       "version_major": 2,
       "version_minor": 0
      },
      "text/plain": [
       "ViewInteractiveWidget(height=2048, layout=Layout(height='auto', width='100%'), width=2048)"
      ]
     },
     "metadata": {},
     "output_type": "display_data"
    },
    {
     "name": "stdout",
     "output_type": "stream",
     "text": [
      "/home/alabetski/figures/depth_index_3d/0.978212884305682_NL.IMBAG.Pand.0363100012202810-0.pdf done...\n"
     ]
    },
    {
     "data": {
      "application/vnd.jupyter.widget-view+json": {
       "model_id": "df0fb467a87e4ed8871746dd01cc3992",
       "version_major": 2,
       "version_minor": 0
      },
      "text/plain": [
       "ViewInteractiveWidget(height=2048, layout=Layout(height='auto', width='100%'), width=2048)"
      ]
     },
     "metadata": {},
     "output_type": "display_data"
    },
    {
     "name": "stdout",
     "output_type": "stream",
     "text": [
      "/home/alabetski/figures/depth_index_3d/0.0475275049396205_NL.IMBAG.Pand.0344100000099567-0.pdf done...\n"
     ]
    },
    {
     "data": {
      "application/vnd.jupyter.widget-view+json": {
       "model_id": "ddb22cef98c048219863c1226b94e530",
       "version_major": 2,
       "version_minor": 0
      },
      "text/plain": [
       "ViewInteractiveWidget(height=2048, layout=Layout(height='auto', width='100%'), width=2048)"
      ]
     },
     "metadata": {},
     "output_type": "display_data"
    },
    {
     "name": "stdout",
     "output_type": "stream",
     "text": [
      "/home/alabetski/figures/depth_index_3d/0.5053399415503482_NL.IMBAG.Pand.0363100012150549-0.pdf done...\n"
     ]
    },
    {
     "data": {
      "application/vnd.jupyter.widget-view+json": {
       "model_id": "f686d516a5ad42d9832804e2b8a1a8e9",
       "version_major": 2,
       "version_minor": 0
      },
      "text/plain": [
       "ViewInteractiveWidget(height=2048, layout=Layout(height='auto', width='100%'), width=2048)"
      ]
     },
     "metadata": {},
     "output_type": "display_data"
    },
    {
     "name": "stdout",
     "output_type": "stream",
     "text": [
      "/home/alabetski/figures/depth_index_3d/0.5493807908158164_NL.IMBAG.Pand.0599100000351268-0.pdf done...\n"
     ]
    },
    {
     "data": {
      "application/vnd.jupyter.widget-view+json": {
       "model_id": "0756f517b478494aa8b6f81eee20c4ab",
       "version_major": 2,
       "version_minor": 0
      },
      "text/plain": [
       "ViewInteractiveWidget(height=2048, layout=Layout(height='auto', width='100%'), width=2048)"
      ]
     },
     "metadata": {},
     "output_type": "display_data"
    },
    {
     "name": "stdout",
     "output_type": "stream",
     "text": [
      "/home/alabetski/figures/depth_index_3d/0.5729606520178981_NL.IMBAG.Pand.0518100000216264-0.pdf done...\n"
     ]
    },
    {
     "data": {
      "application/vnd.jupyter.widget-view+json": {
       "model_id": "0e399a7d90654ddc9eaa6629542d2905",
       "version_major": 2,
       "version_minor": 0
      },
      "text/plain": [
       "ViewInteractiveWidget(height=2048, layout=Layout(height='auto', width='100%'), width=2048)"
      ]
     },
     "metadata": {},
     "output_type": "display_data"
    },
    {
     "name": "stdout",
     "output_type": "stream",
     "text": [
      "/home/alabetski/figures/depth_index_3d/0.5891282836314399_NL.IMBAG.Pand.1892100000646864-0.pdf done...\n"
     ]
    },
    {
     "data": {
      "application/vnd.jupyter.widget-view+json": {
       "model_id": "a7adfc15a6b94f9494451871e13ce331",
       "version_major": 2,
       "version_minor": 0
      },
      "text/plain": [
       "ViewInteractiveWidget(height=2048, layout=Layout(height='auto', width='100%'), width=2048)"
      ]
     },
     "metadata": {},
     "output_type": "display_data"
    },
    {
     "name": "stdout",
     "output_type": "stream",
     "text": [
      "/home/alabetski/figures/depth_index_3d/0.6013492776908772_NL.IMBAG.Pand.1621100000024209-0.pdf done...\n"
     ]
    },
    {
     "data": {
      "application/vnd.jupyter.widget-view+json": {
       "model_id": "55bf90cc47514c14977378c699e1882d",
       "version_major": 2,
       "version_minor": 0
      },
      "text/plain": [
       "ViewInteractiveWidget(height=2048, layout=Layout(height='auto', width='100%'), width=2048)"
      ]
     },
     "metadata": {},
     "output_type": "display_data"
    },
    {
     "name": "stdout",
     "output_type": "stream",
     "text": [
      "/home/alabetski/figures/depth_index_3d/0.611901886259551_NL.IMBAG.Pand.0556100000000085-0.pdf done...\n"
     ]
    },
    {
     "data": {
      "application/vnd.jupyter.widget-view+json": {
       "model_id": "4c2c09e78557497e9704153e37f3f6e1",
       "version_major": 2,
       "version_minor": 0
      },
      "text/plain": [
       "ViewInteractiveWidget(height=2048, layout=Layout(height='auto', width='100%'), width=2048)"
      ]
     },
     "metadata": {},
     "output_type": "display_data"
    },
    {
     "name": "stdout",
     "output_type": "stream",
     "text": [
      "/home/alabetski/figures/depth_index_3d/0.6209006311486707_NL.IMBAG.Pand.0599100000108827-0.pdf done...\n"
     ]
    },
    {
     "data": {
      "application/vnd.jupyter.widget-view+json": {
       "model_id": "65ac5e78bff64896b679556e7309e314",
       "version_major": 2,
       "version_minor": 0
      },
      "text/plain": [
       "ViewInteractiveWidget(height=2048, layout=Layout(height='auto', width='100%'), width=2048)"
      ]
     },
     "metadata": {},
     "output_type": "display_data"
    },
    {
     "name": "stdout",
     "output_type": "stream",
     "text": [
      "/home/alabetski/figures/depth_index_3d/0.6291387713918538_NL.IMBAG.Pand.0344100000066065-0.pdf done...\n"
     ]
    },
    {
     "data": {
      "application/vnd.jupyter.widget-view+json": {
       "model_id": "7cda2b81372149c8a93872c503257772",
       "version_major": 2,
       "version_minor": 0
      },
      "text/plain": [
       "ViewInteractiveWidget(height=2048, layout=Layout(height='auto', width='100%'), width=2048)"
      ]
     },
     "metadata": {},
     "output_type": "display_data"
    },
    {
     "name": "stdout",
     "output_type": "stream",
     "text": [
      "/home/alabetski/figures/depth_index_3d/0.6369205972306723_NL.IMBAG.Pand.0518100000250897-0.pdf done...\n"
     ]
    },
    {
     "data": {
      "application/vnd.jupyter.widget-view+json": {
       "model_id": "f6467f1a2b9f4caba40865f0e2616911",
       "version_major": 2,
       "version_minor": 0
      },
      "text/plain": [
       "ViewInteractiveWidget(height=2048, layout=Layout(height='auto', width='100%'), width=2048)"
      ]
     },
     "metadata": {},
     "output_type": "display_data"
    },
    {
     "name": "stdout",
     "output_type": "stream",
     "text": [
      "/home/alabetski/figures/depth_index_3d/0.6443912994717256_NL.IMBAG.Pand.0599100000337820-0.pdf done...\n"
     ]
    },
    {
     "data": {
      "application/vnd.jupyter.widget-view+json": {
       "model_id": "0bbfe4e33eb74f53a1c59348dadf7831",
       "version_major": 2,
       "version_minor": 0
      },
      "text/plain": [
       "ViewInteractiveWidget(height=2048, layout=Layout(height='auto', width='100%'), width=2048)"
      ]
     },
     "metadata": {},
     "output_type": "display_data"
    },
    {
     "name": "stdout",
     "output_type": "stream",
     "text": [
      "/home/alabetski/figures/depth_index_3d/0.6517395884303716_NL.IMBAG.Pand.0344100000018842-0.pdf done...\n"
     ]
    },
    {
     "data": {
      "application/vnd.jupyter.widget-view+json": {
       "model_id": "74e07aba422f44ccb9820f9c3b13a73d",
       "version_major": 2,
       "version_minor": 0
      },
      "text/plain": [
       "ViewInteractiveWidget(height=2048, layout=Layout(height='auto', width='100%'), width=2048)"
      ]
     },
     "metadata": {},
     "output_type": "display_data"
    },
    {
     "name": "stdout",
     "output_type": "stream",
     "text": [
      "/home/alabetski/figures/depth_index_3d/0.658852437476074_NL.IMBAG.Pand.0599100000224174-0.pdf done...\n"
     ]
    },
    {
     "data": {
      "application/vnd.jupyter.widget-view+json": {
       "model_id": "17c4423560aa418682c752aa0d4025ea",
       "version_major": 2,
       "version_minor": 0
      },
      "text/plain": [
       "ViewInteractiveWidget(height=2048, layout=Layout(height='auto', width='100%'), width=2048)"
      ]
     },
     "metadata": {},
     "output_type": "display_data"
    },
    {
     "name": "stdout",
     "output_type": "stream",
     "text": [
      "/home/alabetski/figures/depth_index_3d/0.666128009426128_NL.IMBAG.Pand.0363100012062612-0.pdf done...\n"
     ]
    },
    {
     "data": {
      "application/vnd.jupyter.widget-view+json": {
       "model_id": "65e17ff727194b4aa9bfca101d305e3d",
       "version_major": 2,
       "version_minor": 0
      },
      "text/plain": [
       "ViewInteractiveWidget(height=2048, layout=Layout(height='auto', width='100%'), width=2048)"
      ]
     },
     "metadata": {},
     "output_type": "display_data"
    },
    {
     "name": "stdout",
     "output_type": "stream",
     "text": [
      "/home/alabetski/figures/depth_index_3d/0.6739843956170669_NL.IMBAG.Pand.1783100000019162-0.pdf done...\n"
     ]
    },
    {
     "data": {
      "application/vnd.jupyter.widget-view+json": {
       "model_id": "753f99cf53684f27be17eb68bc89127a",
       "version_major": 2,
       "version_minor": 0
      },
      "text/plain": [
       "ViewInteractiveWidget(height=2048, layout=Layout(height='auto', width='100%'), width=2048)"
      ]
     },
     "metadata": {},
     "output_type": "display_data"
    },
    {
     "name": "stdout",
     "output_type": "stream",
     "text": [
      "/home/alabetski/figures/depth_index_3d/0.6827880959907987_NL.IMBAG.Pand.0356100000070215-0.pdf done...\n"
     ]
    },
    {
     "data": {
      "application/vnd.jupyter.widget-view+json": {
       "model_id": "64a55ae527a44ef6bebc0eec4c75bf51",
       "version_major": 2,
       "version_minor": 0
      },
      "text/plain": [
       "ViewInteractiveWidget(height=2048, layout=Layout(height='auto', width='100%'), width=2048)"
      ]
     },
     "metadata": {},
     "output_type": "display_data"
    },
    {
     "name": "stdout",
     "output_type": "stream",
     "text": [
      "/home/alabetski/figures/depth_index_3d/0.6926162636827922_NL.IMBAG.Pand.0356100000063734-0.pdf done...\n"
     ]
    },
    {
     "data": {
      "application/vnd.jupyter.widget-view+json": {
       "model_id": "439f3e676ff54d71af8bb46c27ead46f",
       "version_major": 2,
       "version_minor": 0
      },
      "text/plain": [
       "ViewInteractiveWidget(height=2048, layout=Layout(height='auto', width='100%'), width=2048)"
      ]
     },
     "metadata": {},
     "output_type": "display_data"
    },
    {
     "name": "stdout",
     "output_type": "stream",
     "text": [
      "/home/alabetski/figures/depth_index_3d/0.7035961764522007_NL.IMBAG.Pand.0599100000611058-0.pdf done...\n"
     ]
    },
    {
     "data": {
      "application/vnd.jupyter.widget-view+json": {
       "model_id": "378fed02ded3485b9fc75a812e7d6af8",
       "version_major": 2,
       "version_minor": 0
      },
      "text/plain": [
       "ViewInteractiveWidget(height=2048, layout=Layout(height='auto', width='100%'), width=2048)"
      ]
     },
     "metadata": {},
     "output_type": "display_data"
    },
    {
     "name": "stdout",
     "output_type": "stream",
     "text": [
      "/home/alabetski/figures/depth_index_3d/0.7173863126492265_NL.IMBAG.Pand.0384100000000127-0.pdf done...\n"
     ]
    },
    {
     "data": {
      "application/vnd.jupyter.widget-view+json": {
       "model_id": "706acc17626149c3bb5bc31d186f33bf",
       "version_major": 2,
       "version_minor": 0
      },
      "text/plain": [
       "ViewInteractiveWidget(height=2048, layout=Layout(height='auto', width='100%'), width=2048)"
      ]
     },
     "metadata": {},
     "output_type": "display_data"
    },
    {
     "name": "stdout",
     "output_type": "stream",
     "text": [
      "/home/alabetski/figures/depth_index_3d/0.7383847015982244_NL.IMBAG.Pand.0502100000012711-0.pdf done...\n"
     ]
    },
    {
     "data": {
      "application/vnd.jupyter.widget-view+json": {
       "model_id": "7df67c049e094f10bf792d0765d7aa0d",
       "version_major": 2,
       "version_minor": 0
      },
      "text/plain": [
       "ViewInteractiveWidget(height=2048, layout=Layout(height='auto', width='100%'), width=2048)"
      ]
     },
     "metadata": {},
     "output_type": "display_data"
    },
    {
     "name": "stdout",
     "output_type": "stream",
     "text": [
      "/home/alabetski/figures/depth_index_3d/0.978212884305682_NL.IMBAG.Pand.0363100012202810-0.pdf done...\n"
     ]
    },
    {
     "data": {
      "application/vnd.jupyter.widget-view+json": {
       "model_id": "e99512442c2a46b0a9a609f76492321d",
       "version_major": 2,
       "version_minor": 0
      },
      "text/plain": [
       "ViewInteractiveWidget(height=2048, layout=Layout(height='auto', width='100%'), width=2048)"
      ]
     },
     "metadata": {},
     "output_type": "display_data"
    },
    {
     "name": "stdout",
     "output_type": "stream",
     "text": [
      "/home/alabetski/figures/girth_index_3d/0.0_NL.IMBAG.Pand.0344100000099567-0.pdf done...\n"
     ]
    },
    {
     "data": {
      "application/vnd.jupyter.widget-view+json": {
       "model_id": "c3db7db9af834e20a0be78f3c26c0e5c",
       "version_major": 2,
       "version_minor": 0
      },
      "text/plain": [
       "ViewInteractiveWidget(height=2048, layout=Layout(height='auto', width='100%'), width=2048)"
      ]
     },
     "metadata": {},
     "output_type": "display_data"
    },
    {
     "name": "stdout",
     "output_type": "stream",
     "text": [
      "/home/alabetski/figures/girth_index_3d/0.8877418566595898_NL.IMBAG.Pand.0363100012168132-0.pdf done...\n"
     ]
    },
    {
     "data": {
      "application/vnd.jupyter.widget-view+json": {
       "model_id": "4ea2a3a1a2514847813a03c355e5477b",
       "version_major": 2,
       "version_minor": 0
      },
      "text/plain": [
       "ViewInteractiveWidget(height=2048, layout=Layout(height='auto', width='100%'), width=2048)"
      ]
     },
     "metadata": {},
     "output_type": "display_data"
    },
    {
     "name": "stdout",
     "output_type": "stream",
     "text": [
      "/home/alabetski/figures/girth_index_3d/0.0_NL.IMBAG.Pand.0344100000099567-0.pdf done...\n"
     ]
    },
    {
     "data": {
      "application/vnd.jupyter.widget-view+json": {
       "model_id": "01e787e463e24735b9f9a21443bba944",
       "version_major": 2,
       "version_minor": 0
      },
      "text/plain": [
       "ViewInteractiveWidget(height=2048, layout=Layout(height='auto', width='100%'), width=2048)"
      ]
     },
     "metadata": {},
     "output_type": "display_data"
    },
    {
     "name": "stdout",
     "output_type": "stream",
     "text": [
      "/home/alabetski/figures/girth_index_3d/0.3904940554728457_NL.IMBAG.Pand.0310100000679340-0.pdf done...\n"
     ]
    },
    {
     "data": {
      "application/vnd.jupyter.widget-view+json": {
       "model_id": "c1cbd869935d47d492864c0c1d166c75",
       "version_major": 2,
       "version_minor": 0
      },
      "text/plain": [
       "ViewInteractiveWidget(height=2048, layout=Layout(height='auto', width='100%'), width=2048)"
      ]
     },
     "metadata": {},
     "output_type": "display_data"
    },
    {
     "name": "stdout",
     "output_type": "stream",
     "text": [
      "/home/alabetski/figures/girth_index_3d/0.4398074085925661_NL.IMBAG.Pand.0518100000296218-0.pdf done...\n"
     ]
    },
    {
     "data": {
      "application/vnd.jupyter.widget-view+json": {
       "model_id": "643ba3a9894140b8a3129e4dfbf444d5",
       "version_major": 2,
       "version_minor": 0
      },
      "text/plain": [
       "ViewInteractiveWidget(height=2048, layout=Layout(height='auto', width='100%'), width=2048)"
      ]
     },
     "metadata": {},
     "output_type": "display_data"
    },
    {
     "name": "stdout",
     "output_type": "stream",
     "text": [
      "/home/alabetski/figures/girth_index_3d/0.4710513994501324_NL.IMBAG.Pand.0363100012161221-0.pdf done...\n"
     ]
    },
    {
     "data": {
      "application/vnd.jupyter.widget-view+json": {
       "model_id": "3347f223e36f4b2c941094d7d9a1f044",
       "version_major": 2,
       "version_minor": 0
      },
      "text/plain": [
       "ViewInteractiveWidget(height=2048, layout=Layout(height='auto', width='100%'), width=2048)"
      ]
     },
     "metadata": {},
     "output_type": "display_data"
    },
    {
     "name": "stdout",
     "output_type": "stream",
     "text": [
      "/home/alabetski/figures/girth_index_3d/0.4934937779334067_NL.IMBAG.Pand.0363100012176040-0.pdf done...\n"
     ]
    },
    {
     "data": {
      "application/vnd.jupyter.widget-view+json": {
       "model_id": "0b265c2f513d432ba363491d628c74ab",
       "version_major": 2,
       "version_minor": 0
      },
      "text/plain": [
       "ViewInteractiveWidget(height=2048, layout=Layout(height='auto', width='100%'), width=2048)"
      ]
     },
     "metadata": {},
     "output_type": "display_data"
    },
    {
     "name": "stdout",
     "output_type": "stream",
     "text": [
      "/home/alabetski/figures/girth_index_3d/0.5119742823756575_NL.IMBAG.Pand.0599100000656360-0.pdf done...\n"
     ]
    },
    {
     "data": {
      "application/vnd.jupyter.widget-view+json": {
       "model_id": "4fc5ba7181eb4c9b976804caa96dd441",
       "version_major": 2,
       "version_minor": 0
      },
      "text/plain": [
       "ViewInteractiveWidget(height=2048, layout=Layout(height='auto', width='100%'), width=2048)"
      ]
     },
     "metadata": {},
     "output_type": "display_data"
    },
    {
     "name": "stdout",
     "output_type": "stream",
     "text": [
      "/home/alabetski/figures/girth_index_3d/0.5273479041361809_NL.IMBAG.Pand.1916100000099079-0.pdf done...\n"
     ]
    },
    {
     "data": {
      "application/vnd.jupyter.widget-view+json": {
       "model_id": "c901bff1ccf74744aac43e5205651531",
       "version_major": 2,
       "version_minor": 0
      },
      "text/plain": [
       "ViewInteractiveWidget(height=2048, layout=Layout(height='auto', width='100%'), width=2048)"
      ]
     },
     "metadata": {},
     "output_type": "display_data"
    },
    {
     "name": "stdout",
     "output_type": "stream",
     "text": [
      "/home/alabetski/figures/girth_index_3d/0.5412872874918251_NL.IMBAG.Pand.0363100012126346-0.pdf done...\n"
     ]
    },
    {
     "data": {
      "application/vnd.jupyter.widget-view+json": {
       "model_id": "10e262bb81c446ae9b9e76ec943f70a9",
       "version_major": 2,
       "version_minor": 0
      },
      "text/plain": [
       "ViewInteractiveWidget(height=2048, layout=Layout(height='auto', width='100%'), width=2048)"
      ]
     },
     "metadata": {},
     "output_type": "display_data"
    },
    {
     "name": "stdout",
     "output_type": "stream",
     "text": [
      "/home/alabetski/figures/girth_index_3d/0.554091896574904_NL.IMBAG.Pand.0599100000309992-0.pdf done...\n"
     ]
    },
    {
     "data": {
      "application/vnd.jupyter.widget-view+json": {
       "model_id": "a27621b8decc4a6bbaa2472da0b60493",
       "version_major": 2,
       "version_minor": 0
      },
      "text/plain": [
       "ViewInteractiveWidget(height=2048, layout=Layout(height='auto', width='100%'), width=2048)"
      ]
     },
     "metadata": {},
     "output_type": "display_data"
    },
    {
     "name": "stdout",
     "output_type": "stream",
     "text": [
      "/home/alabetski/figures/girth_index_3d/0.565757428291964_NL.IMBAG.Pand.0518100000237327-0.pdf done...\n"
     ]
    },
    {
     "data": {
      "application/vnd.jupyter.widget-view+json": {
       "model_id": "f2ffdc3ffa4844bba855103f3303b7b1",
       "version_major": 2,
       "version_minor": 0
      },
      "text/plain": [
       "ViewInteractiveWidget(height=2048, layout=Layout(height='auto', width='100%'), width=2048)"
      ]
     },
     "metadata": {},
     "output_type": "display_data"
    },
    {
     "name": "stdout",
     "output_type": "stream",
     "text": [
      "/home/alabetski/figures/girth_index_3d/0.576350737222133_NL.IMBAG.Pand.0556100000010772-0.pdf done...\n"
     ]
    },
    {
     "data": {
      "application/vnd.jupyter.widget-view+json": {
       "model_id": "21f3c4c50105484ca85bdcbcaf8af9a9",
       "version_major": 2,
       "version_minor": 0
      },
      "text/plain": [
       "ViewInteractiveWidget(height=2048, layout=Layout(height='auto', width='100%'), width=2048)"
      ]
     },
     "metadata": {},
     "output_type": "display_data"
    },
    {
     "name": "stdout",
     "output_type": "stream",
     "text": [
      "/home/alabetski/figures/girth_index_3d/0.5862688559226157_NL.IMBAG.Pand.0344100000071100-0.pdf done...\n"
     ]
    },
    {
     "data": {
      "application/vnd.jupyter.widget-view+json": {
       "model_id": "ae59ba4079b24a13afdce4ab4c6fbac1",
       "version_major": 2,
       "version_minor": 0
      },
      "text/plain": [
       "ViewInteractiveWidget(height=2048, layout=Layout(height='auto', width='100%'), width=2048)"
      ]
     },
     "metadata": {},
     "output_type": "display_data"
    },
    {
     "name": "stdout",
     "output_type": "stream",
     "text": [
      "/home/alabetski/figures/girth_index_3d/0.5960420644019743_NL.IMBAG.Pand.0599100000095558-0.pdf done...\n"
     ]
    },
    {
     "data": {
      "application/vnd.jupyter.widget-view+json": {
       "model_id": "48fdc52c21c740f5b3d2d3f6650c82a8",
       "version_major": 2,
       "version_minor": 0
      },
      "text/plain": [
       "ViewInteractiveWidget(height=2048, layout=Layout(height='auto', width='100%'), width=2048)"
      ]
     },
     "metadata": {},
     "output_type": "display_data"
    },
    {
     "name": "stdout",
     "output_type": "stream",
     "text": [
      "/home/alabetski/figures/girth_index_3d/0.6063573204349446_NL.IMBAG.Pand.0363100012104758-0.pdf done...\n"
     ]
    },
    {
     "data": {
      "application/vnd.jupyter.widget-view+json": {
       "model_id": "a6202d8ab42048269f5aa1216989431d",
       "version_major": 2,
       "version_minor": 0
      },
      "text/plain": [
       "ViewInteractiveWidget(height=2048, layout=Layout(height='auto', width='100%'), width=2048)"
      ]
     },
     "metadata": {},
     "output_type": "display_data"
    },
    {
     "name": "stdout",
     "output_type": "stream",
     "text": [
      "/home/alabetski/figures/girth_index_3d/0.6169362574540322_NL.IMBAG.Pand.0363100012141478-0.pdf done...\n"
     ]
    },
    {
     "data": {
      "application/vnd.jupyter.widget-view+json": {
       "model_id": "4a9b6659aeaa437cbd95ad9d7eeac927",
       "version_major": 2,
       "version_minor": 0
      },
      "text/plain": [
       "ViewInteractiveWidget(height=2048, layout=Layout(height='auto', width='100%'), width=2048)"
      ]
     },
     "metadata": {},
     "output_type": "display_data"
    },
    {
     "name": "stdout",
     "output_type": "stream",
     "text": [
      "/home/alabetski/figures/girth_index_3d/0.6286083410594494_NL.IMBAG.Pand.0518100000323601-0.pdf done...\n"
     ]
    },
    {
     "data": {
      "application/vnd.jupyter.widget-view+json": {
       "model_id": "b9a267d044a64c12a8d012e8d0d7b6d2",
       "version_major": 2,
       "version_minor": 0
      },
      "text/plain": [
       "ViewInteractiveWidget(height=2048, layout=Layout(height='auto', width='100%'), width=2048)"
      ]
     },
     "metadata": {},
     "output_type": "display_data"
    },
    {
     "name": "stdout",
     "output_type": "stream",
     "text": [
      "/home/alabetski/figures/girth_index_3d/0.6416922321597993_NL.IMBAG.Pand.0599100000754963-0.pdf done...\n"
     ]
    },
    {
     "data": {
      "application/vnd.jupyter.widget-view+json": {
       "model_id": "3b19dd46a4a84ed49d89e9c516af74cc",
       "version_major": 2,
       "version_minor": 0
      },
      "text/plain": [
       "ViewInteractiveWidget(height=2048, layout=Layout(height='auto', width='100%'), width=2048)"
      ]
     },
     "metadata": {},
     "output_type": "display_data"
    },
    {
     "name": "stdout",
     "output_type": "stream",
     "text": [
      "/home/alabetski/figures/girth_index_3d/0.6561290625276293_NL.IMBAG.Pand.0518100000211518-0.pdf done...\n"
     ]
    },
    {
     "data": {
      "application/vnd.jupyter.widget-view+json": {
       "model_id": "fcdddf842a1441888df3f91099f43554",
       "version_major": 2,
       "version_minor": 0
      },
      "text/plain": [
       "ViewInteractiveWidget(height=2048, layout=Layout(height='auto', width='100%'), width=2048)"
      ]
     },
     "metadata": {},
     "output_type": "display_data"
    },
    {
     "name": "stdout",
     "output_type": "stream",
     "text": [
      "/home/alabetski/figures/girth_index_3d/0.673583419636353_NL.IMBAG.Pand.0568100000103829-0.pdf done...\n"
     ]
    },
    {
     "data": {
      "application/vnd.jupyter.widget-view+json": {
       "model_id": "5968a32d0b7e487aa5fe69566e125ec9",
       "version_major": 2,
       "version_minor": 0
      },
      "text/plain": [
       "ViewInteractiveWidget(height=2048, layout=Layout(height='auto', width='100%'), width=2048)"
      ]
     },
     "metadata": {},
     "output_type": "display_data"
    },
    {
     "name": "stdout",
     "output_type": "stream",
     "text": [
      "/home/alabetski/figures/girth_index_3d/0.6986902889712477_NL.IMBAG.Pand.1892100000630251-0.pdf done...\n"
     ]
    },
    {
     "data": {
      "application/vnd.jupyter.widget-view+json": {
       "model_id": "d8b5dbaa8fb04790b506fe48914cd1ea",
       "version_major": 2,
       "version_minor": 0
      },
      "text/plain": [
       "ViewInteractiveWidget(height=2048, layout=Layout(height='auto', width='100%'), width=2048)"
      ]
     },
     "metadata": {},
     "output_type": "display_data"
    },
    {
     "name": "stdout",
     "output_type": "stream",
     "text": [
      "/home/alabetski/figures/girth_index_3d/0.8877418566595898_NL.IMBAG.Pand.0363100012168132-0.pdf done...\n"
     ]
    },
    {
     "data": {
      "application/vnd.jupyter.widget-view+json": {
       "model_id": "cd12eef640064badb300293404a01553",
       "version_major": 2,
       "version_minor": 0
      },
      "text/plain": [
       "ViewInteractiveWidget(height=2048, layout=Layout(height='auto', width='100%'), width=2048)"
      ]
     },
     "metadata": {},
     "output_type": "display_data"
    },
    {
     "name": "stdout",
     "output_type": "stream",
     "text": [
      "/home/alabetski/figures/dispersion_index_3d/0.1312676192407039_NL.IMBAG.Pand.0344100000086977-0.pdf done...\n"
     ]
    },
    {
     "data": {
      "application/vnd.jupyter.widget-view+json": {
       "model_id": "f171792ef8fe4aa6b9b7d553e67c72ee",
       "version_major": 2,
       "version_minor": 0
      },
      "text/plain": [
       "ViewInteractiveWidget(height=2048, layout=Layout(height='auto', width='100%'), width=2048)"
      ]
     },
     "metadata": {},
     "output_type": "display_data"
    },
    {
     "name": "stdout",
     "output_type": "stream",
     "text": [
      "/home/alabetski/figures/dispersion_index_3d/0.9261616401394506_NL.IMBAG.Pand.0518100000282020-0.pdf done...\n"
     ]
    },
    {
     "data": {
      "application/vnd.jupyter.widget-view+json": {
       "model_id": "ce2426de665d41d59567b1f773fc5e20",
       "version_major": 2,
       "version_minor": 0
      },
      "text/plain": [
       "ViewInteractiveWidget(height=2048, layout=Layout(height='auto', width='100%'), width=2048)"
      ]
     },
     "metadata": {},
     "output_type": "display_data"
    },
    {
     "name": "stdout",
     "output_type": "stream",
     "text": [
      "/home/alabetski/figures/dispersion_index_3d/0.1312676192407039_NL.IMBAG.Pand.0344100000086977-0.pdf done...\n"
     ]
    },
    {
     "data": {
      "application/vnd.jupyter.widget-view+json": {
       "model_id": "fe6d2474521a4efd90cb895df1c6f2e9",
       "version_major": 2,
       "version_minor": 0
      },
      "text/plain": [
       "ViewInteractiveWidget(height=2048, layout=Layout(height='auto', width='100%'), width=2048)"
      ]
     },
     "metadata": {},
     "output_type": "display_data"
    },
    {
     "name": "stdout",
     "output_type": "stream",
     "text": [
      "/home/alabetski/figures/dispersion_index_3d/0.6468516464555454_NL.IMBAG.Pand.0363100012167895-0.pdf done...\n"
     ]
    },
    {
     "data": {
      "application/vnd.jupyter.widget-view+json": {
       "model_id": "c8ce82c5b1fc405e9f5a978abfce4b60",
       "version_major": 2,
       "version_minor": 0
      },
      "text/plain": [
       "ViewInteractiveWidget(height=2048, layout=Layout(height='auto', width='100%'), width=2048)"
      ]
     },
     "metadata": {},
     "output_type": "display_data"
    },
    {
     "name": "stdout",
     "output_type": "stream",
     "text": [
      "/home/alabetski/figures/dispersion_index_3d/0.7030585540384884_NL.IMBAG.Pand.0603100000015949-0.pdf done...\n"
     ]
    },
    {
     "data": {
      "application/vnd.jupyter.widget-view+json": {
       "model_id": "5cf75b4c7a2242859d7fcc0fad6659e6",
       "version_major": 2,
       "version_minor": 0
      },
      "text/plain": [
       "ViewInteractiveWidget(height=2048, layout=Layout(height='auto', width='100%'), width=2048)"
      ]
     },
     "metadata": {},
     "output_type": "display_data"
    },
    {
     "name": "stdout",
     "output_type": "stream",
     "text": [
      "/home/alabetski/figures/dispersion_index_3d/0.7354189824137449_NL.IMBAG.Pand.0363100012160129-0.pdf done...\n"
     ]
    },
    {
     "data": {
      "application/vnd.jupyter.widget-view+json": {
       "model_id": "d1f1be0c404645eab9855645202e424b",
       "version_major": 2,
       "version_minor": 0
      },
      "text/plain": [
       "ViewInteractiveWidget(height=2048, layout=Layout(height='auto', width='100%'), width=2048)"
      ]
     },
     "metadata": {},
     "output_type": "display_data"
    },
    {
     "name": "stdout",
     "output_type": "stream",
     "text": [
      "/home/alabetski/figures/dispersion_index_3d/0.7559293540756337_NL.IMBAG.Pand.0599100000270534-0.pdf done...\n"
     ]
    },
    {
     "data": {
      "application/vnd.jupyter.widget-view+json": {
       "model_id": "0ef68bd9fefe442f9a77e45422c764a4",
       "version_major": 2,
       "version_minor": 0
      },
      "text/plain": [
       "ViewInteractiveWidget(height=2048, layout=Layout(height='auto', width='100%'), width=2048)"
      ]
     },
     "metadata": {},
     "output_type": "display_data"
    },
    {
     "name": "stdout",
     "output_type": "stream",
     "text": [
      "/home/alabetski/figures/dispersion_index_3d/0.7696214984761666_NL.IMBAG.Pand.1916100000087271-0.pdf done...\n"
     ]
    },
    {
     "data": {
      "application/vnd.jupyter.widget-view+json": {
       "model_id": "a8d33add885e4c1893c3c0ef054bebaf",
       "version_major": 2,
       "version_minor": 0
      },
      "text/plain": [
       "ViewInteractiveWidget(height=2048, layout=Layout(height='auto', width='100%'), width=2048)"
      ]
     },
     "metadata": {},
     "output_type": "display_data"
    },
    {
     "name": "stdout",
     "output_type": "stream",
     "text": [
      "/home/alabetski/figures/dispersion_index_3d/0.7802940099112708_NL.IMBAG.Pand.0599100000359086-0.pdf done...\n"
     ]
    },
    {
     "data": {
      "application/vnd.jupyter.widget-view+json": {
       "model_id": "c530b02189c6423e93c2f49a191f7872",
       "version_major": 2,
       "version_minor": 0
      },
      "text/plain": [
       "ViewInteractiveWidget(height=2048, layout=Layout(height='auto', width='100%'), width=2048)"
      ]
     },
     "metadata": {},
     "output_type": "display_data"
    },
    {
     "name": "stdout",
     "output_type": "stream",
     "text": [
      "/home/alabetski/figures/dispersion_index_3d/0.7891232203754339_NL.IMBAG.Pand.0518100000283827-0.pdf done...\n"
     ]
    },
    {
     "data": {
      "application/vnd.jupyter.widget-view+json": {
       "model_id": "6740cc3c329c4665a3ef5fb3264edfbe",
       "version_major": 2,
       "version_minor": 0
      },
      "text/plain": [
       "ViewInteractiveWidget(height=2048, layout=Layout(height='auto', width='100%'), width=2048)"
      ]
     },
     "metadata": {},
     "output_type": "display_data"
    },
    {
     "name": "stdout",
     "output_type": "stream",
     "text": [
      "/home/alabetski/figures/dispersion_index_3d/0.7969048940076077_NL.IMBAG.Pand.0363100012111034-0.pdf done...\n"
     ]
    },
    {
     "data": {
      "application/vnd.jupyter.widget-view+json": {
       "model_id": "e713cc99990041d59af08a8ae2c5e52c",
       "version_major": 2,
       "version_minor": 0
      },
      "text/plain": [
       "ViewInteractiveWidget(height=2048, layout=Layout(height='auto', width='100%'), width=2048)"
      ]
     },
     "metadata": {},
     "output_type": "display_data"
    },
    {
     "name": "stdout",
     "output_type": "stream",
     "text": [
      "/home/alabetski/figures/dispersion_index_3d/0.8041718815597741_NL.IMBAG.Pand.0599100000421857-0.pdf done...\n"
     ]
    },
    {
     "data": {
      "application/vnd.jupyter.widget-view+json": {
       "model_id": "a178f1dd7e1a4d5cb210883a4f6d0cbc",
       "version_major": 2,
       "version_minor": 0
      },
      "text/plain": [
       "ViewInteractiveWidget(height=2048, layout=Layout(height='auto', width='100%'), width=2048)"
      ]
     },
     "metadata": {},
     "output_type": "display_data"
    },
    {
     "name": "stdout",
     "output_type": "stream",
     "text": [
      "/home/alabetski/figures/dispersion_index_3d/0.8110952021003938_NL.IMBAG.Pand.0599100000620145-0.pdf done...\n"
     ]
    },
    {
     "data": {
      "application/vnd.jupyter.widget-view+json": {
       "model_id": "c4b28280f0854a2983a181f4ba6e881a",
       "version_major": 2,
       "version_minor": 0
      },
      "text/plain": [
       "ViewInteractiveWidget(height=2048, layout=Layout(height='auto', width='100%'), width=2048)"
      ]
     },
     "metadata": {},
     "output_type": "display_data"
    },
    {
     "name": "stdout",
     "output_type": "stream",
     "text": [
      "/home/alabetski/figures/dispersion_index_3d/0.817681705856904_NL.IMBAG.Pand.0363100012107703-0.pdf done...\n"
     ]
    },
    {
     "data": {
      "application/vnd.jupyter.widget-view+json": {
       "model_id": "02e4a3ddc6394cd2a7f7ab892385f0f7",
       "version_major": 2,
       "version_minor": 0
      },
      "text/plain": [
       "ViewInteractiveWidget(height=2048, layout=Layout(height='auto', width='100%'), width=2048)"
      ]
     },
     "metadata": {},
     "output_type": "display_data"
    },
    {
     "name": "stdout",
     "output_type": "stream",
     "text": [
      "/home/alabetski/figures/dispersion_index_3d/0.8240316616125467_NL.IMBAG.Pand.0489100000206445-0.pdf done...\n"
     ]
    },
    {
     "data": {
      "application/vnd.jupyter.widget-view+json": {
       "model_id": "96a573bae01c4d34b7b49f73c4bf2b6b",
       "version_major": 2,
       "version_minor": 0
      },
      "text/plain": [
       "ViewInteractiveWidget(height=2048, layout=Layout(height='auto', width='100%'), width=2048)"
      ]
     },
     "metadata": {},
     "output_type": "display_data"
    },
    {
     "name": "stdout",
     "output_type": "stream",
     "text": [
      "/home/alabetski/figures/dispersion_index_3d/0.8303374514190949_NL.IMBAG.Pand.0518100000341565-0.pdf done...\n"
     ]
    },
    {
     "data": {
      "application/vnd.jupyter.widget-view+json": {
       "model_id": "638e87be721b43c7b032106129a3fc11",
       "version_major": 2,
       "version_minor": 0
      },
      "text/plain": [
       "ViewInteractiveWidget(height=2048, layout=Layout(height='auto', width='100%'), width=2048)"
      ]
     },
     "metadata": {},
     "output_type": "display_data"
    },
    {
     "name": "stdout",
     "output_type": "stream",
     "text": [
      "/home/alabetski/figures/dispersion_index_3d/0.8367670375151208_NL.IMBAG.Pand.0437100000005719-0.pdf done...\n"
     ]
    },
    {
     "data": {
      "application/vnd.jupyter.widget-view+json": {
       "model_id": "ecb56e183b6e4a0aa004ddbf56dc529a",
       "version_major": 2,
       "version_minor": 0
      },
      "text/plain": [
       "ViewInteractiveWidget(height=2048, layout=Layout(height='auto', width='100%'), width=2048)"
      ]
     },
     "metadata": {},
     "output_type": "display_data"
    },
    {
     "name": "stdout",
     "output_type": "stream",
     "text": [
      "/home/alabetski/figures/dispersion_index_3d/0.8432826893349666_NL.IMBAG.Pand.0363100012068082-0.pdf done...\n"
     ]
    },
    {
     "data": {
      "application/vnd.jupyter.widget-view+json": {
       "model_id": "6addc86d1159441fafd135a023ec839f",
       "version_major": 2,
       "version_minor": 0
      },
      "text/plain": [
       "ViewInteractiveWidget(height=2048, layout=Layout(height='auto', width='100%'), width=2048)"
      ]
     },
     "metadata": {},
     "output_type": "display_data"
    },
    {
     "name": "stdout",
     "output_type": "stream",
     "text": [
      "/home/alabetski/figures/dispersion_index_3d/0.8498510799072672_NL.IMBAG.Pand.0599100000258433-0.pdf done...\n"
     ]
    },
    {
     "data": {
      "application/vnd.jupyter.widget-view+json": {
       "model_id": "cbe178fd49b24f668baf53464ff83a55",
       "version_major": 2,
       "version_minor": 0
      },
      "text/plain": [
       "ViewInteractiveWidget(height=2048, layout=Layout(height='auto', width='100%'), width=2048)"
      ]
     },
     "metadata": {},
     "output_type": "display_data"
    },
    {
     "name": "stdout",
     "output_type": "stream",
     "text": [
      "/home/alabetski/figures/dispersion_index_3d/0.8567798768952805_NL.IMBAG.Pand.0363100012148254-0.pdf done...\n"
     ]
    },
    {
     "data": {
      "application/vnd.jupyter.widget-view+json": {
       "model_id": "62b467c641714461a56e04c4c33ffe5b",
       "version_major": 2,
       "version_minor": 0
      },
      "text/plain": [
       "ViewInteractiveWidget(height=2048, layout=Layout(height='auto', width='100%'), width=2048)"
      ]
     },
     "metadata": {},
     "output_type": "display_data"
    },
    {
     "name": "stdout",
     "output_type": "stream",
     "text": [
      "/home/alabetski/figures/dispersion_index_3d/0.8651431515309811_NL.IMBAG.Pand.0599100000306693-0.pdf done...\n"
     ]
    },
    {
     "data": {
      "application/vnd.jupyter.widget-view+json": {
       "model_id": "94f51dc85b3b4ecc898274a326f05fcb",
       "version_major": 2,
       "version_minor": 0
      },
      "text/plain": [
       "ViewInteractiveWidget(height=2048, layout=Layout(height='auto', width='100%'), width=2048)"
      ]
     },
     "metadata": {},
     "output_type": "display_data"
    },
    {
     "name": "stdout",
     "output_type": "stream",
     "text": [
      "/home/alabetski/figures/dispersion_index_3d/0.8755749736356029_NL.IMBAG.Pand.0629100000001955-0.pdf done...\n"
     ]
    },
    {
     "data": {
      "application/vnd.jupyter.widget-view+json": {
       "model_id": "f925cb10814d4d9ba3f4c63cd66e181f",
       "version_major": 2,
       "version_minor": 0
      },
      "text/plain": [
       "ViewInteractiveWidget(height=2048, layout=Layout(height='auto', width='100%'), width=2048)"
      ]
     },
     "metadata": {},
     "output_type": "display_data"
    },
    {
     "name": "stdout",
     "output_type": "stream",
     "text": [
      "/home/alabetski/figures/dispersion_index_3d/0.9261616401394506_NL.IMBAG.Pand.0518100000282020-0.pdf done...\n"
     ]
    },
    {
     "data": {
      "application/vnd.jupyter.widget-view+json": {
       "model_id": "de26b2bd14c44542914744f3eb444473",
       "version_major": 2,
       "version_minor": 0
      },
      "text/plain": [
       "ViewInteractiveWidget(height=2048, layout=Layout(height='auto', width='100%'), width=2048)"
      ]
     },
     "metadata": {},
     "output_type": "display_data"
    },
    {
     "name": "stdout",
     "output_type": "stream",
     "text": [
      "/home/alabetski/figures/range_index_3d/9.610406060751314e-05_NL.IMBAG.Pand.0363100012115799-0.pdf done...\n"
     ]
    },
    {
     "data": {
      "application/vnd.jupyter.widget-view+json": {
       "model_id": "83d60e0739694edfa637a18a50041c64",
       "version_major": 2,
       "version_minor": 0
      },
      "text/plain": [
       "ViewInteractiveWidget(height=2048, layout=Layout(height='auto', width='100%'), width=2048)"
      ]
     },
     "metadata": {},
     "output_type": "display_data"
    },
    {
     "name": "stdout",
     "output_type": "stream",
     "text": [
      "/home/alabetski/figures/range_index_3d/0.8437485432256471_NL.IMBAG.Pand.0363100012217366-0.pdf done...\n"
     ]
    },
    {
     "data": {
      "application/vnd.jupyter.widget-view+json": {
       "model_id": "fe3f75b410344077ad22ed9c89b9989f",
       "version_major": 2,
       "version_minor": 0
      },
      "text/plain": [
       "ViewInteractiveWidget(height=2048, layout=Layout(height='auto', width='100%'), width=2048)"
      ]
     },
     "metadata": {},
     "output_type": "display_data"
    },
    {
     "name": "stdout",
     "output_type": "stream",
     "text": [
      "/home/alabetski/figures/range_index_3d/-1.0_NL.IMBAG.Pand.0518100000234082-0.pdf done...\n"
     ]
    },
    {
     "data": {
      "application/vnd.jupyter.widget-view+json": {
       "model_id": "47afeef8ba4a4fa7ad96e848ca61aa6e",
       "version_major": 2,
       "version_minor": 0
      },
      "text/plain": [
       "ViewInteractiveWidget(height=2048, layout=Layout(height='auto', width='100%'), width=2048)"
      ]
     },
     "metadata": {},
     "output_type": "display_data"
    },
    {
     "name": "stdout",
     "output_type": "stream",
     "text": [
      "/home/alabetski/figures/range_index_3d/0.4636853935299498_NL.IMBAG.Pand.0437100000005862-0.pdf done...\n"
     ]
    },
    {
     "data": {
      "application/vnd.jupyter.widget-view+json": {
       "model_id": "e12f52a7760f4b43987aa6fb5c881717",
       "version_major": 2,
       "version_minor": 0
      },
      "text/plain": [
       "ViewInteractiveWidget(height=2048, layout=Layout(height='auto', width='100%'), width=2048)"
      ]
     },
     "metadata": {},
     "output_type": "display_data"
    },
    {
     "name": "stdout",
     "output_type": "stream",
     "text": [
      "/home/alabetski/figures/range_index_3d/0.5155964548823202_NL.IMBAG.Pand.0305100000003161-0.pdf done...\n"
     ]
    },
    {
     "data": {
      "application/vnd.jupyter.widget-view+json": {
       "model_id": "346b762b11ea49a7a9e6dbcac9def5ad",
       "version_major": 2,
       "version_minor": 0
      },
      "text/plain": [
       "ViewInteractiveWidget(height=2048, layout=Layout(height='auto', width='100%'), width=2048)"
      ]
     },
     "metadata": {},
     "output_type": "display_data"
    },
    {
     "name": "stdout",
     "output_type": "stream",
     "text": [
      "/home/alabetski/figures/range_index_3d/0.5479140309159_NL.IMBAG.Pand.0599100015002095-0.pdf done...\n"
     ]
    },
    {
     "data": {
      "application/vnd.jupyter.widget-view+json": {
       "model_id": "07113b1fa3144c31b1d1649224632045",
       "version_major": 2,
       "version_minor": 0
      },
      "text/plain": [
       "ViewInteractiveWidget(height=2048, layout=Layout(height='auto', width='100%'), width=2048)"
      ]
     },
     "metadata": {},
     "output_type": "display_data"
    },
    {
     "name": "stdout",
     "output_type": "stream",
     "text": [
      "/home/alabetski/figures/range_index_3d/0.5707004304679048_NL.IMBAG.Pand.0518100000334651-0.pdf done...\n"
     ]
    },
    {
     "data": {
      "application/vnd.jupyter.widget-view+json": {
       "model_id": "428696b8a8fb476a80549fb87e713a63",
       "version_major": 2,
       "version_minor": 0
      },
      "text/plain": [
       "ViewInteractiveWidget(height=2048, layout=Layout(height='auto', width='100%'), width=2048)"
      ]
     },
     "metadata": {},
     "output_type": "display_data"
    },
    {
     "name": "stdout",
     "output_type": "stream",
     "text": [
      "/home/alabetski/figures/range_index_3d/0.5871003529352086_NL.IMBAG.Pand.1926100000487080-0.pdf done...\n"
     ]
    },
    {
     "data": {
      "application/vnd.jupyter.widget-view+json": {
       "model_id": "f36133a69e074cf6b31b91135b5603fe",
       "version_major": 2,
       "version_minor": 0
      },
      "text/plain": [
       "ViewInteractiveWidget(height=2048, layout=Layout(height='auto', width='100%'), width=2048)"
      ]
     },
     "metadata": {},
     "output_type": "display_data"
    },
    {
     "name": "stdout",
     "output_type": "stream",
     "text": [
      "/home/alabetski/figures/range_index_3d/0.599870187713044_NL.IMBAG.Pand.0518100001640461-0.pdf done...\n"
     ]
    },
    {
     "data": {
      "application/vnd.jupyter.widget-view+json": {
       "model_id": "75ed8c267ac34f648bbe3923f10e5f97",
       "version_major": 2,
       "version_minor": 0
      },
      "text/plain": [
       "ViewInteractiveWidget(height=2048, layout=Layout(height='auto', width='100%'), width=2048)"
      ]
     },
     "metadata": {},
     "output_type": "display_data"
    },
    {
     "name": "stdout",
     "output_type": "stream",
     "text": [
      "/home/alabetski/figures/range_index_3d/0.6107095774082008_NL.IMBAG.Pand.0363100012134577-0.pdf done...\n"
     ]
    },
    {
     "data": {
      "application/vnd.jupyter.widget-view+json": {
       "model_id": "dc7e6d213cb941bc917c2fe2b65687ef",
       "version_major": 2,
       "version_minor": 0
      },
      "text/plain": [
       "ViewInteractiveWidget(height=2048, layout=Layout(height='auto', width='100%'), width=2048)"
      ]
     },
     "metadata": {},
     "output_type": "display_data"
    },
    {
     "name": "stdout",
     "output_type": "stream",
     "text": [
      "/home/alabetski/figures/range_index_3d/0.6199929101996148_NL.IMBAG.Pand.0363100012158603-0.pdf done...\n"
     ]
    },
    {
     "data": {
      "application/vnd.jupyter.widget-view+json": {
       "model_id": "16cde9f12ed44f7191265d960ba139c5",
       "version_major": 2,
       "version_minor": 0
      },
      "text/plain": [
       "ViewInteractiveWidget(height=2048, layout=Layout(height='auto', width='100%'), width=2048)"
      ]
     },
     "metadata": {},
     "output_type": "display_data"
    },
    {
     "name": "stdout",
     "output_type": "stream",
     "text": [
      "/home/alabetski/figures/range_index_3d/0.6283912444237709_NL.IMBAG.Pand.0344100000003567-0.pdf done...\n"
     ]
    },
    {
     "data": {
      "application/vnd.jupyter.widget-view+json": {
       "model_id": "e18b3953dfe4480a9f59ca3bb71fd705",
       "version_major": 2,
       "version_minor": 0
      },
      "text/plain": [
       "ViewInteractiveWidget(height=2048, layout=Layout(height='auto', width='100%'), width=2048)"
      ]
     },
     "metadata": {},
     "output_type": "display_data"
    },
    {
     "name": "stdout",
     "output_type": "stream",
     "text": [
      "/home/alabetski/figures/range_index_3d/0.6364430564300457_NL.IMBAG.Pand.0310100000679957-0.pdf done...\n"
     ]
    },
    {
     "data": {
      "application/vnd.jupyter.widget-view+json": {
       "model_id": "3ec994a04c4b4b61baa1288952f2c94b",
       "version_major": 2,
       "version_minor": 0
      },
      "text/plain": [
       "ViewInteractiveWidget(height=2048, layout=Layout(height='auto', width='100%'), width=2048)"
      ]
     },
     "metadata": {},
     "output_type": "display_data"
    },
    {
     "name": "stdout",
     "output_type": "stream",
     "text": [
      "/home/alabetski/figures/range_index_3d/0.6443928197071624_NL.IMBAG.Pand.0518100000275996-0.pdf done...\n"
     ]
    },
    {
     "data": {
      "application/vnd.jupyter.widget-view+json": {
       "model_id": "fb69812e6f5646d4b62aee2c818600e5",
       "version_major": 2,
       "version_minor": 0
      },
      "text/plain": [
       "ViewInteractiveWidget(height=2048, layout=Layout(height='auto', width='100%'), width=2048)"
      ]
     },
     "metadata": {},
     "output_type": "display_data"
    },
    {
     "name": "stdout",
     "output_type": "stream",
     "text": [
      "/home/alabetski/figures/range_index_3d/0.6522686485882078_NL.IMBAG.Pand.0599100000261056-0.pdf done...\n"
     ]
    },
    {
     "data": {
      "application/vnd.jupyter.widget-view+json": {
       "model_id": "5a9e5ceb4b1d441ea70a4a9cda9178ef",
       "version_major": 2,
       "version_minor": 0
      },
      "text/plain": [
       "ViewInteractiveWidget(height=2048, layout=Layout(height='auto', width='100%'), width=2048)"
      ]
     },
     "metadata": {},
     "output_type": "display_data"
    },
    {
     "name": "stdout",
     "output_type": "stream",
     "text": [
      "/home/alabetski/figures/range_index_3d/0.6598498791839392_NL.IMBAG.Pand.0344100000016264-0.pdf done...\n"
     ]
    },
    {
     "data": {
      "application/vnd.jupyter.widget-view+json": {
       "model_id": "86c1aee2f57042439970453f173e29d4",
       "version_major": 2,
       "version_minor": 0
      },
      "text/plain": [
       "ViewInteractiveWidget(height=2048, layout=Layout(height='auto', width='100%'), width=2048)"
      ]
     },
     "metadata": {},
     "output_type": "display_data"
    },
    {
     "name": "stdout",
     "output_type": "stream",
     "text": [
      "/home/alabetski/figures/range_index_3d/0.6674443009619381_NL.IMBAG.Pand.0599100000312653-0.pdf done...\n"
     ]
    },
    {
     "data": {
      "application/vnd.jupyter.widget-view+json": {
       "model_id": "217c0cb48d13405d8785c45d64d3c051",
       "version_major": 2,
       "version_minor": 0
      },
      "text/plain": [
       "ViewInteractiveWidget(height=2048, layout=Layout(height='auto', width='100%'), width=2048)"
      ]
     },
     "metadata": {},
     "output_type": "display_data"
    },
    {
     "name": "stdout",
     "output_type": "stream",
     "text": [
      "/home/alabetski/figures/range_index_3d/0.675442651419195_NL.IMBAG.Pand.0599100000414629-0.pdf done...\n"
     ]
    },
    {
     "data": {
      "application/vnd.jupyter.widget-view+json": {
       "model_id": "6f11767d4804411ea36a5a2b11e7f2f9",
       "version_major": 2,
       "version_minor": 0
      },
      "text/plain": [
       "ViewInteractiveWidget(height=2048, layout=Layout(height='auto', width='100%'), width=2048)"
      ]
     },
     "metadata": {},
     "output_type": "display_data"
    },
    {
     "name": "stdout",
     "output_type": "stream",
     "text": [
      "/home/alabetski/figures/range_index_3d/0.6837686457370538_NL.IMBAG.Pand.0363100012115224-0.pdf done...\n"
     ]
    },
    {
     "data": {
      "application/vnd.jupyter.widget-view+json": {
       "model_id": "a15abfdab4ca47c1b866fee7b9c26ee8",
       "version_major": 2,
       "version_minor": 0
      },
      "text/plain": [
       "ViewInteractiveWidget(height=2048, layout=Layout(height='auto', width='100%'), width=2048)"
      ]
     },
     "metadata": {},
     "output_type": "display_data"
    },
    {
     "name": "stdout",
     "output_type": "stream",
     "text": [
      "/home/alabetski/figures/range_index_3d/0.6928720829826711_NL.IMBAG.Pand.0363100012147676-0.pdf done...\n"
     ]
    },
    {
     "data": {
      "application/vnd.jupyter.widget-view+json": {
       "model_id": "dfe4c2fba8b3496486a56d4fc7493623",
       "version_major": 2,
       "version_minor": 0
      },
      "text/plain": [
       "ViewInteractiveWidget(height=2048, layout=Layout(height='auto', width='100%'), width=2048)"
      ]
     },
     "metadata": {},
     "output_type": "display_data"
    },
    {
     "name": "stdout",
     "output_type": "stream",
     "text": [
      "/home/alabetski/figures/range_index_3d/0.7020895949945029_NL.IMBAG.Pand.0518100000275970-0.pdf done...\n"
     ]
    },
    {
     "data": {
      "application/vnd.jupyter.widget-view+json": {
       "model_id": "909a6947ce0941a39ffb8c8ae8395141",
       "version_major": 2,
       "version_minor": 0
      },
      "text/plain": [
       "ViewInteractiveWidget(height=2048, layout=Layout(height='auto', width='100%'), width=2048)"
      ]
     },
     "metadata": {},
     "output_type": "display_data"
    },
    {
     "name": "stdout",
     "output_type": "stream",
     "text": [
      "/home/alabetski/figures/range_index_3d/0.7132871775026098_NL.IMBAG.Pand.0599100015001955-0.pdf done...\n"
     ]
    },
    {
     "data": {
      "application/vnd.jupyter.widget-view+json": {
       "model_id": "01fd853d3d884b70946b316a630d1cd4",
       "version_major": 2,
       "version_minor": 0
      },
      "text/plain": [
       "ViewInteractiveWidget(height=2048, layout=Layout(height='auto', width='100%'), width=2048)"
      ]
     },
     "metadata": {},
     "output_type": "display_data"
    },
    {
     "name": "stdout",
     "output_type": "stream",
     "text": [
      "/home/alabetski/figures/range_index_3d/0.8437485432256471_NL.IMBAG.Pand.0363100012217366-0.pdf done...\n"
     ]
    },
    {
     "data": {
      "application/vnd.jupyter.widget-view+json": {
       "model_id": "84b1a58d6bac4888a5d08f6a099e0c96",
       "version_major": 2,
       "version_minor": 0
      },
      "text/plain": [
       "ViewInteractiveWidget(height=2048, layout=Layout(height='auto', width='100%'), width=2048)"
      ]
     },
     "metadata": {},
     "output_type": "display_data"
    },
    {
     "name": "stdout",
     "output_type": "stream",
     "text": [
      "/home/alabetski/figures/roughness_index_3d/0.3897243110806751_NL.IMBAG.Pand.0363100012176781-0.pdf done...\n"
     ]
    },
    {
     "data": {
      "application/vnd.jupyter.widget-view+json": {
       "model_id": "9ae852667c2d481a811fb37f17b62880",
       "version_major": 2,
       "version_minor": 0
      },
      "text/plain": [
       "ViewInteractiveWidget(height=2048, layout=Layout(height='auto', width='100%'), width=2048)"
      ]
     },
     "metadata": {},
     "output_type": "display_data"
    },
    {
     "name": "stdout",
     "output_type": "stream",
     "text": [
      "/home/alabetski/figures/roughness_index_3d/1.00000079447456_NL.IMBAG.Pand.0344100000052329-0.pdf done...\n"
     ]
    },
    {
     "data": {
      "application/vnd.jupyter.widget-view+json": {
       "model_id": "7ec0386b0c6546049d9eed46d386d1f2",
       "version_major": 2,
       "version_minor": 0
      },
      "text/plain": [
       "ViewInteractiveWidget(height=2048, layout=Layout(height='auto', width='100%'), width=2048)"
      ]
     },
     "metadata": {},
     "output_type": "display_data"
    },
    {
     "name": "stdout",
     "output_type": "stream",
     "text": [
      "/home/alabetski/figures/roughness_index_3d/0.3897243110806751_NL.IMBAG.Pand.0363100012176781-0.pdf done...\n"
     ]
    },
    {
     "data": {
      "application/vnd.jupyter.widget-view+json": {
       "model_id": "48c97aa86dca41788a8be044176996f7",
       "version_major": 2,
       "version_minor": 0
      },
      "text/plain": [
       "ViewInteractiveWidget(height=2048, layout=Layout(height='auto', width='100%'), width=2048)"
      ]
     },
     "metadata": {},
     "output_type": "display_data"
    },
    {
     "name": "stdout",
     "output_type": "stream",
     "text": [
      "/home/alabetski/figures/roughness_index_3d/0.7576075129165305_NL.IMBAG.Pand.0356100000064247-0.pdf done...\n"
     ]
    },
    {
     "data": {
      "application/vnd.jupyter.widget-view+json": {
       "model_id": "a6f8296a589244e9a46864813515c0d8",
       "version_major": 2,
       "version_minor": 0
      },
      "text/plain": [
       "ViewInteractiveWidget(height=2048, layout=Layout(height='auto', width='100%'), width=2048)"
      ]
     },
     "metadata": {},
     "output_type": "display_data"
    },
    {
     "name": "stdout",
     "output_type": "stream",
     "text": [
      "/home/alabetski/figures/roughness_index_3d/0.7877280458164057_NL.IMBAG.Pand.0363100012132822-0.pdf done...\n"
     ]
    },
    {
     "data": {
      "application/vnd.jupyter.widget-view+json": {
       "model_id": "0029d7e55a214a05878b204b274cb0af",
       "version_major": 2,
       "version_minor": 0
      },
      "text/plain": [
       "ViewInteractiveWidget(height=2048, layout=Layout(height='auto', width='100%'), width=2048)"
      ]
     },
     "metadata": {},
     "output_type": "display_data"
    },
    {
     "name": "stdout",
     "output_type": "stream",
     "text": [
      "/home/alabetski/figures/roughness_index_3d/0.8074348391800775_NL.IMBAG.Pand.0363100012098815-0.pdf done...\n"
     ]
    },
    {
     "data": {
      "application/vnd.jupyter.widget-view+json": {
       "model_id": "354b1ffd7436488f952559321513594f",
       "version_major": 2,
       "version_minor": 0
      },
      "text/plain": [
       "ViewInteractiveWidget(height=2048, layout=Layout(height='auto', width='100%'), width=2048)"
      ]
     },
     "metadata": {},
     "output_type": "display_data"
    },
    {
     "name": "stdout",
     "output_type": "stream",
     "text": [
      "/home/alabetski/figures/roughness_index_3d/0.8212834651126677_NL.IMBAG.Pand.0344100000023329-0.pdf done...\n"
     ]
    },
    {
     "data": {
      "application/vnd.jupyter.widget-view+json": {
       "model_id": "1067bbd5d07d4774a5af9953d3056b4c",
       "version_major": 2,
       "version_minor": 0
      },
      "text/plain": [
       "ViewInteractiveWidget(height=2048, layout=Layout(height='auto', width='100%'), width=2048)"
      ]
     },
     "metadata": {},
     "output_type": "display_data"
    },
    {
     "name": "stdout",
     "output_type": "stream",
     "text": [
      "/home/alabetski/figures/roughness_index_3d/0.8319765700166811_NL.IMBAG.Pand.0363100012130304-0.pdf done...\n"
     ]
    },
    {
     "data": {
      "application/vnd.jupyter.widget-view+json": {
       "model_id": "a5fee3a496af48848aa38a2901f7b4d2",
       "version_major": 2,
       "version_minor": 0
      },
      "text/plain": [
       "ViewInteractiveWidget(height=2048, layout=Layout(height='auto', width='100%'), width=2048)"
      ]
     },
     "metadata": {},
     "output_type": "display_data"
    },
    {
     "name": "stdout",
     "output_type": "stream",
     "text": [
      "/home/alabetski/figures/roughness_index_3d/0.8407863784399248_NL.IMBAG.Pand.0363100012144600-0.pdf done...\n"
     ]
    },
    {
     "data": {
      "application/vnd.jupyter.widget-view+json": {
       "model_id": "69eff1ebac764f8f92324e6ecdaea072",
       "version_major": 2,
       "version_minor": 0
      },
      "text/plain": [
       "ViewInteractiveWidget(height=2048, layout=Layout(height='auto', width='100%'), width=2048)"
      ]
     },
     "metadata": {},
     "output_type": "display_data"
    },
    {
     "name": "stdout",
     "output_type": "stream",
     "text": [
      "/home/alabetski/figures/roughness_index_3d/0.8486303949728594_NL.IMBAG.Pand.0518100000324722-0.pdf done...\n"
     ]
    },
    {
     "data": {
      "application/vnd.jupyter.widget-view+json": {
       "model_id": "cd0c473d19fc49d5b5513e9902dfda9c",
       "version_major": 2,
       "version_minor": 0
      },
      "text/plain": [
       "ViewInteractiveWidget(height=2048, layout=Layout(height='auto', width='100%'), width=2048)"
      ]
     },
     "metadata": {},
     "output_type": "display_data"
    },
    {
     "name": "stdout",
     "output_type": "stream",
     "text": [
      "/home/alabetski/figures/roughness_index_3d/0.8556513700984851_NL.IMBAG.Pand.1783100000002582-0.pdf done...\n"
     ]
    },
    {
     "data": {
      "application/vnd.jupyter.widget-view+json": {
       "model_id": "0badf9bb8d7c40b8a61409ae05b4b6d3",
       "version_major": 2,
       "version_minor": 0
      },
      "text/plain": [
       "ViewInteractiveWidget(height=2048, layout=Layout(height='auto', width='100%'), width=2048)"
      ]
     },
     "metadata": {},
     "output_type": "display_data"
    },
    {
     "name": "stdout",
     "output_type": "stream",
     "text": [
      "/home/alabetski/figures/roughness_index_3d/0.8620640305502663_NL.IMBAG.Pand.0599100000194103-0.pdf done...\n"
     ]
    },
    {
     "data": {
      "application/vnd.jupyter.widget-view+json": {
       "model_id": "2a63a372d2f14b56add88327b6667235",
       "version_major": 2,
       "version_minor": 0
      },
      "text/plain": [
       "ViewInteractiveWidget(height=2048, layout=Layout(height='auto', width='100%'), width=2048)"
      ]
     },
     "metadata": {},
     "output_type": "display_data"
    },
    {
     "name": "stdout",
     "output_type": "stream",
     "text": [
      "/home/alabetski/figures/roughness_index_3d/0.868017364601908_NL.IMBAG.Pand.0310100000680038-0.pdf done...\n"
     ]
    },
    {
     "data": {
      "application/vnd.jupyter.widget-view+json": {
       "model_id": "cc479488e1dc497880bc4fe9479d5107",
       "version_major": 2,
       "version_minor": 0
      },
      "text/plain": [
       "ViewInteractiveWidget(height=2048, layout=Layout(height='auto', width='100%'), width=2048)"
      ]
     },
     "metadata": {},
     "output_type": "display_data"
    },
    {
     "name": "stdout",
     "output_type": "stream",
     "text": [
      "/home/alabetski/figures/roughness_index_3d/0.874021725785394_NL.IMBAG.Pand.0344100000006373-0.pdf done...\n"
     ]
    },
    {
     "data": {
      "application/vnd.jupyter.widget-view+json": {
       "model_id": "a633f9cb01a74acf93769b33eeb2f607",
       "version_major": 2,
       "version_minor": 0
      },
      "text/plain": [
       "ViewInteractiveWidget(height=2048, layout=Layout(height='auto', width='100%'), width=2048)"
      ]
     },
     "metadata": {},
     "output_type": "display_data"
    },
    {
     "name": "stdout",
     "output_type": "stream",
     "text": [
      "/home/alabetski/figures/roughness_index_3d/0.8806364428716218_NL.IMBAG.Pand.0363100012079802-0.pdf done...\n"
     ]
    },
    {
     "data": {
      "application/vnd.jupyter.widget-view+json": {
       "model_id": "9131cecc3aa94ae3bf580f24d093ad2c",
       "version_major": 2,
       "version_minor": 0
      },
      "text/plain": [
       "ViewInteractiveWidget(height=2048, layout=Layout(height='auto', width='100%'), width=2048)"
      ]
     },
     "metadata": {},
     "output_type": "display_data"
    },
    {
     "name": "stdout",
     "output_type": "stream",
     "text": [
      "/home/alabetski/figures/roughness_index_3d/0.8887960895612834_NL.IMBAG.Pand.0344100000068337-0.pdf done...\n"
     ]
    },
    {
     "data": {
      "application/vnd.jupyter.widget-view+json": {
       "model_id": "cf893003e67741808bd62a50cc875f52",
       "version_major": 2,
       "version_minor": 0
      },
      "text/plain": [
       "ViewInteractiveWidget(height=2048, layout=Layout(height='auto', width='100%'), width=2048)"
      ]
     },
     "metadata": {},
     "output_type": "display_data"
    },
    {
     "name": "stdout",
     "output_type": "stream",
     "text": [
      "/home/alabetski/figures/roughness_index_3d/0.8995388533016941_NL.IMBAG.Pand.0394100000220503-0.pdf done...\n"
     ]
    },
    {
     "data": {
      "application/vnd.jupyter.widget-view+json": {
       "model_id": "e7a385dfd9e5487bb55fdcce0e755cbd",
       "version_major": 2,
       "version_minor": 0
      },
      "text/plain": [
       "ViewInteractiveWidget(height=2048, layout=Layout(height='auto', width='100%'), width=2048)"
      ]
     },
     "metadata": {},
     "output_type": "display_data"
    },
    {
     "name": "stdout",
     "output_type": "stream",
     "text": [
      "/home/alabetski/figures/roughness_index_3d/0.9140437762991868_NL.IMBAG.Pand.0344100000154443-0.pdf done...\n"
     ]
    },
    {
     "data": {
      "application/vnd.jupyter.widget-view+json": {
       "model_id": "d7b4477601cb4780b078c42c8744bc3c",
       "version_major": 2,
       "version_minor": 0
      },
      "text/plain": [
       "ViewInteractiveWidget(height=2048, layout=Layout(height='auto', width='100%'), width=2048)"
      ]
     },
     "metadata": {},
     "output_type": "display_data"
    },
    {
     "name": "stdout",
     "output_type": "stream",
     "text": [
      "/home/alabetski/figures/roughness_index_3d/0.9337223602614512_NL.IMBAG.Pand.0599100100009205-0.pdf done...\n"
     ]
    },
    {
     "data": {
      "application/vnd.jupyter.widget-view+json": {
       "model_id": "88d5e546db704de888f6c7af290c25f1",
       "version_major": 2,
       "version_minor": 0
      },
      "text/plain": [
       "ViewInteractiveWidget(height=2048, layout=Layout(height='auto', width='100%'), width=2048)"
      ]
     },
     "metadata": {},
     "output_type": "display_data"
    },
    {
     "name": "stdout",
     "output_type": "stream",
     "text": [
      "/home/alabetski/figures/roughness_index_3d/0.9610852936425976_NL.IMBAG.Pand.0363100012088421-0.pdf done...\n"
     ]
    },
    {
     "data": {
      "application/vnd.jupyter.widget-view+json": {
       "model_id": "4a7211d4c5f7437da9af6f3e752247b4",
       "version_major": 2,
       "version_minor": 0
      },
      "text/plain": [
       "ViewInteractiveWidget(height=2048, layout=Layout(height='auto', width='100%'), width=2048)"
      ]
     },
     "metadata": {},
     "output_type": "display_data"
    },
    {
     "name": "stdout",
     "output_type": "stream",
     "text": [
      "/home/alabetski/figures/roughness_index_3d/1.010698889000142_NL.IMBAG.Pand.0599100010002607-0.pdf done...\n"
     ]
    },
    {
     "data": {
      "application/vnd.jupyter.widget-view+json": {
       "model_id": "2f8275dd309241a3a263e93b3a8f2957",
       "version_major": 2,
       "version_minor": 0
      },
      "text/plain": [
       "ViewInteractiveWidget(height=2048, layout=Layout(height='auto', width='100%'), width=2048)"
      ]
     },
     "metadata": {},
     "output_type": "display_data"
    },
    {
     "name": "stdout",
     "output_type": "stream",
     "text": [
      "/home/alabetski/figures/roughness_index_3d/1.1311893570347975_NL.IMBAG.Pand.1892100001079833-0.pdf done...\n"
     ]
    },
    {
     "data": {
      "application/vnd.jupyter.widget-view+json": {
       "model_id": "8f2e6d8d2fbe4ca3872dcaeb6b2999e4",
       "version_major": 2,
       "version_minor": 0
      },
      "text/plain": [
       "ViewInteractiveWidget(height=2048, layout=Layout(height='auto', width='100%'), width=2048)"
      ]
     },
     "metadata": {},
     "output_type": "display_data"
    },
    {
     "name": "stdout",
     "output_type": "stream",
     "text": [
      "/home/alabetski/figures/roughness_index_3d/61.25603908891532_NL.IMBAG.Pand.0344100000086977-0.pdf done...\n"
     ]
    }
   ],
   "source": [
    "import os\n",
    "\n",
    "def get_bag_id(attribute, value):\n",
    "    return buildings[attribute].sub(value).abs().idxmin()\n",
    "\n",
    "buildings = clean[clean[\"ground_area\"] > 20]\n",
    "root_path = \"/home/alabetski/figures\"\n",
    "\n",
    "for attribute in clean.columns:\n",
    "    if attribute.endswith(\"_3d\"):\n",
    "        path = f\"{root_path}/{attribute}\"\n",
    "        if not os.path.exists(path):\n",
    "            os.mkdir(path)\n",
    "        cols = [attribute, \"tile_id\", \"ground_area\"]\n",
    "        \n",
    "        for val in [0, 1] + [buildings[attribute].quantile(v) for v in np.arange(0, 1.01, 0.05)]:\n",
    "            bag_id = get_bag_id(attribute, val)\n",
    "            tile_id = buildings.loc[bag_id][\"tile_id\"]\n",
    "\n",
    "            geom, mesh, verts = get_mesh(bag_id, tile_id)\n",
    "\n",
    "            fig_name = f\"{buildings.loc[bag_id][attribute]}_{bag_id}.pdf\"\n",
    "            fig_path = f\"{path}/{fig_name}\"\n",
    "            plot(geom, mesh, fig_path, verts)\n",
    "            print(f\"{fig_path} done...\")"
   ]
  },
  {
   "cell_type": "code",
   "execution_count": 7,
   "id": "69f20d18",
   "metadata": {},
   "outputs": [
    {
     "data": {
      "text/plain": [
       "array([0.  , 0.25, 0.5 , 0.75, 1.  ])"
      ]
     },
     "execution_count": 7,
     "metadata": {},
     "output_type": "execute_result"
    }
   ],
   "source": [
    "np.arange(0, 1.1, 0.25)"
   ]
  }
 ],
 "metadata": {
  "kernelspec": {
   "display_name": "Python 3 (ipykernel)",
   "language": "python",
   "name": "python3"
  },
  "language_info": {
   "codemirror_mode": {
    "name": "ipython",
    "version": 3
   },
   "file_extension": ".py",
   "mimetype": "text/x-python",
   "name": "python",
   "nbconvert_exporter": "python",
   "pygments_lexer": "ipython3",
   "version": "3.8.10"
  }
 },
 "nbformat": 4,
 "nbformat_minor": 5
}
