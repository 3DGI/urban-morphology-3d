{
 "cells": [
  {
   "cell_type": "code",
   "execution_count": 1,
   "id": "ac5dd1cb",
   "metadata": {},
   "outputs": [],
   "source": [
    "import click\n",
    "import json\n",
    "import numpy as np\n",
    "import pyvista as pv\n",
    "import scipy.spatial as ss\n",
    "from pymeshfix import MeshFix\n",
    "import pandas as pd\n",
    "import math\n",
    "import matplotlib.pyplot as plt\n",
    "from tqdm import tqdm\n",
    "from shapely.geometry import MultiPolygon, Polygon\n",
    "import mapbox_earcut as earcut"
   ]
  },
  {
   "cell_type": "code",
   "execution_count": 2,
   "id": "b546fa93",
   "metadata": {},
   "outputs": [],
   "source": [
    "filename = \"/Users/liberostelios/Dropbox/CityJSON/Helsinki/CityGML_BUILDINGS_LOD2_NOTEXTURES_672496x2.json\"\n",
    "\n",
    "with open(filename) as file:\n",
    "    cm = json.load(file)\n",
    "\n",
    "if \"transform\" in cm:\n",
    "    s = cm[\"transform\"][\"scale\"]\n",
    "    t = cm[\"transform\"][\"translate\"]\n",
    "    verts = [[v[0] * s[0] + t[0], v[1] * s[1] + t[1], v[2] * s[2] + t[2]]\n",
    "            for v in cm[\"vertices\"]]\n",
    "else:\n",
    "    verts = cm[\"vertices\"]\n",
    "\n",
    "# mesh points\n",
    "vertices = np.array(verts)"
   ]
  },
  {
   "cell_type": "code",
   "execution_count": 3,
   "id": "798a644e",
   "metadata": {},
   "outputs": [],
   "source": [
    "def get_surface_boundaries(geom):\n",
    "    \"\"\"Returns the boundaries for all surfaces\"\"\"\n",
    "\n",
    "    if geom[\"type\"] == \"MultiSurface\":\n",
    "        return geom[\"boundaries\"]\n",
    "    elif geom[\"type\"] == \"Solid\":\n",
    "        return geom[\"boundaries\"][0]\n",
    "    else:\n",
    "        raise Exception(\"Geometry not supported\")\n",
    "\n",
    "def to_polydata(geom, vertices):\n",
    "    \"\"\"Returns the polydata mesh from a CityJSON geometry\"\"\"\n",
    "\n",
    "    boundaries = get_surface_boundaries(geom)\n",
    "\n",
    "    f = [[len(r[0])] + r[0] for r in [f for f in boundaries]]\n",
    "    faces = np.hstack(f)\n",
    "    print(vertices[f[9][1:]])\n",
    "\n",
    "    mesh = pv.PolyData(vertices, faces, n_faces=len(boundaries))\n",
    "\n",
    "    if \"semantics\" in geom:        \n",
    "        semantics = geom[\"semantics\"]\n",
    "        if geom[\"type\"] == \"MultiSurface\":\n",
    "            values = semantics[\"values\"]\n",
    "        else:\n",
    "            values = semantics[\"values\"][0]\n",
    "        \n",
    "        mesh[\"semantics\"] = [semantics[\"surfaces\"][i][\"type\"] for i in values]\n",
    "    \n",
    "    return mesh"
   ]
  },
  {
   "cell_type": "code",
   "execution_count": null,
   "id": "43388d2e",
   "metadata": {},
   "outputs": [],
   "source": []
  },
  {
   "cell_type": "code",
   "execution_count": 4,
   "id": "582b367b",
   "metadata": {},
   "outputs": [],
   "source": [
    "def project_2d(points, normal):\n",
    "    origin = points[0]\n",
    "    \n",
    "    if normal[2] > 0.001 or normal[2] < -0.001:\n",
    "        x_axis = [1, 0, -normal[0]/normal[2]];\n",
    "    elif normal[1] > 0.001 or normal[1] < -0.001:\n",
    "        x_axis = [1, -normal[0]/normal[1], 0];\n",
    "    else:\n",
    "        x_axis = [-normal[1] / normal[0], 1, 0];\n",
    "    \n",
    "    y_axis = np.cross(normal, x_axis)\n",
    "    \n",
    "    return[]\n",
    "     \n",
    "#     return [[np.dot(p - origin, x_axis), np.dot(p - origin, y_axis)] for p in points]\n",
    "\n",
    "def triangulate(mesh):\n",
    "    \"\"\"Triangulates a mesh in the proper way\"\"\"\n",
    "    \n",
    "    final_mesh = pv.PolyData()\n",
    "    for i in np.arange(mesh.n_cells):\n",
    "        p = project_2d(mesh.cell_points(i), mesh.face_normals[i])\n",
    "        result = earcut.triangulate_float32(p, [len(p)])\n",
    "\n",
    "        triangles = np.hstack([[3] + list(t) for t in result.reshape(-1,3)])\n",
    "        \n",
    "        new_mesh = pv.PolyData(mesh.cell_points(i), triangles)\n",
    "        for k in mesh.cell_arrays:\n",
    "            new_mesh[k] = [mesh.cell_arrays[k][i] for _ in np.arange(len(triangles)/4)]\n",
    "        \n",
    "        final_mesh = final_mesh + new_mesh\n",
    "    \n",
    "    return final_mesh"
   ]
  },
  {
   "cell_type": "code",
   "execution_count": 5,
   "id": "36cc657e",
   "metadata": {},
   "outputs": [],
   "source": [
    "# obj = \"GUID_816CA7F9-6357-447D-96E3-C74C5E47AABF_2\"\n",
    "obj = next(iter(cm[\"CityObjects\"]))\n",
    "\n",
    "building = cm[\"CityObjects\"][obj]"
   ]
  },
  {
   "cell_type": "code",
   "execution_count": 6,
   "id": "62981075",
   "metadata": {},
   "outputs": [
    {
     "name": "stdout",
     "output_type": "stream",
     "text": [
      "[[2.54971636e+07 6.67288377e+06 2.73300000e+01]\n",
      " [2.54971636e+07 6.67288377e+06 2.51100000e+01]\n",
      " [2.54971632e+07 6.67289170e+06 2.40170000e+01]\n",
      " [2.54971632e+07 6.67289170e+06 3.08000000e+00]\n",
      " [2.54971639e+07 6.67287695e+06 3.08000000e+00]\n",
      " [2.54971639e+07 6.67287695e+06 2.73300000e+01]]\n"
     ]
    },
    {
     "data": {
      "text/html": [
       "<table><tr><th>Header</th><th>Data Arrays</th></tr><tr><td>\n",
       "<table>\n",
       "<tr><th>PolyData</th><th>Information</th></tr>\n",
       "<tr><td>N Cells</td><td>23</td></tr>\n",
       "<tr><td>N Points</td><td>40</td></tr>\n",
       "<tr><td>X Bounds</td><td>2.550e+07, 2.550e+07</td></tr>\n",
       "<tr><td>Y Bounds</td><td>6.673e+06, 6.673e+06</td></tr>\n",
       "<tr><td>Z Bounds</td><td>3.080e+00, 2.733e+01</td></tr>\n",
       "<tr><td>N Arrays</td><td>1</td></tr>\n",
       "</table>\n",
       "\n",
       "</td><td>\n",
       "<table>\n",
       "<tr><th>Name</th><th>Field</th><th>Type</th><th>N Comp</th><th>Min</th><th>Max</th></tr>\n",
       "<tr><td><b>semantics</b></td><td>Cells</td><td><U13</td><td>1</td><td>nan</td><td>nan</td></tr>\n",
       "</table>\n",
       "\n",
       "</td></tr> </table>"
      ],
      "text/plain": [
       "PolyData (0x1420618e0)\n",
       "  N Cells:\t23\n",
       "  N Points:\t40\n",
       "  X Bounds:\t2.550e+07, 2.550e+07\n",
       "  Y Bounds:\t6.673e+06, 6.673e+06\n",
       "  Z Bounds:\t3.080e+00, 2.733e+01\n",
       "  N Arrays:\t1"
      ]
     },
     "execution_count": 6,
     "metadata": {},
     "output_type": "execute_result"
    }
   ],
   "source": [
    "dataset = to_polydata(building[\"geometry\"][1], vertices)\n",
    "dataset = dataset.clean()\n",
    "dataset"
   ]
  },
  {
   "cell_type": "code",
   "execution_count": 7,
   "id": "947b6dc9",
   "metadata": {},
   "outputs": [
    {
     "data": {
      "application/vnd.jupyter.widget-view+json": {
       "model_id": "75c69c213d174729b470fb2c09483378",
       "version_major": 2,
       "version_minor": 0
      },
      "text/plain": [
       "ViewInteractiveWidget(height=768, layout=Layout(height='auto', width='100%'), width=1024)"
      ]
     },
     "metadata": {},
     "output_type": "display_data"
    }
   ],
   "source": [
    "trimesh = triangulate(dataset).clean()\n",
    "trimesh.plot(show_edges=True)"
   ]
  },
  {
   "cell_type": "code",
   "execution_count": 8,
   "id": "b46029e3",
   "metadata": {
    "scrolled": false
   },
   "outputs": [
    {
     "data": {
      "application/vnd.jupyter.widget-view+json": {
       "model_id": "f5e90a6f90d840c2a6d929c1f9b76c29",
       "version_major": 2,
       "version_minor": 0
      },
      "text/plain": [
       "ViewInteractiveWidget(height=768, layout=Layout(height='auto', width='100%'), width=1024)"
      ]
     },
     "metadata": {},
     "output_type": "display_data"
    }
   ],
   "source": [
    "side = dataset.extract_cells([9])#.plot(show_edges=True, color='grey')\n",
    "\n",
    "pts = side.points\n",
    "# idx = [6, 1, 0, 4, 3, 2, 5]\n",
    "idx = [6, 5, 2, 3, 4, 0, 1]\n",
    "\n",
    "sface = pv.PolyData(pts, idx, n_faces=1)\n",
    "sface.clean().plot(show_edges=True)\n",
    "\n",
    "# side.points[[1, 0, 4, 3, 2, 5]]"
   ]
  },
  {
   "cell_type": "code",
   "execution_count": 11,
   "id": "d7364760",
   "metadata": {},
   "outputs": [],
   "source": [
    "def project_2d(points, normal):\n",
    "    origin = points[0]\n",
    "    \n",
    "    if normal[2] > 0.001 or normal[2] < -0.001:\n",
    "        x_axis = [1, 0, -normal[0]/normal[2]];\n",
    "    elif normal[1] > 0.001 or normal[1] < -0.001:\n",
    "        x_axis = [1, -normal[0]/normal[1], 0];\n",
    "    else:\n",
    "        x_axis = [-normal[1] / normal[0], 1, 0];\n",
    "    \n",
    "    y_axis = np.cross(normal, x_axis)\n",
    "     \n",
    "    return [[np.dot(p - origin, x_axis), np.dot(p - origin, y_axis)] for p in points]"
   ]
  },
  {
   "cell_type": "code",
   "execution_count": 12,
   "id": "48c9e3da",
   "metadata": {},
   "outputs": [
    {
     "data": {
      "text/plain": [
       "[[0.0, 0.0],\n",
       " [0.0, -44.665332018021125],\n",
       " [137.30414922532034, 443.2330019626153],\n",
       " [-159.80587571488664, 443.2330019626153],\n",
       " [-159.80587571488664, 21.99063418725095],\n",
       " [137.30414922532034, -44.665332018021125]]"
      ]
     },
     "execution_count": 12,
     "metadata": {},
     "output_type": "execute_result"
    }
   ],
   "source": [
    "project_2d(pts, sface.face_normals[0])"
   ]
  },
  {
   "cell_type": "code",
   "execution_count": 13,
   "id": "c0148343",
   "metadata": {},
   "outputs": [
    {
     "data": {
      "application/vnd.jupyter.widget-view+json": {
       "model_id": "a6b23c46276149bb8f1988cc0f78f0c1",
       "version_major": 2,
       "version_minor": 0
      },
      "text/plain": [
       "ViewInteractiveWidget(height=768, layout=Layout(height='auto', width='100%'), width=1024)"
      ]
     },
     "metadata": {},
     "output_type": "display_data"
    }
   ],
   "source": [
    "edges = trimesh.extract_feature_edges(boundary_edges=True,\n",
    "                           feature_edges=False,\n",
    "                           manifold_edges=False)\n",
    "\n",
    "p = pv.Plotter()\n",
    "\n",
    "p.add_mesh(trimesh)\n",
    "p.add_mesh(dataset.extract_cells([9]).triangulate())\n",
    "if trimesh.n_open_edges:\n",
    "    p.add_mesh(edges, color='black')\n",
    "\n",
    "p.show()"
   ]
  },
  {
   "cell_type": "code",
   "execution_count": 14,
   "id": "f32358cb",
   "metadata": {},
   "outputs": [
    {
     "data": {
      "application/vnd.jupyter.widget-view+json": {
       "model_id": "233b960138294a42ab05d6e25d8b6523",
       "version_major": 2,
       "version_minor": 0
      },
      "text/plain": [
       "ViewInteractiveWidget(height=768, layout=Layout(height='auto', width='100%'), width=1024)"
      ]
     },
     "metadata": {},
     "output_type": "display_data"
    }
   ],
   "source": [
    "clean = trimesh.clean()\n",
    "voxel = pv.voxelize(clean, density=clean.length/100, check_surface=False)\n",
    "voxel.plot(show_edges=True)"
   ]
  },
  {
   "cell_type": "code",
   "execution_count": 15,
   "id": "5ab5e495",
   "metadata": {},
   "outputs": [
    {
     "name": "stdout",
     "output_type": "stream",
     "text": [
      "Voxel: 12216.08386914232\n",
      "Actual: 11631.29785567844\n"
     ]
    }
   ],
   "source": [
    "print(f\"Voxel: {voxel.volume}\")\n",
    "print(f\"Actual: {trimesh.volume}\")"
   ]
  },
  {
   "cell_type": "code",
   "execution_count": 16,
   "id": "4b6eba9c",
   "metadata": {},
   "outputs": [
    {
     "data": {
      "application/vnd.jupyter.widget-view+json": {
       "model_id": "d559ad5eb7cb412ab6e96e5c364edfa1",
       "version_major": 2,
       "version_minor": 0
      },
      "text/plain": [
       "ViewInteractiveWidget(height=768, layout=Layout(height='auto', width='100%'), width=1024)"
      ]
     },
     "metadata": {},
     "output_type": "display_data"
    }
   ],
   "source": [
    "p = pv.Plotter()\n",
    "\n",
    "p.add_mesh(voxel, opacity=0.2, show_edges=True)\n",
    "p.add_mesh(pv.PolyData(np.mean(voxel.cell_centers().points, axis=0)), color='white')\n",
    "\n",
    "p.show()"
   ]
  },
  {
   "cell_type": "code",
   "execution_count": 17,
   "id": "89a58df5",
   "metadata": {},
   "outputs": [],
   "source": [
    "from helpers.minimumBoundingBox import MinimumBoundingBox"
   ]
  },
  {
   "cell_type": "code",
   "execution_count": 18,
   "id": "a51e8b74",
   "metadata": {},
   "outputs": [
    {
     "data": {
      "text/plain": [
       "604.9247202999668"
      ]
     },
     "execution_count": 18,
     "metadata": {},
     "output_type": "execute_result"
    }
   ],
   "source": [
    "obb_2d = MinimumBoundingBox([(p[0], p[1]) for p in dataset.clean().points])\n",
    "obb_2d.area"
   ]
  },
  {
   "cell_type": "code",
   "execution_count": 19,
   "id": "0d67fb8d",
   "metadata": {},
   "outputs": [
    {
     "data": {
      "text/plain": [
       "604.9247202999668"
      ]
     },
     "execution_count": 19,
     "metadata": {},
     "output_type": "execute_result"
    }
   ],
   "source": [
    "obb_2d.area"
   ]
  },
  {
   "cell_type": "code",
   "execution_count": 20,
   "id": "14713f19",
   "metadata": {},
   "outputs": [],
   "source": [
    "ground_z = np.min(dataset.clean().points[:, 2])\n",
    "height = np.max(dataset.clean().points[:, 2]) - ground_z\n",
    "box = np.array([[p[0], p[1], ground_z] for p in list(obb_2d.corner_points)])"
   ]
  },
  {
   "cell_type": "code",
   "execution_count": 21,
   "id": "eecff725",
   "metadata": {},
   "outputs": [],
   "source": [
    "obb = pv.PolyData(box).delaunay_2d()\n",
    "pts = obb.points\n",
    "\n",
    "t = np.mean(pts, axis=0)\n",
    "\n",
    "obb.points = obb.points - t\n",
    "obb = obb.extrude([0.0, 0.0, height])\n",
    "obb.points = obb.points + t"
   ]
  },
  {
   "cell_type": "code",
   "execution_count": 30,
   "id": "7df0cdae",
   "metadata": {},
   "outputs": [
    {
     "data": {
      "application/vnd.jupyter.widget-view+json": {
       "model_id": "d14b0ea6980a4c3b8c853fde9bdaa810",
       "version_major": 2,
       "version_minor": 0
      },
      "text/plain": [
       "ViewInteractiveWidget(height=768, layout=Layout(height='auto', width='100%'), width=1024)"
      ]
     },
     "metadata": {},
     "output_type": "display_data"
    }
   ],
   "source": [
    "p = pv.Plotter()\n",
    "\n",
    "p.add_mesh(obb, opacity=0.3)\n",
    "p.add_mesh(trimesh)\n",
    "\n",
    "p.show()"
   ]
  },
  {
   "cell_type": "code",
   "execution_count": 25,
   "id": "0b0549a3",
   "metadata": {},
   "outputs": [
    {
     "data": {
      "text/plain": [
       "178300040.24164733"
      ]
     },
     "execution_count": 25,
     "metadata": {},
     "output_type": "execute_result"
    }
   ],
   "source": [
    "dataset.clean().triangulate().volume"
   ]
  },
  {
   "cell_type": "code",
   "execution_count": 26,
   "id": "86415603",
   "metadata": {},
   "outputs": [],
   "source": [
    "m = MeshFix(obb.clean().triangulate())\n",
    "m.repair()\n",
    "fixed_obb = m.mesh"
   ]
  },
  {
   "cell_type": "code",
   "execution_count": 27,
   "id": "95d4d9e3",
   "metadata": {},
   "outputs": [
    {
     "data": {
      "text/plain": [
       "14669.424465904782"
      ]
     },
     "execution_count": 27,
     "metadata": {},
     "output_type": "execute_result"
    }
   ],
   "source": [
    "pv.PolyData(box).delaunay_2d().area * height"
   ]
  },
  {
   "cell_type": "code",
   "execution_count": 28,
   "id": "b6bd44be",
   "metadata": {},
   "outputs": [
    {
     "data": {
      "text/plain": [
       "array([3, 3, 2, 1, 3, 7, 6, 5, 3, 3, 1, 0, 3, 7, 5, 4])"
      ]
     },
     "execution_count": 28,
     "metadata": {},
     "output_type": "execute_result"
    }
   ],
   "source": [
    "obb.faces"
   ]
  },
  {
   "cell_type": "code",
   "execution_count": 29,
   "id": "8e8d6711",
   "metadata": {},
   "outputs": [
    {
     "data": {
      "text/plain": [
       "[array([25497178.057, 6672901.955, 22.019]),\n",
       " array([25497157.657, 6672897.673, 21.771]),\n",
       " array([25497165.379, 6672860.054, 36.077]),\n",
       " array([25497185.779, 6672864.335, 36.325]),\n",
       " array([25497160.392, 6672886.438, -9.251]),\n",
       " array([25497180.792, 6672890.719, -9.003]),\n",
       " array([25497188.514, 6672853.100, 5.302]),\n",
       " array([25497168.114, 6672848.818, 5.054])]"
      ]
     },
     "execution_count": 29,
     "metadata": {},
     "output_type": "execute_result"
    }
   ],
   "source": [
    "from pyobb.obb import OBB\n",
    "\n",
    "obb_full_3d = OBB.build_from_points(dataset.clean().points)\n",
    "obb_full_3d.points"
   ]
  }
 ],
 "metadata": {
  "kernelspec": {
   "display_name": "Python 3",
   "language": "python",
   "name": "python3"
  },
  "language_info": {
   "codemirror_mode": {
    "name": "ipython",
    "version": 3
   },
   "file_extension": ".py",
   "mimetype": "text/x-python",
   "name": "python",
   "nbconvert_exporter": "python",
   "pygments_lexer": "ipython3",
   "version": "3.9.5"
  },
  "toc-autonumbering": false,
  "toc-showcode": false,
  "toc-showmarkdowntxt": false
 },
 "nbformat": 4,
 "nbformat_minor": 5
}
